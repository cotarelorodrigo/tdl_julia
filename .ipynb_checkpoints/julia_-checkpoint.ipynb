{
 "cells": [
  {
   "cell_type": "markdown",
   "metadata": {},
   "source": [
    "# ORIGEN"
   ]
  },
  {
   "cell_type": "markdown",
   "metadata": {},
   "source": [
    "\n",
    " <img src=\"http://news.mit.edu/sites/mit.edu.newsoffice/files/images/2016/juliacon-mit-csail_0.jpeg\" wirdth='400'>\n"
   ]
  },
  {
   "cell_type": "markdown",
   "metadata": {},
   "source": [
    "The JuliaCon academic conference for Julia users and developers has been held annually since 2014."
   ]
  },
  {
   "cell_type": "markdown",
   "metadata": {},
   "source": [
    "Usualmente los lenguajes de programacion para computación numerica se dividen entre:\n",
    "\n",
    "- Estaticos como C que son rápidos en ejecucion pero lentos en el desarrollo.\n",
    "\n",
    "- Dinámicos como Python que son rápidos en el desarrollo pero lentos en ejecucuion.\n",
    "\n",
    "Julia busca ofrecer lo mejor de los dos mundos.\n",
    "\n",
    "Es un lenguaje nuevo, empezó a trabajarse en él en el 2009.\n",
    "\n",
    "Sus creadores son Jeff Bezanson, Stefan Karpinski, Viral B. Shah  y Alan Edelman.\n",
    "\n",
    "La primera versión pública se lanzó en el 2012.\n",
    "\n",
    "En 2015 se establece Julia computing para proveer soporte y entrenamiento pago.\n",
    "\n",
    "Para Enero del 2018 tenía alrededor de 1.800.000 descargas."
   ]
  },
  {
   "cell_type": "markdown",
   "metadata": {},
   "source": [
    "# Para que sirve"
   ]
  },
  {
   "cell_type": "markdown",
   "metadata": {
    "collapsed": true
   },
   "source": []
  },
  {
   "cell_type": "markdown",
   "metadata": {},
   "source": [
    "# Caracteristicas basicas del lenguaje"
   ]
  },
  {
   "cell_type": "markdown",
   "metadata": {
    "collapsed": true
   },
   "source": [
    "Tipos definidos por usuarios son tan rápidos y compctos como los Built-ins\n",
    "\n",
    "Llama funciones C directamente (no se necesitan wrappers ni API's especiales)"
   ]
  },
  {
   "cell_type": "code",
   "execution_count": null,
   "metadata": {},
   "outputs": [],
   "source": []
  },
  {
   "cell_type": "markdown",
   "metadata": {},
   "source": [
    "### Variables"
   ]
  },
  {
   "cell_type": "code",
   "execution_count": null,
   "metadata": {},
   "outputs": [],
   "source": [
    "miVariable = 1"
   ]
  },
  {
   "cell_type": "code",
   "execution_count": null,
   "metadata": {},
   "outputs": [],
   "source": [
    "miVariable = miVariable + 5"
   ]
  },
  {
   "cell_type": "code",
   "execution_count": null,
   "metadata": {},
   "outputs": [],
   "source": [
    "δ = 0.00001"
   ]
  },
  {
   "cell_type": "code",
   "execution_count": null,
   "metadata": {},
   "outputs": [],
   "source": [
    "δ = \"Hola a todos y todas\""
   ]
  },
  {
   "cell_type": "code",
   "execution_count": null,
   "metadata": {},
   "outputs": [],
   "source": [
    "# Constantes matemáticas\n",
    "π"
   ]
  },
  {
   "cell_type": "code",
   "execution_count": null,
   "metadata": {},
   "outputs": [],
   "source": [
    "miVariable = 2*π + 0.12"
   ]
  },
  {
   "cell_type": "code",
   "execution_count": null,
   "metadata": {},
   "outputs": [],
   "source": [
    "miVariable = miVariable + Inf"
   ]
  },
  {
   "cell_type": "code",
   "execution_count": null,
   "metadata": {},
   "outputs": [],
   "source": [
    "miVariable = miVariable + -Inf"
   ]
  },
  {
   "cell_type": "code",
   "execution_count": null,
   "metadata": {},
   "outputs": [],
   "source": [
    "# soporte para números irracionales\n",
    "res = (1 + 4im)*(2 - 3im)"
   ]
  },
  {
   "cell_type": "code",
   "execution_count": null,
   "metadata": {},
   "outputs": [],
   "source": [
    "cos(res)"
   ]
  },
  {
   "cell_type": "code",
   "execution_count": null,
   "metadata": {},
   "outputs": [],
   "source": [
    "# A diferencia de otros  lenguajes que soportan el paradigma funcional, Julia permite redefinir no solamente \n",
    "# variables sino también hasta sus propias constantes\n",
    "π = 3.14"
   ]
  },
  {
   "cell_type": "code",
   "execution_count": 2,
   "metadata": {},
   "outputs": [
    {
     "data": {
      "text/plain": [
       "3"
      ]
     },
     "execution_count": 2,
     "metadata": {},
     "output_type": "execute_result"
    }
   ],
   "source": [
    "tup = (1, 2, 3) \n",
    "length(tup)"
   ]
  },
  {
   "cell_type": "code",
   "execution_count": null,
   "metadata": {},
   "outputs": [],
   "source": [
    "in(4, tup) # => true"
   ]
  },
  {
   "cell_type": "code",
   "execution_count": null,
   "metadata": {},
   "outputs": [],
   "source": [
    "d, e, f = 4, 5, 6 "
   ]
  },
  {
   "cell_type": "code",
   "execution_count": null,
   "metadata": {},
   "outputs": [],
   "source": [
    "e, d = d, e\n",
    "e, d"
   ]
  },
  {
   "cell_type": "code",
   "execution_count": null,
   "metadata": {},
   "outputs": [],
   "source": [
    "# números racionales\n",
    "1//3"
   ]
  },
  {
   "cell_type": "code",
   "execution_count": null,
   "metadata": {},
   "outputs": [],
   "source": [
    "float(1//3)"
   ]
  },
  {
   "cell_type": "markdown",
   "metadata": {},
   "source": [
    "#### Manejo de errores simple\n",
    "Acá habría que agregar algún otro ejemplo, capaz"
   ]
  },
  {
   "cell_type": "code",
   "execution_count": 1,
   "metadata": {},
   "outputs": [
    {
     "ename": "LoadError",
     "evalue": "UndefVarError: tup not defined",
     "output_type": "error",
     "traceback": [
      "UndefVarError: tup not defined",
      ""
     ]
    }
   ],
   "source": [
    "tup[1] # => 1\n",
    "try:\n",
    "    tup[1] = 3 # MethodError\n",
    "catch e\n",
    "    println(e)\n",
    "end"
   ]
  },
  {
   "cell_type": "markdown",
   "metadata": {},
   "source": [
    "### Funciones y argumentos\n",
    "Los argumentos en Julia se pasan siguiendo una convención que suele llamarse \"pass-by-sharing\". Esto significa que no se pasan por copia, sino que los argumentos funcionan en sí mismos como una nueva variable que tiene idéntico valor al que ha sido pasado.\n",
    "Así, la modificación de variables mutables como Arrays será visible para la función caller (esto mismo sucede en Lisps, Python, Ruby entre otros).\n",
    "\n",
    "https://www.youtube.com/watch?v=1YFss_4B_o4\n"
   ]
  },
  {
   "cell_type": "code",
   "execution_count": 3,
   "metadata": {},
   "outputs": [
    {
     "data": {
      "text/plain": [
       "7"
      ]
     },
     "execution_count": 3,
     "metadata": {},
     "output_type": "execute_result"
    }
   ],
   "source": [
    "(x -> x^2 + 2x - 1)(2)"
   ]
  },
  {
   "cell_type": "code",
   "execution_count": null,
   "metadata": {},
   "outputs": [],
   "source": [
    "map(x -> x^2 + 2x - 1, [1,3,-1])"
   ]
  },
  {
   "cell_type": "code",
   "execution_count": null,
   "metadata": {},
   "outputs": [],
   "source": [
    "function foo(a,b)\n",
    "           a+b, a*b\n",
    "end\n",
    "x, y = foo(2,3)"
   ]
  },
  {
   "cell_type": "code",
   "execution_count": null,
   "metadata": {},
   "outputs": [],
   "source": [
    "function default(a,b,x=5,y=6)\n",
    "    return \"$a $b and $x $y\"\n",
    "end\n",
    "\n",
    "default('h','g')"
   ]
  },
  {
   "cell_type": "code",
   "execution_count": null,
   "metadata": {},
   "outputs": [],
   "source": [
    "default('h', 'g', 'i')"
   ]
  },
  {
   "cell_type": "code",
   "execution_count": null,
   "metadata": {},
   "outputs": [],
   "source": [
    "# acá faltan mencionar cosas y posiblemente explicar un poco más del\n",
    "# pasaje de argumentos"
   ]
  },
  {
   "cell_type": "markdown",
   "metadata": {},
   "source": [
    "## Paradigmas que soporta\n",
    "### Funcional"
   ]
  },
  {
   "cell_type": "code",
   "execution_count": 4,
   "metadata": {},
   "outputs": [
    {
     "data": {
      "text/plain": [
       "5-element Array{Int64,1}:\n",
       "  1\n",
       "  4\n",
       "  9\n",
       " 16\n",
       " 25"
      ]
     },
     "execution_count": 4,
     "metadata": {},
     "output_type": "execute_result"
    }
   ],
   "source": [
    "map(x -> x^2, (1:5))"
   ]
  },
  {
   "cell_type": "code",
   "execution_count": 5,
   "metadata": {},
   "outputs": [
    {
     "data": {
      "text/plain": [
       "15-element Array{Int64,1}:\n",
       "  2\n",
       "  3\n",
       "  5\n",
       "  7\n",
       " 11\n",
       " 13\n",
       " 17\n",
       " 19\n",
       " 23\n",
       " 29\n",
       " 31\n",
       " 37\n",
       " 41\n",
       " 43\n",
       " 47"
      ]
     },
     "execution_count": 5,
     "metadata": {},
     "output_type": "execute_result"
    }
   ],
   "source": [
    "filter(isprime, (1:50))"
   ]
  },
  {
   "cell_type": "code",
   "execution_count": null,
   "metadata": {},
   "outputs": [],
   "source": [
    "# dejo acá abajo la implementación de MergeSort que puede servirnos pasarla a Julia para comparar con OZ\n",
    "PROBLEMA 3 MERGESORT\n",
    "local SplitX MergeX MergeSortX L1 L2 in\n",
    "   fun {MergeX L1 L2}\n",
    "      case L1#L2 of\n",
    "     nil#L2 then L2\n",
    "      [] L1#nil then L1\n",
    "      [] (X|Xr)# (Y|Yr) then\n",
    "     if X<Y then X|{MergeX Xr L2}\n",
    "     else\n",
    "        Y|{MergeX L1 Yr}\n",
    "     end\n",
    "      end\n",
    "   end\n",
    "   proc {SplitX L R1 R2}\n",
    "      case L of\n",
    "     X|Y|Ls then\n",
    "     local Xs Ys in\n",
    "        R1 = X|Xs\n",
    "        R2 = Y|Ys\n",
    "        {SplitX Ls Xs Ys}\n",
    "     end\n",
    "      []\n",
    "     X then R1=L R2=nil\n",
    "      []\n",
    "     nil then R1=nil R2=nil\n",
    "      end\n",
    "   end\n",
    "   fun {MergeSortX L}\n",
    "      case L of nil then nil\n",
    "      [] [X] then L\n",
    "      else\n",
    "     local Xs Ys in\n",
    "        {SplitX L Xs Ys}\n",
    "        {MergeX {MergeSortX Xs} {MergeSortX Ys}}\n",
    "     end\n",
    "      end\n",
    "   end\n",
    "   L1 = [10 5 30 33 3 54 40 022 5054 200 1000 51]\n",
    "   L2 = {MergeSortX L1}\n",
    "   {Browse L2}\n",
    "end\n"
   ]
  },
  {
   "cell_type": "markdown",
   "metadata": {},
   "source": [
    "### Orientado a objetos\n"
   ]
  },
  {
   "cell_type": "code",
   "execution_count": null,
   "metadata": {},
   "outputs": [],
   "source": [
    "type Tiger\n",
    "  largo_de_cola::Float64\n",
    "  color_de_pelaje # si no se incluye el tipo, se asigna automáticamente `::Any`\n",
    "end"
   ]
  },
  {
   "cell_type": "code",
   "execution_count": null,
   "metadata": {},
   "outputs": [],
   "source": [
    "abstract Feline # Declaramos una clase abstracta sin comportamiento"
   ]
  },
  {
   "cell_type": "code",
   "execution_count": 6,
   "metadata": {},
   "outputs": [
    {
     "ename": "LoadError",
     "evalue": "UndefVarError: Feline not defined",
     "output_type": "error",
     "traceback": [
      "UndefVarError: Feline not defined",
      ""
     ]
    }
   ],
   "source": [
    "type Panther <: Feline # Panther is also a subtype of Cat\n",
    "    color_de_ojos\n",
    "    color_de_pelaje\n",
    "  Panther() = new(\"green\", \"black\")\n",
    "  # Panthers will only have this constructor, and no default constructor.\n",
    "end\n",
    "# hasta acá llegué, después lo sigo!"
   ]
  },
  {
   "cell_type": "markdown",
   "metadata": {},
   "source": [
    "# Caracteristicas avanzadas del lenguaje"
   ]
  },
  {
   "cell_type": "markdown",
   "metadata": {},
   "source": [
    "Diseñado para paralelismo y computción distribuida\n",
    "\n",
    "Corutinas también llamadas: Lightweight threading\n",
    "\n",
    "Macros parecidos a los de Lisp y otras facilidades para metaprogramacion\n",
    "\n",
    "Acepta multiple dispach"
   ]
  },
  {
   "cell_type": "code",
   "execution_count": null,
   "metadata": {},
   "outputs": [],
   "source": []
  },
  {
   "cell_type": "markdown",
   "metadata": {},
   "source": [
    "# Paralelismo"
   ]
  },
  {
   "cell_type": "markdown",
   "metadata": {
    "collapsed": true
   },
   "source": [
    "El paralelismo en Julia se hace por CPU, no GPU.\n",
    "\n",
    "Implementa el patrón de actores.\n",
    "\n",
    "Los procesos se llaman Workers con un ID específico."
   ]
  },
  {
   "cell_type": "code",
   "execution_count": 21,
   "metadata": {},
   "outputs": [
    {
     "name": "stdout",
     "output_type": "stream",
     "text": [
      "1\n",
      "2\n"
     ]
    }
   ],
   "source": [
    "println(nprocs())\n",
    "addprocs(1)\n",
    "println(nprocs())"
   ]
  },
  {
   "cell_type": "markdown",
   "metadata": {},
   "source": [
    "La programación paralela en Julia está construida sobre dos primitivas:\n",
    "\n",
    "remotes references y remotes calls"
   ]
  },
  {
   "cell_type": "code",
   "execution_count": 7,
   "metadata": {},
   "outputs": [
    {
     "name": "stdout",
     "output_type": "stream",
     "text": [
      "5\n"
     ]
    }
   ],
   "source": [
    "for w in workers()\n",
    "    rref=remotecall(myid, w)\n",
    "    sleep(1)\n",
    "    println(fetch(rref))\n",
    "end"
   ]
  },
  {
   "cell_type": "code",
   "execution_count": 29,
   "metadata": {},
   "outputs": [
    {
     "name": "stdout",
     "output_type": "stream",
     "text": [
      "55002896\n"
     ]
    }
   ],
   "source": [
    "@everywhere function random_num(n)\n",
    "    c::Int = 0\n",
    "    for i = 1:n\n",
    "        c += rand(Bool)\n",
    "    end\n",
    "    c\n",
    "end\n",
    "\n",
    "a = @spawn random_num(100000000)\n",
    "\n",
    "b = @spawn random_num(10000000)\n",
    "\n",
    "println(fetch(a)+fetch(b)) #reducción"
   ]
  },
  {
   "cell_type": "code",
   "execution_count": 30,
   "metadata": {},
   "outputs": [
    {
     "data": {
      "text/plain": [
       "99997168"
      ]
     },
     "execution_count": 30,
     "metadata": {},
     "output_type": "execute_result"
    }
   ],
   "source": [
    "nheads = @parallel (+) for i=1:200000000\n",
    "  Int(rand(Bool))\n",
    "end"
   ]
  },
  {
   "cell_type": "code",
   "execution_count": 31,
   "metadata": {},
   "outputs": [
    {
     "data": {
      "text/plain": [
       "100000-element Array{Float64,1}:\n",
       " 0.0\n",
       " 0.0\n",
       " 0.0\n",
       " 0.0\n",
       " 0.0\n",
       " 0.0\n",
       " 0.0\n",
       " 0.0\n",
       " 0.0\n",
       " 0.0\n",
       " 0.0\n",
       " 0.0\n",
       " 0.0\n",
       " ⋮  \n",
       " 0.0\n",
       " 0.0\n",
       " 0.0\n",
       " 0.0\n",
       " 0.0\n",
       " 0.0\n",
       " 0.0\n",
       " 0.0\n",
       " 0.0\n",
       " 0.0\n",
       " 0.0\n",
       " 0.0"
      ]
     },
     "execution_count": 31,
     "metadata": {},
     "output_type": "execute_result"
    }
   ],
   "source": [
    "a = zeros(100000)\n",
    "@parallel for i=1:100000\n",
    "  a[i] = i\n",
    "end\n",
    "a"
   ]
  },
  {
   "cell_type": "code",
   "execution_count": 32,
   "metadata": {},
   "outputs": [
    {
     "data": {
      "text/plain": [
       "100000-element SharedArray{Float64,1}:\n",
       "      1.0\n",
       "      2.0\n",
       "      3.0\n",
       "      4.0\n",
       "      5.0\n",
       "      6.0\n",
       "      7.0\n",
       "      8.0\n",
       "      9.0\n",
       "     10.0\n",
       "     11.0\n",
       "     12.0\n",
       "     13.0\n",
       "      ⋮  \n",
       "  99989.0\n",
       "  99990.0\n",
       "  99991.0\n",
       "  99992.0\n",
       "  99993.0\n",
       "  99994.0\n",
       "  99995.0\n",
       "  99996.0\n",
       "  99997.0\n",
       "  99998.0\n",
       "  99999.0\n",
       " 100000.0"
      ]
     },
     "execution_count": 32,
     "metadata": {},
     "output_type": "execute_result"
    }
   ],
   "source": [
    "a = SharedArray(Float64, 100000)\n",
    "@parallel for i=1:100000\n",
    "  a[i] = i\n",
    "end\n",
    "a"
   ]
  },
  {
   "cell_type": "code",
   "execution_count": 37,
   "metadata": {},
   "outputs": [
    {
     "name": "stdout",
     "output_type": "stream",
     "text": [
      "\tFrom worker 6:\tjob 3\n",
      "\tFrom worker 7:\tjob 2\n",
      "\tFrom worker 8:\tjob 1\n",
      "\tFrom worker 6:\tjob 4\n",
      "\tFrom worker 7:\tjob 5\n",
      "\tFrom worker 8:\tjob 6\n",
      "\tFrom worker 6:\tjob 7\n",
      "\tFrom worker 7:\tjob 8\n",
      "\tFrom worker 6:\tjob 10\n",
      "\tFrom worker 8:\tjob 9\n",
      "\tFrom worker 7:\tjob 11\n",
      "\tFrom worker 6:\tjob 12\n"
     ]
    },
    {
     "data": {
      "text/plain": [
       "12-element Array{Void,1}:\n",
       " nothing\n",
       " nothing\n",
       " nothing\n",
       " nothing\n",
       " nothing\n",
       " nothing\n",
       " nothing\n",
       " nothing\n",
       " nothing\n",
       " nothing\n",
       " nothing\n",
       " nothing"
      ]
     },
     "execution_count": 37,
     "metadata": {},
     "output_type": "execute_result"
    }
   ],
   "source": [
    "@everywhere begin\n",
    "    function parallel_func(idx)\n",
    "        workernum = myid() - 1 \n",
    "        sleep(workernum)\n",
    "        println(\"job $idx\")\n",
    "    end\n",
    "end\n",
    "\n",
    "pmap(parallel_func, 1:12)"
   ]
  },
  {
   "cell_type": "code",
   "execution_count": 39,
   "metadata": {},
   "outputs": [
    {
     "name": "stdout",
     "output_type": "stream",
     "text": [
      "40\n",
      "0\n",
      "1\n",
      "2\n",
      "3\n",
      "4\n",
      "5\n",
      "6\n",
      "7\n",
      "8\n",
      "9\n",
      "10\n",
      "termine\n"
     ]
    }
   ],
   "source": [
    "@sync begin\n",
    "    @async for y in 0:10 println(y) end\n",
    "    x=40\n",
    "    println(x)\n",
    "end\n",
    "println(\"termine\")"
   ]
  },
  {
   "cell_type": "code",
   "execution_count": 33,
   "metadata": {},
   "outputs": [
    {
     "name": "stdout",
     "output_type": "stream",
     "text": [
      "false\n",
      "Task (runnable) @0x00007fb443677490\n",
      "1\n",
      "2\n",
      "4\n",
      "Any[nothing]\n"
     ]
    }
   ],
   "source": [
    "# Se genera la lista de tasks\n",
    "t = @task Any[ for x in [1,2,4] println(x) end ]\n",
    "\n",
    "# No hay tasks?\n",
    "println(istaskdone(t))\n",
    "\n",
    "# Cual es la siguiente task?\n",
    "println(current_task())\n",
    "\n",
    "# Ejecutar task\n",
    "println(consume(t))"
   ]
  },
  {
   "cell_type": "code",
   "execution_count": null,
   "metadata": {},
   "outputs": [
    {
     "name": "stdout",
     "output_type": "stream",
     "text": [
      "3\n",
      "4\n",
      "5\n",
      "6\n"
     ]
    }
   ],
   "source": [
    "c1 = Channel(32)\n",
    "put!(c1,3)\n",
    "put!(c1,4)\n",
    "c2 = Channel(32)\n",
    "\n",
    "# foo() lee un item de c1, lo imprime y lo escribe en c2\n",
    "function foo()\n",
    "    while true\n",
    "        data = take!(c1)\n",
    "        println(data)\n",
    "        result = data + 2\n",
    "        put!(c2, result)   \n",
    "    end\n",
    "end\n",
    "\n",
    "# con @schedule podemos hacer que varias instancias de foo() estén activas concurrentemente.\n",
    "for i in 1:3\n",
    "    @schedule foo()\n",
    "end\n",
    "\n",
    "for i in 1:3\n",
    "    data= take!(c2)\n",
    "    println(data)\n",
    "end"
   ]
  },
  {
   "cell_type": "code",
   "execution_count": 1,
   "metadata": {
    "scrolled": true
   },
   "outputs": [
    {
     "name": "stdout",
     "output_type": "stream",
     "text": [
      "i = 1\n",
      "i = 2\n",
      "i = 3\n",
      "i = 4\n"
     ]
    },
    {
     "data": {
      "text/plain": [
       "false"
      ]
     },
     "execution_count": 1,
     "metadata": {},
     "output_type": "execute_result"
    }
   ],
   "source": [
    "c = Channel(0)\n",
    "\n",
    "task = @schedule foreach(i->put!(c, i), 1:4)\n",
    "\n",
    "bind(c,task)\n",
    "\n",
    "for i in c\n",
    "    @show i\n",
    "end\n",
    "\n",
    "isopen(c)"
   ]
  },
  {
   "cell_type": "markdown",
   "metadata": {},
   "source": [
    "### Machine Learning\n",
    "#### KMeans: se inicializan k-centroides y se asigna a cada punto del set de datos el centroide más cercano. Se recalculan los centroides como promedio de todos los puntos y se repite hasta lograr la convergencia."
   ]
  },
  {
   "cell_type": "code",
   "execution_count": null,
   "metadata": {},
   "outputs": [],
   "source": [
    "using RDatasets\n",
    "xclara = dataset(\"cluster\", \"xclara\")\n",
    "size(xclara)"
   ]
  },
  {
   "cell_type": "code",
   "execution_count": null,
   "metadata": {},
   "outputs": [],
   "source": [
    "# Aca tambien es necesario tener plotly: pip install plotly\n",
    "# y Pkg.add(\"PyPlot\")\n",
    "\n",
    "x = xclara[:V1]\n",
    "y = xclara[:V2]\n",
    "using Plots\n",
    "scatter(x, y ,alpha=0.5)"
   ]
  },
  {
   "cell_type": "code",
   "execution_count": null,
   "metadata": {},
   "outputs": [],
   "source": [
    "using Clustering\n",
    "\n",
    "xclara = convert(Array, xclara)\n",
    "xclara = xclara'\n",
    "#xclara_kmeans = kmeans(Float64.(xclara), 3)\n",
    "xclara_kmeans = kmeans(xclara, 3)"
   ]
  },
  {
   "cell_type": "markdown",
   "metadata": {},
   "source": [
    "#### KNN\n"
   ]
  },
  {
   "cell_type": "code",
   "execution_count": null,
   "metadata": {},
   "outputs": [],
   "source": []
  },
  {
   "cell_type": "markdown",
   "metadata": {},
   "source": [
    "# Ejemplos"
   ]
  },
  {
   "cell_type": "code",
   "execution_count": null,
   "metadata": {
    "collapsed": true
   },
   "outputs": [],
   "source": []
  },
  {
   "cell_type": "markdown",
   "metadata": {},
   "source": [
    "# Estadisticas"
   ]
  },
  {
   "cell_type": "markdown",
   "metadata": {
    "collapsed": true
   },
   "source": []
  },
  {
   "cell_type": "markdown",
   "metadata": {},
   "source": [
    "# Comparacion otros lenguajes"
   ]
  },
  {
   "cell_type": "markdown",
   "metadata": {
    "collapsed": true
   },
   "source": [
    "Julia vs Python\n",
    "\n",
    "Ventajas de Juila:\n",
    "\n",
    "- Rapido por default.\n",
    "\n",
    "- Sintaxis amigable para matemáticas.\n",
    "\n",
    "- No se pierde el manejo automatico de memoria.\n",
    "\n",
    "- Paralelismo."
   ]
  },
  {
   "cell_type": "markdown",
   "metadata": {},
   "source": [
    "Ventajas de Python:\n",
    "\n",
    "- Los arrays de Julia son indexados a partir del 1.\n",
    "\n",
    "- Julia todavía es un lenguaje muy nuevo.\n",
    "\n",
    "- Python tiene más paquetes creados para el lenguaje.\n",
    "\n",
    "- Python tiene una comunidad más grande."
   ]
  },
  {
   "cell_type": "markdown",
   "metadata": {},
   "source": [
    "#### Comparación con Python: cálculo de la traza de una matriz de 10mil x 10mil"
   ]
  },
  {
   "cell_type": "code",
   "execution_count": null,
   "metadata": {},
   "outputs": [],
   "source": [
    "# Ojo cuando corran esto. Puede que se rompa todo. Capaz lo mejor\n",
    "# sea llevarlo ya resuelto en una imagen\n",
    "using Distributions\n",
    "m = 10000\n",
    "matrix = rand(Uniform(0.0, 10.0), m, m)"
   ]
  },
  {
   "cell_type": "code",
   "execution_count": null,
   "metadata": {},
   "outputs": [],
   "source": [
    "n = 0;\n",
    "for i in [1:100]\n",
    "    tic()\n",
    "    trace(matrix)\n",
    "    aux = toq()\n",
    "    n = n + aux\n",
    "end\n",
    "\n",
    "n/100"
   ]
  },
  {
   "cell_type": "markdown",
   "metadata": {},
   "source": [
    "Python:\n",
    "\n",
    "<img src=\"images/tp01.jpg\">"
   ]
  },
  {
   "cell_type": "markdown",
   "metadata": {},
   "source": [
    "# Casos de estudios"
   ]
  },
  {
   "cell_type": "markdown",
   "metadata": {},
   "source": [
    "En 2015, el banco de reserva federal de nueva york uso julia para hacer modelos de la economía de los estados unidos.\n",
    "\n",
    "    Notaron que el modelo hecho con el lenguaje era 10 veces más rapido que el anterior (hecho con MATLAB) \n",
    "\n",
    "El proyecto Celste uso Julia para lograr rendimiento pico de 1.54 de petaFLOPS usando 1.3 millones de threads."
   ]
  },
  {
   "cell_type": "markdown",
   "metadata": {},
   "source": [
    "# Conclusion"
   ]
  },
  {
   "cell_type": "markdown",
   "metadata": {
    "collapsed": true
   },
   "source": []
  }
 ],
 "metadata": {
  "celltoolbar": "Raw Cell Format",
  "kernelspec": {
   "display_name": "Julia 0.4.7",
   "language": "julia",
   "name": "julia-0.4"
  },
  "language_info": {
   "file_extension": ".jl",
   "mimetype": "application/julia",
   "name": "julia",
   "version": "0.4.7"
  }
 },
 "nbformat": 4,
 "nbformat_minor": 2
}
