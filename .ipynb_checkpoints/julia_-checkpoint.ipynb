{
 "cells": [
  {
   "cell_type": "markdown",
   "metadata": {},
   "source": [
    "# ORIGEN"
   ]
  },
  {
   "cell_type": "markdown",
   "metadata": {},
   "source": [
    "\n",
    " <img src=\"http://news.mit.edu/sites/mit.edu.newsoffice/files/images/2016/juliacon-mit-csail_0.jpeg\" wirdth='400'>\n"
   ]
  },
  {
   "cell_type": "markdown",
   "metadata": {},
   "source": [
    "The JuliaCon academic conference for Julia users and developers has been held annually since 2014."
   ]
  },
  {
   "cell_type": "markdown",
   "metadata": {},
   "source": [
    "Usualmente los lenguajes de programacion para computación numerica se dividen entre:\n",
    "\n",
    "_Estaticos como C que son rápidos en ejecucion pero lentos en el desarrollo.\n",
    "\n",
    "_Dinámicos como Python que son rápidos en el desarrollo pero lentos en ejecucuion.\n",
    "\n",
    "Julia busca ofrecer lo mejor de los dos mundos.\n",
    "\n",
    "Es un lenguaje nuevo, empezó a trabajarse en él en el 2009.\n",
    "\n",
    "Sus creadores son Jeff Bezanson, Stefan Karpinski, Viral B. Shah  y Alan Edelman.\n",
    "\n",
    "La primera versión pública se lanzó en el 2012.\n",
    "\n",
    "En 2015 se establece Julia computing para proveer soporte y entrenamiento pago.\n",
    "\n",
    "Para Enero del 2018 tenía alrededor de 1.800.000 descargas."
   ]
  },
  {
   "cell_type": "markdown",
   "metadata": {},
   "source": [
    "# Para que sirve"
   ]
  },
  {
   "cell_type": "markdown",
   "metadata": {
    "collapsed": true
   },
   "source": []
  },
  {
   "cell_type": "markdown",
   "metadata": {},
   "source": [
    "# Caracteristicas basicas del lenguaje"
   ]
  },
  {
   "cell_type": "markdown",
   "metadata": {
    "collapsed": true
   },
   "source": [
    "Tipos definidos por usuarios son tan rápidos y compctos como los Built-ins\n",
    "\n",
    "Llama funciones C directamente (no se necesitan wrappers ni API's especiales)"
   ]
  },
  {
   "cell_type": "code",
   "execution_count": null,
   "metadata": {
    "collapsed": true
   },
   "outputs": [],
   "source": []
  },
  {
   "cell_type": "markdown",
   "metadata": {},
   "source": [
    "# Caracteristicas avanzadas del lenguaje"
   ]
  },
  {
   "cell_type": "markdown",
   "metadata": {},
   "source": [
    "Diseñado para paralelismo y computción distribuida\n",
    "\n",
    "Corutinas también llamadas: Lightweight threading\n",
    "\n",
    "Macros parecidos a los de Lisp y otras facilidades para metaprogramacion\n",
    "\n",
    "Acepta multiple dispach"
   ]
  },
  {
   "cell_type": "code",
   "execution_count": null,
   "metadata": {
    "collapsed": true
   },
   "outputs": [],
   "source": []
  },
  {
   "cell_type": "markdown",
   "metadata": {},
   "source": [
    "# Paralelismo"
   ]
  },
  {
   "cell_type": "markdown",
   "metadata": {
    "collapsed": true
   },
   "source": [
    "El paralelismo en Julia se hace por CPU, no GPU.\n",
    "\n",
    "Implementa el patrón de actores.\n",
    "\n",
    "Los procesos se llaman Workers con un ID específico."
   ]
  },
  {
   "cell_type": "code",
   "execution_count": 21,
   "metadata": {},
   "outputs": [
    {
     "name": "stdout",
     "output_type": "stream",
     "text": [
      "1\n",
      "2\n"
     ]
    }
   ],
   "source": [
    "println(nprocs())\n",
    "addprocs(1)\n",
    "println(nprocs())"
   ]
  },
  {
   "cell_type": "markdown",
   "metadata": {},
   "source": [
    "La programación paralela en Julia está construida sobre dos primitivas:\n",
    "\n",
    "remotes references y remotes calls"
   ]
  },
  {
   "cell_type": "code",
   "execution_count": 7,
   "metadata": {},
   "outputs": [
    {
     "name": "stdout",
     "output_type": "stream",
     "text": [
      "5\n"
     ]
    }
   ],
   "source": [
    "for w in workers()\n",
    "    rref=remotecall(myid, w)\n",
    "    sleep(1)\n",
    "    println(fetch(rref))\n",
    "end"
   ]
  },
  {
   "cell_type": "code",
   "execution_count": 29,
   "metadata": {},
   "outputs": [
    {
     "name": "stdout",
     "output_type": "stream",
     "text": [
      "55002896\n"
     ]
    }
   ],
   "source": [
    "@everywhere function random_num(n)\n",
    "    c::Int = 0\n",
    "    for i = 1:n\n",
    "        c += rand(Bool)\n",
    "    end\n",
    "    c\n",
    "end\n",
    "\n",
    "a = @spawn random_num(100000000)\n",
    "\n",
    "b = @spawn random_num(10000000)\n",
    "\n",
    "println(fetch(a)+fetch(b)) #reducción"
   ]
  },
  {
   "cell_type": "code",
   "execution_count": 30,
   "metadata": {},
   "outputs": [
    {
     "data": {
      "text/plain": [
       "99997168"
      ]
     },
     "execution_count": 30,
     "metadata": {},
     "output_type": "execute_result"
    }
   ],
   "source": [
    "nheads = @parallel (+) for i=1:200000000\n",
    "  Int(rand(Bool))\n",
    "end"
   ]
  },
  {
   "cell_type": "code",
   "execution_count": 31,
   "metadata": {},
   "outputs": [
    {
     "data": {
      "text/plain": [
       "100000-element Array{Float64,1}:\n",
       " 0.0\n",
       " 0.0\n",
       " 0.0\n",
       " 0.0\n",
       " 0.0\n",
       " 0.0\n",
       " 0.0\n",
       " 0.0\n",
       " 0.0\n",
       " 0.0\n",
       " 0.0\n",
       " 0.0\n",
       " 0.0\n",
       " ⋮  \n",
       " 0.0\n",
       " 0.0\n",
       " 0.0\n",
       " 0.0\n",
       " 0.0\n",
       " 0.0\n",
       " 0.0\n",
       " 0.0\n",
       " 0.0\n",
       " 0.0\n",
       " 0.0\n",
       " 0.0"
      ]
     },
     "execution_count": 31,
     "metadata": {},
     "output_type": "execute_result"
    }
   ],
   "source": [
    "a = zeros(100000)\n",
    "@parallel for i=1:100000\n",
    "  a[i] = i\n",
    "end\n",
    "a"
   ]
  },
  {
   "cell_type": "code",
   "execution_count": 32,
   "metadata": {},
   "outputs": [
    {
     "data": {
      "text/plain": [
       "100000-element SharedArray{Float64,1}:\n",
       "      1.0\n",
       "      2.0\n",
       "      3.0\n",
       "      4.0\n",
       "      5.0\n",
       "      6.0\n",
       "      7.0\n",
       "      8.0\n",
       "      9.0\n",
       "     10.0\n",
       "     11.0\n",
       "     12.0\n",
       "     13.0\n",
       "      ⋮  \n",
       "  99989.0\n",
       "  99990.0\n",
       "  99991.0\n",
       "  99992.0\n",
       "  99993.0\n",
       "  99994.0\n",
       "  99995.0\n",
       "  99996.0\n",
       "  99997.0\n",
       "  99998.0\n",
       "  99999.0\n",
       " 100000.0"
      ]
     },
     "execution_count": 32,
     "metadata": {},
     "output_type": "execute_result"
    }
   ],
   "source": [
    "a = SharedArray(Float64, 100000)\n",
    "@parallel for i=1:100000\n",
    "  a[i] = i\n",
    "end\n",
    "a"
   ]
  },
  {
   "cell_type": "code",
   "execution_count": 37,
   "metadata": {},
   "outputs": [
    {
     "name": "stdout",
     "output_type": "stream",
     "text": [
      "\tFrom worker 6:\tjob 3\n",
      "\tFrom worker 7:\tjob 2\n",
      "\tFrom worker 8:\tjob 1\n",
      "\tFrom worker 6:\tjob 4\n",
      "\tFrom worker 7:\tjob 5\n",
      "\tFrom worker 8:\tjob 6\n",
      "\tFrom worker 6:\tjob 7\n",
      "\tFrom worker 7:\tjob 8\n",
      "\tFrom worker 6:\tjob 10\n",
      "\tFrom worker 8:\tjob 9\n",
      "\tFrom worker 7:\tjob 11\n",
      "\tFrom worker 6:\tjob 12\n"
     ]
    },
    {
     "data": {
      "text/plain": [
       "12-element Array{Void,1}:\n",
       " nothing\n",
       " nothing\n",
       " nothing\n",
       " nothing\n",
       " nothing\n",
       " nothing\n",
       " nothing\n",
       " nothing\n",
       " nothing\n",
       " nothing\n",
       " nothing\n",
       " nothing"
      ]
     },
     "execution_count": 37,
     "metadata": {},
     "output_type": "execute_result"
    }
   ],
   "source": [
    "@everywhere begin\n",
    "    function parallel_func(idx)\n",
    "        workernum = myid() - 1 \n",
    "        sleep(workernum)\n",
    "        println(\"job $idx\")\n",
    "    end\n",
    "end\n",
    "\n",
    "pmap(parallel_func, 1:12)"
   ]
  },
  {
   "cell_type": "code",
   "execution_count": 39,
   "metadata": {},
   "outputs": [
    {
     "name": "stdout",
     "output_type": "stream",
     "text": [
      "40\n",
      "0\n",
      "1\n",
      "2\n",
      "3\n",
      "4\n",
      "5\n",
      "6\n",
      "7\n",
      "8\n",
      "9\n",
      "10\n",
      "termine\n"
     ]
    }
   ],
   "source": [
    "@sync begin\n",
    "    @async for y in 0:10 println(y) end\n",
    "    x=40\n",
    "    println(x)\n",
    "end\n",
    "println(\"termine\")"
   ]
  },
  {
   "cell_type": "code",
   "execution_count": 33,
   "metadata": {},
   "outputs": [
    {
     "name": "stdout",
     "output_type": "stream",
     "text": [
      "false\n",
      "Task (runnable) @0x00007fb443677490\n",
      "1\n",
      "2\n",
      "4\n",
      "Any[nothing]\n"
     ]
    }
   ],
   "source": [
    "# Se genera la lista de tasks\n",
    "t = @task Any[ for x in [1,2,4] println(x) end ]\n",
    "\n",
    "# No hay tasks?\n",
    "println(istaskdone(t))\n",
    "\n",
    "# Cual es la siguiente task?\n",
    "println(current_task())\n",
    "\n",
    "# Ejecutar task\n",
    "println(consume(t))"
   ]
  },
  {
   "cell_type": "code",
   "execution_count": null,
   "metadata": {},
   "outputs": [
    {
     "name": "stdout",
     "output_type": "stream",
     "text": [
      "3\n",
      "4\n",
      "5\n",
      "6\n"
     ]
    }
   ],
   "source": [
    "c1 = Channel(32)\n",
    "put!(c1,3)\n",
    "put!(c1,4)\n",
    "c2 = Channel(32)\n",
    "\n",
    "# foo() lee un item de c1, lo imprime y lo escribe en c2\n",
    "function foo()\n",
    "    while true\n",
    "        data = take!(c1)\n",
    "        println(data)\n",
    "        result = data + 2\n",
    "        put!(c2, result)   \n",
    "    end\n",
    "end\n",
    "\n",
    "# con @schedule podemos hacer que varias instancias de foo() estén activas concurrentemente.\n",
    "for i in 1:3\n",
    "    @schedule foo()\n",
    "end\n",
    "\n",
    "for i in 1:3\n",
    "    data= take!(c2)\n",
    "    println(data)\n",
    "end"
   ]
  },
  {
   "cell_type": "code",
   "execution_count": 1,
   "metadata": {},
   "outputs": [
    {
     "name": "stdout",
     "output_type": "stream",
     "text": [
      "i = 1\n",
      "i = 2\n",
      "i = 3\n",
      "i = 4\n"
     ]
    },
    {
     "data": {
      "text/plain": [
       "false"
      ]
     },
     "execution_count": 1,
     "metadata": {},
     "output_type": "execute_result"
    }
   ],
   "source": [
    "c = Channel(0)\n",
    "\n",
    "task = @schedule foreach(i->put!(c, i), 1:4)\n",
    "\n",
    "bind(c,task)\n",
    "\n",
    "for i in c\n",
    "    @show i\n",
    "end\n",
    "\n",
    "isopen(c)"
   ]
  },
  {
   "cell_type": "markdown",
   "metadata": {},
   "source": [
    "# Ejemplos"
   ]
  },
  {
   "cell_type": "code",
   "execution_count": null,
   "metadata": {
    "collapsed": true
   },
   "outputs": [],
   "source": []
  },
  {
   "cell_type": "markdown",
   "metadata": {},
   "source": [
    "# Estadisticas"
   ]
  },
  {
   "cell_type": "markdown",
   "metadata": {
    "collapsed": true
   },
   "source": []
  },
  {
   "cell_type": "markdown",
   "metadata": {},
   "source": [
    "# Comparacion otros lenguajes"
   ]
  },
  {
   "cell_type": "markdown",
   "metadata": {
    "collapsed": true
   },
   "source": [
    "Julia vs Python\n",
    "\n",
    "Ventajas de Juila:\n",
    "\n",
    "_Rapido por default.\n",
    "\n",
    "_Sintaxis amigable para matemáticas.\n",
    "\n",
    "_No se pierde el manejo automatico de memoria.\n",
    "\n",
    "_Paralelismo."
   ]
  },
  {
   "cell_type": "markdown",
   "metadata": {},
   "source": [
    "Ventajas de Python:\n",
    "\n",
    "_Los arrays de Julia son indexados a partir del 1.\n",
    "\n",
    "_Julia todavía es un lenguaje muy nuevo.\n",
    "\n",
    "_Python tiene más paquetes creados para el lenguaje.\n",
    "\n",
    "_Python tiene una comunidad más grande."
   ]
  },
  {
   "cell_type": "markdown",
   "metadata": {},
   "source": [
    "# Casos de estudios"
   ]
  },
  {
   "cell_type": "markdown",
   "metadata": {},
   "source": [
    "En 2015, el banco de reserva federal de nueva york uso julia para hacer modelos de la economía de los estados unidos.\n",
    "\n",
    "    Notaron que el modelo hecho con el lenguaje era 10 veces más rapido que el anterior (hecho con MATLAB) \n",
    "\n",
    "El proyecto Celste uso Julia para lograr rendimiento pico de 1.54 de petaFLOPS usando 1.3 millones de threads."
   ]
  },
  {
   "cell_type": "markdown",
   "metadata": {},
   "source": [
    "# Conclusion"
   ]
  },
  {
   "cell_type": "markdown",
   "metadata": {
    "collapsed": true
   },
   "source": []
  }
 ],
 "metadata": {
  "celltoolbar": "Raw Cell Format",
  "kernelspec": {
   "display_name": "Julia 0.6.3",
   "language": "julia",
   "name": "julia-0.6"
  },
  "language_info": {
   "file_extension": ".jl",
   "mimetype": "application/julia",
   "name": "julia",
   "version": "0.6.3"
  }
 },
 "nbformat": 4,
 "nbformat_minor": 2
}
