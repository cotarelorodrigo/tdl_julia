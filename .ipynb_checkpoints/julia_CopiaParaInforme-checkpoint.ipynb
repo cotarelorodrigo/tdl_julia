{
 "cells": [
  {
   "cell_type": "markdown",
   "metadata": {},
   "source": [
    "# <font color=grey> \\begin{align}  Julia  \\end{align} </font>\n",
    "\n",
    "***"
   ]
  },
  {
   "cell_type": "markdown",
   "metadata": {},
   "source": [
    "http://www.rpi.edu/dept/arc/docs/latex/latex-intro.pdf todo esto se puede usar para darle formato al titulo"
   ]
  },
  {
   "cell_type": "markdown",
   "metadata": {},
   "source": [
    "Usualmente los lenguajes de programacion para computación numerica se dividen entre:\n",
    "\n",
    "- Estaticos como C que son rápidos en ejecucion pero lentos en el desarrollo.\n",
    "\n",
    "- Dinámicos como Python que son rápidos en el desarrollo pero lentos en ejecucuion.\n",
    "\n",
    "Julia busca ofrecer lo mejor de los dos mundos.\n",
    "\n",
    "Es un lenguaje nuevo, empezó a trabajarse en él en el 2009.\n",
    "\n",
    "Sus creadores son Jeff Bezanson, Stefan Karpinski, Viral B. Shah  y Alan Edelman.\n",
    "\n",
    "La primera versión pública se lanzó en el 2012.\n",
    "\n",
    "En 2015 se establece Julia computing para proveer soporte y entrenamiento pago.\n",
    "\n",
    "Para Enero del 2018 tenía alrededor de 1.800.000 descargas."
   ]
  },
  {
   "cell_type": "markdown",
   "metadata": {},
   "source": [
    "# Para que sirve"
   ]
  },
  {
   "cell_type": "markdown",
   "metadata": {
    "collapsed": true
   },
   "source": [
    "Se trata de un lenguaje cuya concepción inicial tenía como objetivo lograr desarrollar un lenguaje que soporte un gran manejo matemático no sólo en capacidades computacionales sino también en facilidad y versatilidad.\n",
    "Suele utilizarse para para la computación paralela y distribuida gracias a su buen diseño y manejo de concurrencia.\n",
    "De la misma manera, su capacidad matemática lo hace un lenguaje muy utilizado en el ámbito de Machine Learning donde se trabaja con una enorme cantidad de datos.\n"
   ]
  },
  {
   "cell_type": "markdown",
   "metadata": {},
   "source": [
    "# Caracteristicas basicas del lenguaje"
   ]
  },
  {
   "cell_type": "markdown",
   "metadata": {
    "collapsed": true
   },
   "source": [
    "Tipos definidos por usuarios son tan rápidos y compctos como los Built-ins\n",
    "\n",
    "Llama funciones C directamente (no se necesitan wrappers ni API's especiales)\n",
    "\n",
    "Dispone de un compilador avanzado, JIT (Just In Time), que tiene como objetivo la optimización del código en virtud de una mejora en el tiempo de ejecución."
   ]
  },
  {
   "cell_type": "markdown",
   "metadata": {},
   "source": [
    "### Manejo de variables y constantes matemáticas:"
   ]
  },
  {
   "cell_type": "code",
   "execution_count": 1,
   "metadata": {},
   "outputs": [
    {
     "data": {
      "text/plain": [
       "6"
      ]
     },
     "execution_count": 1,
     "metadata": {},
     "output_type": "execute_result"
    }
   ],
   "source": [
    "miVariable = 1\n",
    "miVariable = miVariable + 5"
   ]
  },
  {
   "cell_type": "code",
   "execution_count": 2,
   "metadata": {},
   "outputs": [
    {
     "data": {
      "text/plain": [
       "\"Hola a todos y todas\""
      ]
     },
     "execution_count": 2,
     "metadata": {},
     "output_type": "execute_result"
    }
   ],
   "source": [
    "d = 0.00001\n",
    "d = \"Hola a todos y todas\""
   ]
  },
  {
   "cell_type": "code",
   "execution_count": 3,
   "metadata": {},
   "outputs": [
    {
     "data": {
      "text/plain": [
       "π = 3.1415926535897..."
      ]
     },
     "execution_count": 3,
     "metadata": {},
     "output_type": "execute_result"
    }
   ],
   "source": [
    "pi"
   ]
  },
  {
   "cell_type": "code",
   "execution_count": 4,
   "metadata": {},
   "outputs": [
    {
     "data": {
      "text/plain": [
       "6.403185307179586"
      ]
     },
     "execution_count": 4,
     "metadata": {},
     "output_type": "execute_result"
    }
   ],
   "source": [
    "miVariable = 2*pi + 0.12"
   ]
  },
  {
   "cell_type": "code",
   "execution_count": 5,
   "metadata": {},
   "outputs": [
    {
     "data": {
      "text/plain": [
       "Inf"
      ]
     },
     "execution_count": 5,
     "metadata": {},
     "output_type": "execute_result"
    }
   ],
   "source": [
    "miVariable = miVariable + Inf"
   ]
  },
  {
   "cell_type": "code",
   "execution_count": 6,
   "metadata": {},
   "outputs": [
    {
     "data": {
      "text/plain": [
       "14 + 5im"
      ]
     },
     "execution_count": 6,
     "metadata": {},
     "output_type": "execute_result"
    }
   ],
   "source": [
    "res = (1 + 4im)*(2 - 3im)"
   ]
  },
  {
   "cell_type": "code",
   "execution_count": 7,
   "metadata": {},
   "outputs": [
    {
     "data": {
      "text/plain": [
       "10.147261924626015 - 73.50624621453295im"
      ]
     },
     "execution_count": 7,
     "metadata": {},
     "output_type": "execute_result"
    }
   ],
   "source": [
    "cos(res)"
   ]
  },
  {
   "cell_type": "code",
   "execution_count": 8,
   "metadata": {},
   "outputs": [
    {
     "data": {
      "text/plain": [
       "1//3"
      ]
     },
     "execution_count": 8,
     "metadata": {},
     "output_type": "execute_result"
    }
   ],
   "source": [
    "1//3"
   ]
  },
  {
   "cell_type": "code",
   "execution_count": 9,
   "metadata": {},
   "outputs": [
    {
     "data": {
      "text/plain": [
       "0.3333333333333333"
      ]
     },
     "execution_count": 9,
     "metadata": {},
     "output_type": "execute_result"
    }
   ],
   "source": [
    "float(1//3)"
   ]
  },
  {
   "cell_type": "markdown",
   "metadata": {},
   "source": [
    "### Tipado\n",
    "\n",
    "En Julia los tipados son, por defecto, omitidos de manera tal que las variables admitan valores de cualquier tipo. Y esto se da así: son los valores los que tienen tipo mientras que las variables son simples notaciones que hacen referencia a entidades.\n",
    "De todas formas, es fácil expresar el tipo esperado del valor de una cierta variable. Esto suele mejorar no solamente la robustez de los programas, sino también su performance.\n",
    "En conclusión, Julia es un lenguaje de tipado dinámico pero que soporta la especificación de tipos para, en tiempo de ejecución, favorecer a cuestiones internas del lenguaje que mejoran su performance."
   ]
  },
  {
   "cell_type": "code",
   "execution_count": 10,
   "metadata": {},
   "outputs": [
    {
     "data": {
      "text/plain": [
       "50.74"
      ]
     },
     "execution_count": 10,
     "metadata": {},
     "output_type": "execute_result"
    }
   ],
   "source": [
    "x = 50.74"
   ]
  },
  {
   "cell_type": "code",
   "execution_count": 11,
   "metadata": {
    "scrolled": true
   },
   "outputs": [
    {
     "data": {
      "text/plain": [
       "\"Soy un string\""
      ]
     },
     "execution_count": 11,
     "metadata": {},
     "output_type": "execute_result"
    }
   ],
   "source": [
    "x = \"Soy un string\""
   ]
  },
  {
   "cell_type": "code",
   "execution_count": 12,
   "metadata": {},
   "outputs": [
    {
     "ename": "LoadError",
     "evalue": "UndefVarError: y not defined",
     "output_type": "error",
     "traceback": [
      "UndefVarError: y not defined",
      ""
     ]
    }
   ],
   "source": [
    "x\n",
    "y::Int64\n",
    "y = x"
   ]
  },
  {
   "cell_type": "markdown",
   "metadata": {},
   "source": [
    "### Manejo de errores simple"
   ]
  },
  {
   "cell_type": "code",
   "execution_count": 13,
   "metadata": {},
   "outputs": [
    {
     "data": {
      "text/plain": [
       "1"
      ]
     },
     "execution_count": 13,
     "metadata": {},
     "output_type": "execute_result"
    }
   ],
   "source": [
    "tup = (1, 2, 3) \n",
    "tup[1] # => 1"
   ]
  },
  {
   "cell_type": "code",
   "execution_count": 14,
   "metadata": {},
   "outputs": [
    {
     "name": "stdout",
     "output_type": "stream",
     "text": [
      "MethodError(setindex!,(:tup,3,1))\n"
     ]
    }
   ],
   "source": [
    "tup = (1, 2, 3) \n",
    "try:\n",
    "    tup[1] = 3 # MethodError\n",
    "catch e\n",
    "    println(e)\n",
    "end"
   ]
  },
  {
   "cell_type": "code",
   "execution_count": 15,
   "metadata": {},
   "outputs": [
    {
     "data": {
      "text/plain": [
       "10.0"
      ]
     },
     "execution_count": 15,
     "metadata": {},
     "output_type": "execute_result"
    }
   ],
   "source": [
    "ampliacion_sqrt(x) =\n",
    "\n",
    "x >= 0 ? sqrt(x) : error(\"Valor de x negativo es inválido\")\n",
    "\n",
    "ampliacion_sqrt(100)"
   ]
  },
  {
   "cell_type": "code",
   "execution_count": 16,
   "metadata": {},
   "outputs": [
    {
     "ename": "LoadError",
     "evalue": "Valor de x negativo es inválido",
     "output_type": "error",
     "traceback": [
      "Valor de x negativo es inválido",
      "",
      " in ampliacion_sqrt at ./In[15]:1"
     ]
    }
   ],
   "source": [
    "ampliacion_sqrt(-6)"
   ]
  },
  {
   "cell_type": "markdown",
   "metadata": {},
   "source": [
    "### Funciones y argumentos\n",
    "Los argumentos en Julia se pasan siguiendo una convención que suele llamarse \"pass-by-sharing\". Esto significa que no se pasan por copia, sino que los argumentos funcionan en sí mismos como una nueva variable que tiene idéntico valor al que ha sido pasado.\n",
    "Así, la modificación de variables mutables como Arrays será visible para la función caller (esto mismo sucede en Lisps, Python, Ruby entre otros).\n",
    "\n",
    "https://www.youtube.com/watch?v=1YFss_4B_o4\n"
   ]
  },
  {
   "cell_type": "code",
   "execution_count": 17,
   "metadata": {},
   "outputs": [
    {
     "data": {
      "text/plain": [
       "(5,6)"
      ]
     },
     "execution_count": 17,
     "metadata": {},
     "output_type": "execute_result"
    }
   ],
   "source": [
    "function foo(a,b)\n",
    "           a+b, a*b\n",
    "end\n",
    "x, y = foo(2,3)"
   ]
  },
  {
   "cell_type": "code",
   "execution_count": 18,
   "metadata": {},
   "outputs": [
    {
     "data": {
      "text/plain": [
       "7"
      ]
     },
     "execution_count": 18,
     "metadata": {},
     "output_type": "execute_result"
    }
   ],
   "source": [
    "(x -> x^2 + 2x - 1)(2)"
   ]
  },
  {
   "cell_type": "code",
   "execution_count": 19,
   "metadata": {},
   "outputs": [
    {
     "data": {
      "text/plain": [
       "3-element Array{Int64,1}:\n",
       "  2\n",
       " 14\n",
       " -2"
      ]
     },
     "execution_count": 19,
     "metadata": {},
     "output_type": "execute_result"
    }
   ],
   "source": [
    "map(x -> x^2 + 2x - 1, [1,3,-1])"
   ]
  },
  {
   "cell_type": "code",
   "execution_count": 20,
   "metadata": {},
   "outputs": [
    {
     "data": {
      "text/plain": [
       "\"h g and 5 6\""
      ]
     },
     "execution_count": 20,
     "metadata": {},
     "output_type": "execute_result"
    }
   ],
   "source": [
    "function default(a,b,x=5,y=6)\n",
    "    return \"$a $b and $x $y\"\n",
    "end\n",
    "\n",
    "default('h','g')"
   ]
  },
  {
   "cell_type": "code",
   "execution_count": 21,
   "metadata": {},
   "outputs": [
    {
     "data": {
      "text/plain": [
       "\"h g and i 6\""
      ]
     },
     "execution_count": 21,
     "metadata": {},
     "output_type": "execute_result"
    }
   ],
   "source": [
    "default('h', 'g', 'i')"
   ]
  },
  {
   "cell_type": "markdown",
   "metadata": {},
   "source": [
    "### Ducking type\n",
    "Quiero mostrar que a julia no le importa el tipo de dato. Julia opera con cualquier tipo de dato que tenga sentido"
   ]
  },
  {
   "cell_type": "code",
   "execution_count": 22,
   "metadata": {},
   "outputs": [
    {
     "data": {
      "text/plain": [
       "f2 (generic function with 1 method)"
      ]
     },
     "execution_count": 22,
     "metadata": {},
     "output_type": "execute_result"
    }
   ],
   "source": [
    "f2(x) = x^2"
   ]
  },
  {
   "cell_type": "code",
   "execution_count": 23,
   "metadata": {},
   "outputs": [
    {
     "data": {
      "text/plain": [
       "4"
      ]
     },
     "execution_count": 23,
     "metadata": {},
     "output_type": "execute_result"
    }
   ],
   "source": [
    "f2(2)"
   ]
  },
  {
   "cell_type": "code",
   "execution_count": 24,
   "metadata": {},
   "outputs": [
    {
     "data": {
      "text/plain": [
       "3x3 Array{Float64,2}:\n",
       " 0.798875  0.0705721  0.693493\n",
       " 0.91752   0.156942   0.95332 \n",
       " 1.25617   0.109868   1.10335 "
      ]
     },
     "execution_count": 24,
     "metadata": {},
     "output_type": "execute_result"
    }
   ],
   "source": [
    "Ad = rand(3, 3)\n",
    "f2(Ad)"
   ]
  },
  {
   "cell_type": "code",
   "execution_count": 25,
   "metadata": {},
   "outputs": [
    {
     "data": {
      "text/plain": [
       "\"holahola\""
      ]
     },
     "execution_count": 25,
     "metadata": {},
     "output_type": "execute_result"
    }
   ],
   "source": [
    "f2(\"hola\") #La multiplicacion de este parametro implica una concatenacion"
   ]
  },
  {
   "cell_type": "code",
   "execution_count": 26,
   "metadata": {},
   "outputs": [
    {
     "ename": "LoadError",
     "evalue": "MethodError: `*` has no method matching *(::Array{Float64,1}, ::Array{Float64,1})\u001b[0m\nClosest candidates are:\n  *(::Any, ::Any, \u001b[1m\u001b[31m::Any\u001b[0m, \u001b[1m\u001b[31m::Any...\u001b[0m)\n  *{T<:Union{Complex{Float32},Complex{Float64},Float32,Float64},S}(\u001b[1m\u001b[31m::Union{DenseArray{T<:Union{Complex{Float32},Complex{Float64},Float32,Float64},2},SubArray{T<:Union{Complex{Float32},Complex{Float64},Float32,Float64},2,A<:DenseArray{T,N},I<:Tuple{Vararg{Union{Colon,Int64,Range{Int64}}}},LD}}\u001b[0m, ::Union{DenseArray{S,1},SubArray{S,1,A<:DenseArray{T,N},I<:Tuple{Vararg{Union{Colon,Int64,Range{Int64}}}},LD}})\n  *{TA,TB}(\u001b[1m\u001b[31m::Base.LinAlg.AbstractTriangular{TA,S<:AbstractArray{T,2}}\u001b[0m, ::Union{DenseArray{TB,1},DenseArray{TB,2},SubArray{TB,1,A<:DenseArray{T,N},I<:Tuple{Vararg{Union{Colon,Int64,Range{Int64}}}},LD},SubArray{TB,2,A<:DenseArray{T,N},I<:Tuple{Vararg{Union{Colon,Int64,Range{Int64}}}},LD}})\n  ...\u001b[0m",
     "output_type": "error",
     "traceback": [
      "MethodError: `*` has no method matching *(::Array{Float64,1}, ::Array{Float64,1})\u001b[0m\nClosest candidates are:\n  *(::Any, ::Any, \u001b[1m\u001b[31m::Any\u001b[0m, \u001b[1m\u001b[31m::Any...\u001b[0m)\n  *{T<:Union{Complex{Float32},Complex{Float64},Float32,Float64},S}(\u001b[1m\u001b[31m::Union{DenseArray{T<:Union{Complex{Float32},Complex{Float64},Float32,Float64},2},SubArray{T<:Union{Complex{Float32},Complex{Float64},Float32,Float64},2,A<:DenseArray{T,N},I<:Tuple{Vararg{Union{Colon,Int64,Range{Int64}}}},LD}}\u001b[0m, ::Union{DenseArray{S,1},SubArray{S,1,A<:DenseArray{T,N},I<:Tuple{Vararg{Union{Colon,Int64,Range{Int64}}}},LD}})\n  *{TA,TB}(\u001b[1m\u001b[31m::Base.LinAlg.AbstractTriangular{TA,S<:AbstractArray{T,2}}\u001b[0m, ::Union{DenseArray{TB,1},DenseArray{TB,2},SubArray{TB,1,A<:DenseArray{T,N},I<:Tuple{Vararg{Union{Colon,Int64,Range{Int64}}}},LD},SubArray{TB,2,A<:DenseArray{T,N},I<:Tuple{Vararg{Union{Colon,Int64,Range{Int64}}}},LD}})\n  ...\u001b[0m",
      "",
      " in power_by_squaring at ./intfuncs.jl:80"
     ]
    }
   ],
   "source": [
    "v = rand(3)\n",
    "f2(v)"
   ]
  },
  {
   "cell_type": "markdown",
   "metadata": {},
   "source": [
    "### Funciones mutantes vs no mutantes \n",
    "Por convencion las funciones seguidas por un ! alteran, o bien mutan, sus contenidos y las que carecen de un ! no lo hacen"
   ]
  },
  {
   "cell_type": "code",
   "execution_count": 27,
   "metadata": {},
   "outputs": [
    {
     "data": {
      "text/plain": [
       "3-element Array{Int64,1}:\n",
       " 4\n",
       " 7\n",
       " 1"
      ]
     },
     "execution_count": 27,
     "metadata": {},
     "output_type": "execute_result"
    }
   ],
   "source": [
    "v = [4, 7, 1]"
   ]
  },
  {
   "cell_type": "code",
   "execution_count": 28,
   "metadata": {},
   "outputs": [
    {
     "data": {
      "text/plain": [
       "3-element Array{Int64,1}:\n",
       " 1\n",
       " 4\n",
       " 7"
      ]
     },
     "execution_count": 28,
     "metadata": {},
     "output_type": "execute_result"
    }
   ],
   "source": [
    "sort(v)"
   ]
  },
  {
   "cell_type": "code",
   "execution_count": 29,
   "metadata": {},
   "outputs": [
    {
     "data": {
      "text/plain": [
       "3-element Array{Int64,1}:\n",
       " 4\n",
       " 7\n",
       " 1"
      ]
     },
     "execution_count": 29,
     "metadata": {},
     "output_type": "execute_result"
    }
   ],
   "source": [
    "v"
   ]
  },
  {
   "cell_type": "code",
   "execution_count": 30,
   "metadata": {},
   "outputs": [
    {
     "data": {
      "text/plain": [
       "3-element Array{Int64,1}:\n",
       " 1\n",
       " 4\n",
       " 7"
      ]
     },
     "execution_count": 30,
     "metadata": {},
     "output_type": "execute_result"
    }
   ],
   "source": [
    "sort!(v)"
   ]
  },
  {
   "cell_type": "code",
   "execution_count": 31,
   "metadata": {},
   "outputs": [
    {
     "data": {
      "text/plain": [
       "3-element Array{Int64,1}:\n",
       " 1\n",
       " 4\n",
       " 7"
      ]
     },
     "execution_count": 31,
     "metadata": {},
     "output_type": "execute_result"
    }
   ],
   "source": [
    "v"
   ]
  },
  {
   "cell_type": "markdown",
   "metadata": {},
   "source": [
    "### Broadcasting\n",
    "Si ponemos un . entre el nombre de la funcion y su lista de argumento le estamos diciendo a la funcion que se aplique sobre cada elemento sobre cada elemento del input. Esto es nativo de Julia y sirve para cualquier funcion."
   ]
  },
  {
   "cell_type": "code",
   "execution_count": 32,
   "metadata": {},
   "outputs": [
    {
     "data": {
      "text/plain": [
       "3x3 Array{Int64,2}:\n",
       " 1  2  3\n",
       " 4  5  6\n",
       " 7  8  9"
      ]
     },
     "execution_count": 32,
     "metadata": {},
     "output_type": "execute_result"
    }
   ],
   "source": [
    "Am = [i + 3*j for j in 0:2, i in 1:3]"
   ]
  },
  {
   "cell_type": "code",
   "execution_count": 33,
   "metadata": {},
   "outputs": [
    {
     "data": {
      "text/plain": [
       "3x3 Array{Int64,2}:\n",
       "  30   36   42\n",
       "  66   81   96\n",
       " 102  126  150"
      ]
     },
     "execution_count": 33,
     "metadata": {},
     "output_type": "execute_result"
    }
   ],
   "source": [
    "f2(Am)  #Esto seria A^2 = A*A"
   ]
  },
  {
   "cell_type": "code",
   "execution_count": 34,
   "metadata": {},
   "outputs": [
    {
     "ename": "LoadError",
     "evalue": "TypeError: getfield: expected Symbol, got Array{Int64,2}",
     "output_type": "error",
     "traceback": [
      "TypeError: getfield: expected Symbol, got Array{Int64,2}",
      ""
     ]
    }
   ],
   "source": [
    "f2.(Am) #Esto en cambio aplica x^2 a cada elemento de la matriz"
   ]
  },
  {
   "cell_type": "markdown",
   "metadata": {},
   "source": [
    "### Multiple Dispatch\n",
    "rapido,\n",
    "extensible,\n",
    "programable facilmente\n"
   ]
  },
  {
   "cell_type": "code",
   "execution_count": 35,
   "metadata": {},
   "outputs": [
    {
     "data": {
      "text/html": [
       "171 methods for generic function <b>+</b>:<ul><li> +(x::<b>Bool</b>) at <a href=\"https://github.com/JuliaLang/julia/tree/ae26b25d43317d7dd3ca05f60b70677aab9c0e08/base/bool.jl#L33\" target=\"_blank\">bool.jl:33</a><li> +(x::<b>Bool</b>, y::<b>Bool</b>) at <a href=\"https://github.com/JuliaLang/julia/tree/ae26b25d43317d7dd3ca05f60b70677aab9c0e08/base/bool.jl#L36\" target=\"_blank\">bool.jl:36</a><li> +(y::<b>AbstractFloat</b>, x::<b>Bool</b>) at <a href=\"https://github.com/JuliaLang/julia/tree/ae26b25d43317d7dd3ca05f60b70677aab9c0e08/base/bool.jl#L46\" target=\"_blank\">bool.jl:46</a><li> +(x::<b>Int64</b>, y::<b>Int64</b>) at <a href=\"https://github.com/JuliaLang/julia/tree/ae26b25d43317d7dd3ca05f60b70677aab9c0e08/base/int.jl#L8\" target=\"_blank\">int.jl:8</a><li> +(x::<b>Int8</b>, y::<b>Int8</b>) at <a href=\"https://github.com/JuliaLang/julia/tree/ae26b25d43317d7dd3ca05f60b70677aab9c0e08/base/int.jl#L16\" target=\"_blank\">int.jl:16</a><li> +(x::<b>UInt8</b>, y::<b>UInt8</b>) at <a href=\"https://github.com/JuliaLang/julia/tree/ae26b25d43317d7dd3ca05f60b70677aab9c0e08/base/int.jl#L16\" target=\"_blank\">int.jl:16</a><li> +(x::<b>Int16</b>, y::<b>Int16</b>) at <a href=\"https://github.com/JuliaLang/julia/tree/ae26b25d43317d7dd3ca05f60b70677aab9c0e08/base/int.jl#L16\" target=\"_blank\">int.jl:16</a><li> +(x::<b>UInt16</b>, y::<b>UInt16</b>) at <a href=\"https://github.com/JuliaLang/julia/tree/ae26b25d43317d7dd3ca05f60b70677aab9c0e08/base/int.jl#L16\" target=\"_blank\">int.jl:16</a><li> +(x::<b>Int32</b>, y::<b>Int32</b>) at <a href=\"https://github.com/JuliaLang/julia/tree/ae26b25d43317d7dd3ca05f60b70677aab9c0e08/base/int.jl#L16\" target=\"_blank\">int.jl:16</a><li> +(x::<b>UInt32</b>, y::<b>UInt32</b>) at <a href=\"https://github.com/JuliaLang/julia/tree/ae26b25d43317d7dd3ca05f60b70677aab9c0e08/base/int.jl#L16\" target=\"_blank\">int.jl:16</a><li> +(x::<b>UInt64</b>, y::<b>UInt64</b>) at <a href=\"https://github.com/JuliaLang/julia/tree/ae26b25d43317d7dd3ca05f60b70677aab9c0e08/base/int.jl#L16\" target=\"_blank\">int.jl:16</a><li> +(x::<b>Int128</b>, y::<b>Int128</b>) at <a href=\"https://github.com/JuliaLang/julia/tree/ae26b25d43317d7dd3ca05f60b70677aab9c0e08/base/int.jl#L16\" target=\"_blank\">int.jl:16</a><li> +(x::<b>UInt128</b>, y::<b>UInt128</b>) at <a href=\"https://github.com/JuliaLang/julia/tree/ae26b25d43317d7dd3ca05f60b70677aab9c0e08/base/int.jl#L16\" target=\"_blank\">int.jl:16</a><li> +(x::<b>Integer</b>, y::<b>Ptr{T}</b>) at <a href=\"https://github.com/JuliaLang/julia/tree/ae26b25d43317d7dd3ca05f60b70677aab9c0e08/base/pointer.jl#L77\" target=\"_blank\">pointer.jl:77</a><li> +(x::<b>Float32</b>, y::<b>Float32</b>) at <a href=\"https://github.com/JuliaLang/julia/tree/ae26b25d43317d7dd3ca05f60b70677aab9c0e08/base/float.jl#L207\" target=\"_blank\">float.jl:207</a><li> +(x::<b>Float64</b>, y::<b>Float64</b>) at <a href=\"https://github.com/JuliaLang/julia/tree/ae26b25d43317d7dd3ca05f60b70677aab9c0e08/base/float.jl#L208\" target=\"_blank\">float.jl:208</a><li> +(z::<b>Complex{T<:Real}</b>, w::<b>Complex{T<:Real}</b>) at <a href=\"https://github.com/JuliaLang/julia/tree/ae26b25d43317d7dd3ca05f60b70677aab9c0e08/base/complex.jl#L111\" target=\"_blank\">complex.jl:111</a><li> +(x::<b>Bool</b>, z::<b>Complex{Bool}</b>) at <a href=\"https://github.com/JuliaLang/julia/tree/ae26b25d43317d7dd3ca05f60b70677aab9c0e08/base/complex.jl#L118\" target=\"_blank\">complex.jl:118</a><li> +(z::<b>Complex{Bool}</b>, x::<b>Bool</b>) at <a href=\"https://github.com/JuliaLang/julia/tree/ae26b25d43317d7dd3ca05f60b70677aab9c0e08/base/complex.jl#L119\" target=\"_blank\">complex.jl:119</a><li> +(x::<b>Bool</b>, z::<b>Complex{T<:Real}</b>) at <a href=\"https://github.com/JuliaLang/julia/tree/ae26b25d43317d7dd3ca05f60b70677aab9c0e08/base/complex.jl#L125\" target=\"_blank\">complex.jl:125</a><li> +(z::<b>Complex{T<:Real}</b>, x::<b>Bool</b>) at <a href=\"https://github.com/JuliaLang/julia/tree/ae26b25d43317d7dd3ca05f60b70677aab9c0e08/base/complex.jl#L126\" target=\"_blank\">complex.jl:126</a><li> +(x::<b>Real</b>, z::<b>Complex{Bool}</b>) at <a href=\"https://github.com/JuliaLang/julia/tree/ae26b25d43317d7dd3ca05f60b70677aab9c0e08/base/complex.jl#L132\" target=\"_blank\">complex.jl:132</a><li> +(z::<b>Complex{Bool}</b>, x::<b>Real</b>) at <a href=\"https://github.com/JuliaLang/julia/tree/ae26b25d43317d7dd3ca05f60b70677aab9c0e08/base/complex.jl#L133\" target=\"_blank\">complex.jl:133</a><li> +(x::<b>Real</b>, z::<b>Complex{T<:Real}</b>) at <a href=\"https://github.com/JuliaLang/julia/tree/ae26b25d43317d7dd3ca05f60b70677aab9c0e08/base/complex.jl#L144\" target=\"_blank\">complex.jl:144</a><li> +(z::<b>Complex{T<:Real}</b>, x::<b>Real</b>) at <a href=\"https://github.com/JuliaLang/julia/tree/ae26b25d43317d7dd3ca05f60b70677aab9c0e08/base/complex.jl#L145\" target=\"_blank\">complex.jl:145</a><li> +(x::<b>Rational{T<:Integer}</b>, y::<b>Rational{T<:Integer}</b>) at <a href=\"https://github.com/JuliaLang/julia/tree/ae26b25d43317d7dd3ca05f60b70677aab9c0e08/base/rational.jl#L179\" target=\"_blank\">rational.jl:179</a><li> +(x::<b>Bool</b>, A::<b>AbstractArray{Bool,N}</b>) at <a href=\"https://github.com/JuliaLang/julia/tree/ae26b25d43317d7dd3ca05f60b70677aab9c0e08/base/arraymath.jl#L136\" target=\"_blank\">arraymath.jl:136</a><li> +(x::<b>Integer</b>, y::<b>Char</b>) at <a href=\"https://github.com/JuliaLang/julia/tree/ae26b25d43317d7dd3ca05f60b70677aab9c0e08/base/char.jl#L43\" target=\"_blank\">char.jl:43</a><li> +(a::<b>Float16</b>, b::<b>Float16</b>) at <a href=\"https://github.com/JuliaLang/julia/tree/ae26b25d43317d7dd3ca05f60b70677aab9c0e08/base/float16.jl#L136\" target=\"_blank\">float16.jl:136</a><li> +(x::<b>BigInt</b>, y::<b>BigInt</b>) at <a href=\"https://github.com/JuliaLang/julia/tree/ae26b25d43317d7dd3ca05f60b70677aab9c0e08/base/gmp.jl#L256\" target=\"_blank\">gmp.jl:256</a><li> +(a::<b>BigInt</b>, b::<b>BigInt</b>, c::<b>BigInt</b>) at <a href=\"https://github.com/JuliaLang/julia/tree/ae26b25d43317d7dd3ca05f60b70677aab9c0e08/base/gmp.jl#L279\" target=\"_blank\">gmp.jl:279</a><li> +(a::<b>BigInt</b>, b::<b>BigInt</b>, c::<b>BigInt</b>, d::<b>BigInt</b>) at <a href=\"https://github.com/JuliaLang/julia/tree/ae26b25d43317d7dd3ca05f60b70677aab9c0e08/base/gmp.jl#L285\" target=\"_blank\">gmp.jl:285</a><li> +(a::<b>BigInt</b>, b::<b>BigInt</b>, c::<b>BigInt</b>, d::<b>BigInt</b>, e::<b>BigInt</b>) at <a href=\"https://github.com/JuliaLang/julia/tree/ae26b25d43317d7dd3ca05f60b70677aab9c0e08/base/gmp.jl#L292\" target=\"_blank\">gmp.jl:292</a><li> +(x::<b>BigInt</b>, c::<b>Union{UInt16,UInt32,UInt64,UInt8}</b>) at <a href=\"https://github.com/JuliaLang/julia/tree/ae26b25d43317d7dd3ca05f60b70677aab9c0e08/base/gmp.jl#L304\" target=\"_blank\">gmp.jl:304</a><li> +(c::<b>Union{UInt16,UInt32,UInt64,UInt8}</b>, x::<b>BigInt</b>) at <a href=\"https://github.com/JuliaLang/julia/tree/ae26b25d43317d7dd3ca05f60b70677aab9c0e08/base/gmp.jl#L308\" target=\"_blank\">gmp.jl:308</a><li> +(x::<b>BigInt</b>, c::<b>Union{Int16,Int32,Int64,Int8}</b>) at <a href=\"https://github.com/JuliaLang/julia/tree/ae26b25d43317d7dd3ca05f60b70677aab9c0e08/base/gmp.jl#L320\" target=\"_blank\">gmp.jl:320</a><li> +(c::<b>Union{Int16,Int32,Int64,Int8}</b>, x::<b>BigInt</b>) at <a href=\"https://github.com/JuliaLang/julia/tree/ae26b25d43317d7dd3ca05f60b70677aab9c0e08/base/gmp.jl#L321\" target=\"_blank\">gmp.jl:321</a><li> +(x::<b>BigFloat</b>, y::<b>BigFloat</b>) at <a href=\"https://github.com/JuliaLang/julia/tree/ae26b25d43317d7dd3ca05f60b70677aab9c0e08/base/mpfr.jl#L208\" target=\"_blank\">mpfr.jl:208</a><li> +(x::<b>BigFloat</b>, c::<b>Union{UInt16,UInt32,UInt64,UInt8}</b>) at <a href=\"https://github.com/JuliaLang/julia/tree/ae26b25d43317d7dd3ca05f60b70677aab9c0e08/base/mpfr.jl#L215\" target=\"_blank\">mpfr.jl:215</a><li> +(c::<b>Union{UInt16,UInt32,UInt64,UInt8}</b>, x::<b>BigFloat</b>) at <a href=\"https://github.com/JuliaLang/julia/tree/ae26b25d43317d7dd3ca05f60b70677aab9c0e08/base/mpfr.jl#L219\" target=\"_blank\">mpfr.jl:219</a><li> +(x::<b>BigFloat</b>, c::<b>Union{Int16,Int32,Int64,Int8}</b>) at <a href=\"https://github.com/JuliaLang/julia/tree/ae26b25d43317d7dd3ca05f60b70677aab9c0e08/base/mpfr.jl#L223\" target=\"_blank\">mpfr.jl:223</a><li> +(c::<b>Union{Int16,Int32,Int64,Int8}</b>, x::<b>BigFloat</b>) at <a href=\"https://github.com/JuliaLang/julia/tree/ae26b25d43317d7dd3ca05f60b70677aab9c0e08/base/mpfr.jl#L227\" target=\"_blank\">mpfr.jl:227</a><li> +(x::<b>BigFloat</b>, c::<b>Union{Float16,Float32,Float64}</b>) at <a href=\"https://github.com/JuliaLang/julia/tree/ae26b25d43317d7dd3ca05f60b70677aab9c0e08/base/mpfr.jl#L231\" target=\"_blank\">mpfr.jl:231</a><li> +(c::<b>Union{Float16,Float32,Float64}</b>, x::<b>BigFloat</b>) at <a href=\"https://github.com/JuliaLang/julia/tree/ae26b25d43317d7dd3ca05f60b70677aab9c0e08/base/mpfr.jl#L235\" target=\"_blank\">mpfr.jl:235</a><li> +(x::<b>BigFloat</b>, c::<b>BigInt</b>) at <a href=\"https://github.com/JuliaLang/julia/tree/ae26b25d43317d7dd3ca05f60b70677aab9c0e08/base/mpfr.jl#L239\" target=\"_blank\">mpfr.jl:239</a><li> +(c::<b>BigInt</b>, x::<b>BigFloat</b>) at <a href=\"https://github.com/JuliaLang/julia/tree/ae26b25d43317d7dd3ca05f60b70677aab9c0e08/base/mpfr.jl#L243\" target=\"_blank\">mpfr.jl:243</a><li> +(a::<b>BigFloat</b>, b::<b>BigFloat</b>, c::<b>BigFloat</b>) at <a href=\"https://github.com/JuliaLang/julia/tree/ae26b25d43317d7dd3ca05f60b70677aab9c0e08/base/mpfr.jl#L379\" target=\"_blank\">mpfr.jl:379</a><li> +(a::<b>BigFloat</b>, b::<b>BigFloat</b>, c::<b>BigFloat</b>, d::<b>BigFloat</b>) at <a href=\"https://github.com/JuliaLang/julia/tree/ae26b25d43317d7dd3ca05f60b70677aab9c0e08/base/mpfr.jl#L385\" target=\"_blank\">mpfr.jl:385</a><li> +(a::<b>BigFloat</b>, b::<b>BigFloat</b>, c::<b>BigFloat</b>, d::<b>BigFloat</b>, e::<b>BigFloat</b>) at <a href=\"https://github.com/JuliaLang/julia/tree/ae26b25d43317d7dd3ca05f60b70677aab9c0e08/base/mpfr.jl#L392\" target=\"_blank\">mpfr.jl:392</a><li> +(x::<b>Irrational{sym}</b>, y::<b>Irrational{sym}</b>) at <a href=\"https://github.com/JuliaLang/julia/tree/ae26b25d43317d7dd3ca05f60b70677aab9c0e08/base/irrationals.jl#L72\" target=\"_blank\">irrationals.jl:72</a><li> +(x::<b>Number</b>) at <a href=\"https://github.com/JuliaLang/julia/tree/ae26b25d43317d7dd3ca05f60b70677aab9c0e08/base/operators.jl#L73\" target=\"_blank\">operators.jl:73</a><li> +<i>{T<:Number}</i>(x::<b>T<:Number</b>, y::<b>T<:Number</b>) at <a href=\"https://github.com/JuliaLang/julia/tree/ae26b25d43317d7dd3ca05f60b70677aab9c0e08/base/promotion.jl#L211\" target=\"_blank\">promotion.jl:211</a><li> +<i>{T<:AbstractFloat}</i>(x::<b>Bool</b>, y::<b>T<:AbstractFloat</b>) at <a href=\"https://github.com/JuliaLang/julia/tree/ae26b25d43317d7dd3ca05f60b70677aab9c0e08/base/bool.jl#L43\" target=\"_blank\">bool.jl:43</a><li> +(x::<b>Number</b>, y::<b>Number</b>) at <a href=\"https://github.com/JuliaLang/julia/tree/ae26b25d43317d7dd3ca05f60b70677aab9c0e08/base/promotion.jl#L167\" target=\"_blank\">promotion.jl:167</a><li> +(r1::<b>OrdinalRange{T,S}</b>, r2::<b>OrdinalRange{T,S}</b>) at <a href=\"https://github.com/JuliaLang/julia/tree/ae26b25d43317d7dd3ca05f60b70677aab9c0e08/base/operators.jl#L330\" target=\"_blank\">operators.jl:330</a><li> +<i>{T<:AbstractFloat}</i>(r1::<b>FloatRange{T<:AbstractFloat}</b>, r2::<b>FloatRange{T<:AbstractFloat}</b>) at <a href=\"https://github.com/JuliaLang/julia/tree/ae26b25d43317d7dd3ca05f60b70677aab9c0e08/base/operators.jl#L337\" target=\"_blank\">operators.jl:337</a><li> +<i>{T<:AbstractFloat}</i>(r1::<b>LinSpace{T<:AbstractFloat}</b>, r2::<b>LinSpace{T<:AbstractFloat}</b>) at <a href=\"https://github.com/JuliaLang/julia/tree/ae26b25d43317d7dd3ca05f60b70677aab9c0e08/base/operators.jl#L356\" target=\"_blank\">operators.jl:356</a><li> +(r1::<b>Union{FloatRange{T<:AbstractFloat},LinSpace{T<:AbstractFloat},OrdinalRange{T,S}}</b>, r2::<b>Union{FloatRange{T<:AbstractFloat},LinSpace{T<:AbstractFloat},OrdinalRange{T,S}}</b>) at <a href=\"https://github.com/JuliaLang/julia/tree/ae26b25d43317d7dd3ca05f60b70677aab9c0e08/base/operators.jl#L369\" target=\"_blank\">operators.jl:369</a><li> +(x::<b>Ptr{T}</b>, y::<b>Integer</b>) at <a href=\"https://github.com/JuliaLang/julia/tree/ae26b25d43317d7dd3ca05f60b70677aab9c0e08/base/pointer.jl#L75\" target=\"_blank\">pointer.jl:75</a><li> +<i>{S,T}</i>(A::<b>Range{S}</b>, B::<b>Range{T}</b>) at <a href=\"https://github.com/JuliaLang/julia/tree/ae26b25d43317d7dd3ca05f60b70677aab9c0e08/base/arraymath.jl#L69\" target=\"_blank\">arraymath.jl:69</a><li> +<i>{S,T}</i>(A::<b>Range{S}</b>, B::<b>AbstractArray{T,N}</b>) at <a href=\"https://github.com/JuliaLang/julia/tree/ae26b25d43317d7dd3ca05f60b70677aab9c0e08/base/arraymath.jl#L87\" target=\"_blank\">arraymath.jl:87</a><li> +(A::<b>BitArray{N}</b>, B::<b>BitArray{N}</b>) at <a href=\"https://github.com/JuliaLang/julia/tree/ae26b25d43317d7dd3ca05f60b70677aab9c0e08/base/bitarray.jl#L859\" target=\"_blank\">bitarray.jl:859</a><li> +<i>{T}</i>(B::<b>BitArray{2}</b>, J::<b>UniformScaling{T}</b>) at <a href=\"https://github.com/JuliaLang/julia/tree/ae26b25d43317d7dd3ca05f60b70677aab9c0e08/base/linalg/uniformscaling.jl#L33\" target=\"_blank\">linalg/uniformscaling.jl:33</a><li> +(A::<b>Array{T,2}</b>, B::<b>Diagonal{T}</b>) at <a href=\"https://github.com/JuliaLang/julia/tree/ae26b25d43317d7dd3ca05f60b70677aab9c0e08/base/linalg/special.jl#L122\" target=\"_blank\">linalg/special.jl:122</a><li> +(A::<b>Array{T,2}</b>, B::<b>Bidiagonal{T}</b>) at <a href=\"https://github.com/JuliaLang/julia/tree/ae26b25d43317d7dd3ca05f60b70677aab9c0e08/base/linalg/special.jl#L122\" target=\"_blank\">linalg/special.jl:122</a><li> +(A::<b>Array{T,2}</b>, B::<b>Tridiagonal{T}</b>) at <a href=\"https://github.com/JuliaLang/julia/tree/ae26b25d43317d7dd3ca05f60b70677aab9c0e08/base/linalg/special.jl#L122\" target=\"_blank\">linalg/special.jl:122</a><li> +(A::<b>Array{T,2}</b>, B::<b>SymTridiagonal{T}</b>) at <a href=\"https://github.com/JuliaLang/julia/tree/ae26b25d43317d7dd3ca05f60b70677aab9c0e08/base/linalg/special.jl#L131\" target=\"_blank\">linalg/special.jl:131</a><li> +(A::<b>Array{T,2}</b>, B::<b>Base.LinAlg.AbstractTriangular{T,S<:AbstractArray{T,2}}</b>) at <a href=\"https://github.com/JuliaLang/julia/tree/ae26b25d43317d7dd3ca05f60b70677aab9c0e08/base/linalg/special.jl#L159\" target=\"_blank\">linalg/special.jl:159</a><li> +(A::<b>Array{T,N}</b>, B::<b>SparseMatrixCSC{Tv,Ti<:Integer}</b>) at <a href=\"https://github.com/JuliaLang/julia/tree/ae26b25d43317d7dd3ca05f60b70677aab9c0e08/base/sparse/sparsematrix.jl#L1019\" target=\"_blank\">sparse/sparsematrix.jl:1019</a><li> +<i>{P<:Union{Base.Dates.CompoundPeriod,Base.Dates.Period}}</i>(x::<b>Union{DenseArray{P<:Union{Base.Dates.CompoundPeriod,Base.Dates.Period},N},SubArray{P<:Union{Base.Dates.CompoundPeriod,Base.Dates.Period},N,A<:DenseArray{T,N},I<:Tuple{Vararg{Union{Colon,Int64,Range{Int64}}}},LD}}</b>) at <a href=\"https://github.com/JuliaLang/julia/tree/ae26b25d43317d7dd3ca05f60b70677aab9c0e08/base/dates/periods.jl#L221\" target=\"_blank\">dates/periods.jl:221</a><li> +(A::<b>AbstractArray{Bool,N}</b>, x::<b>Bool</b>) at <a href=\"https://github.com/JuliaLang/julia/tree/ae26b25d43317d7dd3ca05f60b70677aab9c0e08/base/arraymath.jl#L135\" target=\"_blank\">arraymath.jl:135</a><li> +(A::<b>Union{DenseArray{Bool,N},SubArray{Bool,N,A<:DenseArray{T,N},I<:Tuple{Vararg{Union{Colon,Int64,Range{Int64}}}},LD}}</b>, B::<b>Union{DenseArray{Bool,N},SubArray{Bool,N,A<:DenseArray{T,N},I<:Tuple{Vararg{Union{Colon,Int64,Range{Int64}}}},LD}}</b>) at <a href=\"https://github.com/JuliaLang/julia/tree/ae26b25d43317d7dd3ca05f60b70677aab9c0e08/base/arraymath.jl#L166\" target=\"_blank\">arraymath.jl:166</a><li> +(A::<b>SymTridiagonal{T}</b>, B::<b>SymTridiagonal{T}</b>) at <a href=\"https://github.com/JuliaLang/julia/tree/ae26b25d43317d7dd3ca05f60b70677aab9c0e08/base/linalg/tridiag.jl#L84\" target=\"_blank\">linalg/tridiag.jl:84</a><li> +(A::<b>Tridiagonal{T}</b>, B::<b>Tridiagonal{T}</b>) at <a href=\"https://github.com/JuliaLang/julia/tree/ae26b25d43317d7dd3ca05f60b70677aab9c0e08/base/linalg/tridiag.jl#L404\" target=\"_blank\">linalg/tridiag.jl:404</a><li> +(A::<b>UpperTriangular{T,S<:AbstractArray{T,2}}</b>, B::<b>UpperTriangular{T,S<:AbstractArray{T,2}}</b>) at <a href=\"https://github.com/JuliaLang/julia/tree/ae26b25d43317d7dd3ca05f60b70677aab9c0e08/base/linalg/triangular.jl#L347\" target=\"_blank\">linalg/triangular.jl:347</a><li> +(A::<b>LowerTriangular{T,S<:AbstractArray{T,2}}</b>, B::<b>LowerTriangular{T,S<:AbstractArray{T,2}}</b>) at <a href=\"https://github.com/JuliaLang/julia/tree/ae26b25d43317d7dd3ca05f60b70677aab9c0e08/base/linalg/triangular.jl#L348\" target=\"_blank\">linalg/triangular.jl:348</a><li> +(A::<b>UpperTriangular{T,S<:AbstractArray{T,2}}</b>, B::<b>Base.LinAlg.UnitUpperTriangular{T,S<:AbstractArray{T,2}}</b>) at <a href=\"https://github.com/JuliaLang/julia/tree/ae26b25d43317d7dd3ca05f60b70677aab9c0e08/base/linalg/triangular.jl#L349\" target=\"_blank\">linalg/triangular.jl:349</a><li> +(A::<b>LowerTriangular{T,S<:AbstractArray{T,2}}</b>, B::<b>Base.LinAlg.UnitLowerTriangular{T,S<:AbstractArray{T,2}}</b>) at <a href=\"https://github.com/JuliaLang/julia/tree/ae26b25d43317d7dd3ca05f60b70677aab9c0e08/base/linalg/triangular.jl#L350\" target=\"_blank\">linalg/triangular.jl:350</a><li> +(A::<b>Base.LinAlg.UnitUpperTriangular{T,S<:AbstractArray{T,2}}</b>, B::<b>UpperTriangular{T,S<:AbstractArray{T,2}}</b>) at <a href=\"https://github.com/JuliaLang/julia/tree/ae26b25d43317d7dd3ca05f60b70677aab9c0e08/base/linalg/triangular.jl#L351\" target=\"_blank\">linalg/triangular.jl:351</a><li> +(A::<b>Base.LinAlg.UnitLowerTriangular{T,S<:AbstractArray{T,2}}</b>, B::<b>LowerTriangular{T,S<:AbstractArray{T,2}}</b>) at <a href=\"https://github.com/JuliaLang/julia/tree/ae26b25d43317d7dd3ca05f60b70677aab9c0e08/base/linalg/triangular.jl#L352\" target=\"_blank\">linalg/triangular.jl:352</a><li> +(A::<b>Base.LinAlg.UnitUpperTriangular{T,S<:AbstractArray{T,2}}</b>, B::<b>Base.LinAlg.UnitUpperTriangular{T,S<:AbstractArray{T,2}}</b>) at <a href=\"https://github.com/JuliaLang/julia/tree/ae26b25d43317d7dd3ca05f60b70677aab9c0e08/base/linalg/triangular.jl#L353\" target=\"_blank\">linalg/triangular.jl:353</a><li> +(A::<b>Base.LinAlg.UnitLowerTriangular{T,S<:AbstractArray{T,2}}</b>, B::<b>Base.LinAlg.UnitLowerTriangular{T,S<:AbstractArray{T,2}}</b>) at <a href=\"https://github.com/JuliaLang/julia/tree/ae26b25d43317d7dd3ca05f60b70677aab9c0e08/base/linalg/triangular.jl#L354\" target=\"_blank\">linalg/triangular.jl:354</a><li> +(A::<b>Base.LinAlg.AbstractTriangular{T,S<:AbstractArray{T,2}}</b>, B::<b>Base.LinAlg.AbstractTriangular{T,S<:AbstractArray{T,2}}</b>) at <a href=\"https://github.com/JuliaLang/julia/tree/ae26b25d43317d7dd3ca05f60b70677aab9c0e08/base/linalg/triangular.jl#L355\" target=\"_blank\">linalg/triangular.jl:355</a><li> +(Da::<b>Diagonal{T}</b>, Db::<b>Diagonal{T}</b>) at <a href=\"https://github.com/JuliaLang/julia/tree/ae26b25d43317d7dd3ca05f60b70677aab9c0e08/base/linalg/diagonal.jl#L86\" target=\"_blank\">linalg/diagonal.jl:86</a><li> +(A::<b>Bidiagonal{T}</b>, B::<b>Bidiagonal{T}</b>) at <a href=\"https://github.com/JuliaLang/julia/tree/ae26b25d43317d7dd3ca05f60b70677aab9c0e08/base/linalg/bidiag.jl#L176\" target=\"_blank\">linalg/bidiag.jl:176</a><li> +(UL::<b>UpperTriangular{T,S<:AbstractArray{T,2}}</b>, J::<b>UniformScaling{T<:Number}</b>) at <a href=\"https://github.com/JuliaLang/julia/tree/ae26b25d43317d7dd3ca05f60b70677aab9c0e08/base/linalg/uniformscaling.jl#L50\" target=\"_blank\">linalg/uniformscaling.jl:50</a><li> +(UL::<b>Base.LinAlg.UnitUpperTriangular{T,S<:AbstractArray{T,2}}</b>, J::<b>UniformScaling{T<:Number}</b>) at <a href=\"https://github.com/JuliaLang/julia/tree/ae26b25d43317d7dd3ca05f60b70677aab9c0e08/base/linalg/uniformscaling.jl#L53\" target=\"_blank\">linalg/uniformscaling.jl:53</a><li> +(UL::<b>LowerTriangular{T,S<:AbstractArray{T,2}}</b>, J::<b>UniformScaling{T<:Number}</b>) at <a href=\"https://github.com/JuliaLang/julia/tree/ae26b25d43317d7dd3ca05f60b70677aab9c0e08/base/linalg/uniformscaling.jl#L50\" target=\"_blank\">linalg/uniformscaling.jl:50</a><li> +(UL::<b>Base.LinAlg.UnitLowerTriangular{T,S<:AbstractArray{T,2}}</b>, J::<b>UniformScaling{T<:Number}</b>) at <a href=\"https://github.com/JuliaLang/julia/tree/ae26b25d43317d7dd3ca05f60b70677aab9c0e08/base/linalg/uniformscaling.jl#L53\" target=\"_blank\">linalg/uniformscaling.jl:53</a><li> +(A::<b>Diagonal{T}</b>, B::<b>Bidiagonal{T}</b>) at <a href=\"https://github.com/JuliaLang/julia/tree/ae26b25d43317d7dd3ca05f60b70677aab9c0e08/base/linalg/special.jl#L121\" target=\"_blank\">linalg/special.jl:121</a><li> +(A::<b>Bidiagonal{T}</b>, B::<b>Diagonal{T}</b>) at <a href=\"https://github.com/JuliaLang/julia/tree/ae26b25d43317d7dd3ca05f60b70677aab9c0e08/base/linalg/special.jl#L122\" target=\"_blank\">linalg/special.jl:122</a><li> +(A::<b>Diagonal{T}</b>, B::<b>Tridiagonal{T}</b>) at <a href=\"https://github.com/JuliaLang/julia/tree/ae26b25d43317d7dd3ca05f60b70677aab9c0e08/base/linalg/special.jl#L121\" target=\"_blank\">linalg/special.jl:121</a><li> +(A::<b>Tridiagonal{T}</b>, B::<b>Diagonal{T}</b>) at <a href=\"https://github.com/JuliaLang/julia/tree/ae26b25d43317d7dd3ca05f60b70677aab9c0e08/base/linalg/special.jl#L122\" target=\"_blank\">linalg/special.jl:122</a><li> +(A::<b>Diagonal{T}</b>, B::<b>Array{T,2}</b>) at <a href=\"https://github.com/JuliaLang/julia/tree/ae26b25d43317d7dd3ca05f60b70677aab9c0e08/base/linalg/special.jl#L121\" target=\"_blank\">linalg/special.jl:121</a><li> +(A::<b>Bidiagonal{T}</b>, B::<b>Tridiagonal{T}</b>) at <a href=\"https://github.com/JuliaLang/julia/tree/ae26b25d43317d7dd3ca05f60b70677aab9c0e08/base/linalg/special.jl#L121\" target=\"_blank\">linalg/special.jl:121</a><li> +(A::<b>Tridiagonal{T}</b>, B::<b>Bidiagonal{T}</b>) at <a href=\"https://github.com/JuliaLang/julia/tree/ae26b25d43317d7dd3ca05f60b70677aab9c0e08/base/linalg/special.jl#L122\" target=\"_blank\">linalg/special.jl:122</a><li> +(A::<b>Bidiagonal{T}</b>, B::<b>Array{T,2}</b>) at <a href=\"https://github.com/JuliaLang/julia/tree/ae26b25d43317d7dd3ca05f60b70677aab9c0e08/base/linalg/special.jl#L121\" target=\"_blank\">linalg/special.jl:121</a><li> +(A::<b>Tridiagonal{T}</b>, B::<b>Array{T,2}</b>) at <a href=\"https://github.com/JuliaLang/julia/tree/ae26b25d43317d7dd3ca05f60b70677aab9c0e08/base/linalg/special.jl#L121\" target=\"_blank\">linalg/special.jl:121</a><li> +(A::<b>SymTridiagonal{T}</b>, B::<b>Tridiagonal{T}</b>) at <a href=\"https://github.com/JuliaLang/julia/tree/ae26b25d43317d7dd3ca05f60b70677aab9c0e08/base/linalg/special.jl#L130\" target=\"_blank\">linalg/special.jl:130</a><li> +(A::<b>Tridiagonal{T}</b>, B::<b>SymTridiagonal{T}</b>) at <a href=\"https://github.com/JuliaLang/julia/tree/ae26b25d43317d7dd3ca05f60b70677aab9c0e08/base/linalg/special.jl#L131\" target=\"_blank\">linalg/special.jl:131</a><li> +(A::<b>SymTridiagonal{T}</b>, B::<b>Array{T,2}</b>) at <a href=\"https://github.com/JuliaLang/julia/tree/ae26b25d43317d7dd3ca05f60b70677aab9c0e08/base/linalg/special.jl#L130\" target=\"_blank\">linalg/special.jl:130</a><li> +(A::<b>Diagonal{T}</b>, B::<b>SymTridiagonal{T}</b>) at <a href=\"https://github.com/JuliaLang/julia/tree/ae26b25d43317d7dd3ca05f60b70677aab9c0e08/base/linalg/special.jl#L139\" target=\"_blank\">linalg/special.jl:139</a><li> +(A::<b>SymTridiagonal{T}</b>, B::<b>Diagonal{T}</b>) at <a href=\"https://github.com/JuliaLang/julia/tree/ae26b25d43317d7dd3ca05f60b70677aab9c0e08/base/linalg/special.jl#L140\" target=\"_blank\">linalg/special.jl:140</a><li> +(A::<b>Bidiagonal{T}</b>, B::<b>SymTridiagonal{T}</b>) at <a href=\"https://github.com/JuliaLang/julia/tree/ae26b25d43317d7dd3ca05f60b70677aab9c0e08/base/linalg/special.jl#L139\" target=\"_blank\">linalg/special.jl:139</a><li> +(A::<b>SymTridiagonal{T}</b>, B::<b>Bidiagonal{T}</b>) at <a href=\"https://github.com/JuliaLang/julia/tree/ae26b25d43317d7dd3ca05f60b70677aab9c0e08/base/linalg/special.jl#L140\" target=\"_blank\">linalg/special.jl:140</a><li> +(A::<b>Diagonal{T}</b>, B::<b>UpperTriangular{T,S<:AbstractArray{T,2}}</b>) at <a href=\"https://github.com/JuliaLang/julia/tree/ae26b25d43317d7dd3ca05f60b70677aab9c0e08/base/linalg/special.jl#L151\" target=\"_blank\">linalg/special.jl:151</a><li> +(A::<b>UpperTriangular{T,S<:AbstractArray{T,2}}</b>, B::<b>Diagonal{T}</b>) at <a href=\"https://github.com/JuliaLang/julia/tree/ae26b25d43317d7dd3ca05f60b70677aab9c0e08/base/linalg/special.jl#L152\" target=\"_blank\">linalg/special.jl:152</a><li> +(A::<b>Diagonal{T}</b>, B::<b>Base.LinAlg.UnitUpperTriangular{T,S<:AbstractArray{T,2}}</b>) at <a href=\"https://github.com/JuliaLang/julia/tree/ae26b25d43317d7dd3ca05f60b70677aab9c0e08/base/linalg/special.jl#L151\" target=\"_blank\">linalg/special.jl:151</a><li> +(A::<b>Base.LinAlg.UnitUpperTriangular{T,S<:AbstractArray{T,2}}</b>, B::<b>Diagonal{T}</b>) at <a href=\"https://github.com/JuliaLang/julia/tree/ae26b25d43317d7dd3ca05f60b70677aab9c0e08/base/linalg/special.jl#L152\" target=\"_blank\">linalg/special.jl:152</a><li> +(A::<b>Diagonal{T}</b>, B::<b>LowerTriangular{T,S<:AbstractArray{T,2}}</b>) at <a href=\"https://github.com/JuliaLang/julia/tree/ae26b25d43317d7dd3ca05f60b70677aab9c0e08/base/linalg/special.jl#L151\" target=\"_blank\">linalg/special.jl:151</a><li> +(A::<b>LowerTriangular{T,S<:AbstractArray{T,2}}</b>, B::<b>Diagonal{T}</b>) at <a href=\"https://github.com/JuliaLang/julia/tree/ae26b25d43317d7dd3ca05f60b70677aab9c0e08/base/linalg/special.jl#L152\" target=\"_blank\">linalg/special.jl:152</a><li> +(A::<b>Diagonal{T}</b>, B::<b>Base.LinAlg.UnitLowerTriangular{T,S<:AbstractArray{T,2}}</b>) at <a href=\"https://github.com/JuliaLang/julia/tree/ae26b25d43317d7dd3ca05f60b70677aab9c0e08/base/linalg/special.jl#L151\" target=\"_blank\">linalg/special.jl:151</a><li> +(A::<b>Base.LinAlg.UnitLowerTriangular{T,S<:AbstractArray{T,2}}</b>, B::<b>Diagonal{T}</b>) at <a href=\"https://github.com/JuliaLang/julia/tree/ae26b25d43317d7dd3ca05f60b70677aab9c0e08/base/linalg/special.jl#L152\" target=\"_blank\">linalg/special.jl:152</a><li> +(A::<b>Base.LinAlg.AbstractTriangular{T,S<:AbstractArray{T,2}}</b>, B::<b>SymTridiagonal{T}</b>) at <a href=\"https://github.com/JuliaLang/julia/tree/ae26b25d43317d7dd3ca05f60b70677aab9c0e08/base/linalg/special.jl#L158\" target=\"_blank\">linalg/special.jl:158</a><li> +(A::<b>SymTridiagonal{T}</b>, B::<b>Base.LinAlg.AbstractTriangular{T,S<:AbstractArray{T,2}}</b>) at <a href=\"https://github.com/JuliaLang/julia/tree/ae26b25d43317d7dd3ca05f60b70677aab9c0e08/base/linalg/special.jl#L159\" target=\"_blank\">linalg/special.jl:159</a><li> +(A::<b>Base.LinAlg.AbstractTriangular{T,S<:AbstractArray{T,2}}</b>, B::<b>Tridiagonal{T}</b>) at <a href=\"https://github.com/JuliaLang/julia/tree/ae26b25d43317d7dd3ca05f60b70677aab9c0e08/base/linalg/special.jl#L158\" target=\"_blank\">linalg/special.jl:158</a><li> +(A::<b>Tridiagonal{T}</b>, B::<b>Base.LinAlg.AbstractTriangular{T,S<:AbstractArray{T,2}}</b>) at <a href=\"https://github.com/JuliaLang/julia/tree/ae26b25d43317d7dd3ca05f60b70677aab9c0e08/base/linalg/special.jl#L159\" target=\"_blank\">linalg/special.jl:159</a><li> +(A::<b>Base.LinAlg.AbstractTriangular{T,S<:AbstractArray{T,2}}</b>, B::<b>Bidiagonal{T}</b>) at <a href=\"https://github.com/JuliaLang/julia/tree/ae26b25d43317d7dd3ca05f60b70677aab9c0e08/base/linalg/special.jl#L158\" target=\"_blank\">linalg/special.jl:158</a><li> +(A::<b>Bidiagonal{T}</b>, B::<b>Base.LinAlg.AbstractTriangular{T,S<:AbstractArray{T,2}}</b>) at <a href=\"https://github.com/JuliaLang/julia/tree/ae26b25d43317d7dd3ca05f60b70677aab9c0e08/base/linalg/special.jl#L159\" target=\"_blank\">linalg/special.jl:159</a><li> +(A::<b>Base.LinAlg.AbstractTriangular{T,S<:AbstractArray{T,2}}</b>, B::<b>Array{T,2}</b>) at <a href=\"https://github.com/JuliaLang/julia/tree/ae26b25d43317d7dd3ca05f60b70677aab9c0e08/base/linalg/special.jl#L158\" target=\"_blank\">linalg/special.jl:158</a><li> +<i>{Tv1,Ti1,Tv2,Ti2}</i>(A_1::<b>SparseMatrixCSC{Tv1,Ti1}</b>, A_2::<b>SparseMatrixCSC{Tv2,Ti2}</b>) at <a href=\"https://github.com/JuliaLang/julia/tree/ae26b25d43317d7dd3ca05f60b70677aab9c0e08/base/sparse/sparsematrix.jl#L1005\" target=\"_blank\">sparse/sparsematrix.jl:1005</a><li> +(A::<b>SparseMatrixCSC{Tv,Ti<:Integer}</b>, B::<b>Array{T,N}</b>) at <a href=\"https://github.com/JuliaLang/julia/tree/ae26b25d43317d7dd3ca05f60b70677aab9c0e08/base/sparse/sparsematrix.jl#L1017\" target=\"_blank\">sparse/sparsematrix.jl:1017</a><li> +(A::<b>SparseMatrixCSC{Tv,Ti<:Integer}</b>, J::<b>UniformScaling{T<:Number}</b>) at <a href=\"https://github.com/JuliaLang/julia/tree/ae26b25d43317d7dd3ca05f60b70677aab9c0e08/base/sparse/sparsematrix.jl#L3030\" target=\"_blank\">sparse/sparsematrix.jl:3030</a><li> +<i>{P<:Union{Base.Dates.CompoundPeriod,Base.Dates.Period}}</i>(Y::<b>Union{DenseArray{P<:Union{Base.Dates.CompoundPeriod,Base.Dates.Period},N},SubArray{P<:Union{Base.Dates.CompoundPeriod,Base.Dates.Period},N,A<:DenseArray{T,N},I<:Tuple{Vararg{Union{Colon,Int64,Range{Int64}}}},LD}}</b>, x::<b>Union{Base.Dates.CompoundPeriod,Base.Dates.Period}</b>) at <a href=\"https://github.com/JuliaLang/julia/tree/ae26b25d43317d7dd3ca05f60b70677aab9c0e08/base/dates/periods.jl#L235\" target=\"_blank\">dates/periods.jl:235</a><li> +<i>{P<:Union{Base.Dates.CompoundPeriod,Base.Dates.Period},Q<:Union{Base.Dates.CompoundPeriod,Base.Dates.Period}}</i>(X::<b>Union{DenseArray{P<:Union{Base.Dates.CompoundPeriod,Base.Dates.Period},N},SubArray{P<:Union{Base.Dates.CompoundPeriod,Base.Dates.Period},N,A<:DenseArray{T,N},I<:Tuple{Vararg{Union{Colon,Int64,Range{Int64}}}},LD}}</b>, Y::<b>Union{DenseArray{Q<:Union{Base.Dates.CompoundPeriod,Base.Dates.Period},N},SubArray{Q<:Union{Base.Dates.CompoundPeriod,Base.Dates.Period},N,A<:DenseArray{T,N},I<:Tuple{Vararg{Union{Colon,Int64,Range{Int64}}}},LD}}</b>) at <a href=\"https://github.com/JuliaLang/julia/tree/ae26b25d43317d7dd3ca05f60b70677aab9c0e08/base/dates/periods.jl#L236\" target=\"_blank\">dates/periods.jl:236</a><li> +<i>{T<:Base.Dates.TimeType,P<:Union{Base.Dates.CompoundPeriod,Base.Dates.Period}}</i>(x::<b>Union{DenseArray{P<:Union{Base.Dates.CompoundPeriod,Base.Dates.Period},N},SubArray{P<:Union{Base.Dates.CompoundPeriod,Base.Dates.Period},N,A<:DenseArray{T,N},I<:Tuple{Vararg{Union{Colon,Int64,Range{Int64}}}},LD}}</b>, y::<b>T<:Base.Dates.TimeType</b>) at <a href=\"https://github.com/JuliaLang/julia/tree/ae26b25d43317d7dd3ca05f60b70677aab9c0e08/base/dates/arithmetic.jl#L83\" target=\"_blank\">dates/arithmetic.jl:83</a><li> +<i>{T<:Base.Dates.TimeType}</i>(r::<b>Range{T<:Base.Dates.TimeType}</b>, x::<b>Base.Dates.Period</b>) at <a href=\"https://github.com/JuliaLang/julia/tree/ae26b25d43317d7dd3ca05f60b70677aab9c0e08/base/dates/ranges.jl#L39\" target=\"_blank\">dates/ranges.jl:39</a><li> +<i>{T<:Number}</i>(x::<b>AbstractArray{T<:Number,N}</b>) at <a href=\"https://github.com/JuliaLang/julia/tree/ae26b25d43317d7dd3ca05f60b70677aab9c0e08/base/abstractarraymath.jl#L49\" target=\"_blank\">abstractarraymath.jl:49</a><li> +<i>{S,T}</i>(A::<b>AbstractArray{S,N}</b>, B::<b>Range{T}</b>) at <a href=\"https://github.com/JuliaLang/julia/tree/ae26b25d43317d7dd3ca05f60b70677aab9c0e08/base/arraymath.jl#L78\" target=\"_blank\">arraymath.jl:78</a><li> +<i>{S,T}</i>(A::<b>AbstractArray{S,N}</b>, B::<b>AbstractArray{T,N}</b>) at <a href=\"https://github.com/JuliaLang/julia/tree/ae26b25d43317d7dd3ca05f60b70677aab9c0e08/base/arraymath.jl#L96\" target=\"_blank\">arraymath.jl:96</a><li> +(A::<b>AbstractArray{T,N}</b>, x::<b>Number</b>) at <a href=\"https://github.com/JuliaLang/julia/tree/ae26b25d43317d7dd3ca05f60b70677aab9c0e08/base/arraymath.jl#L139\" target=\"_blank\">arraymath.jl:139</a><li> +(x::<b>Number</b>, A::<b>AbstractArray{T,N}</b>) at <a href=\"https://github.com/JuliaLang/julia/tree/ae26b25d43317d7dd3ca05f60b70677aab9c0e08/base/arraymath.jl#L140\" target=\"_blank\">arraymath.jl:140</a><li> +(x::<b>Char</b>, y::<b>Integer</b>) at <a href=\"https://github.com/JuliaLang/julia/tree/ae26b25d43317d7dd3ca05f60b70677aab9c0e08/base/char.jl#L42\" target=\"_blank\">char.jl:42</a><li> +<i>{N}</i>(index1::<b>CartesianIndex{N}</b>, index2::<b>CartesianIndex{N}</b>) at <a href=\"https://github.com/JuliaLang/julia/tree/ae26b25d43317d7dd3ca05f60b70677aab9c0e08/base/multidimensional.jl#L42\" target=\"_blank\">multidimensional.jl:42</a><li> +(J1::<b>UniformScaling{T<:Number}</b>, J2::<b>UniformScaling{T<:Number}</b>) at <a href=\"https://github.com/JuliaLang/julia/tree/ae26b25d43317d7dd3ca05f60b70677aab9c0e08/base/linalg/uniformscaling.jl#L32\" target=\"_blank\">linalg/uniformscaling.jl:32</a><li> +(J::<b>UniformScaling{T<:Number}</b>, B::<b>BitArray{2}</b>) at <a href=\"https://github.com/JuliaLang/julia/tree/ae26b25d43317d7dd3ca05f60b70677aab9c0e08/base/linalg/uniformscaling.jl#L34\" target=\"_blank\">linalg/uniformscaling.jl:34</a><li> +(J::<b>UniformScaling{T<:Number}</b>, A::<b>AbstractArray{T,2}</b>) at <a href=\"https://github.com/JuliaLang/julia/tree/ae26b25d43317d7dd3ca05f60b70677aab9c0e08/base/linalg/uniformscaling.jl#L35\" target=\"_blank\">linalg/uniformscaling.jl:35</a><li> +(J::<b>UniformScaling{T<:Number}</b>, x::<b>Number</b>) at <a href=\"https://github.com/JuliaLang/julia/tree/ae26b25d43317d7dd3ca05f60b70677aab9c0e08/base/linalg/uniformscaling.jl#L36\" target=\"_blank\">linalg/uniformscaling.jl:36</a><li> +(x::<b>Number</b>, J::<b>UniformScaling{T<:Number}</b>) at <a href=\"https://github.com/JuliaLang/julia/tree/ae26b25d43317d7dd3ca05f60b70677aab9c0e08/base/linalg/uniformscaling.jl#L37\" target=\"_blank\">linalg/uniformscaling.jl:37</a><li> +<i>{TA,TJ}</i>(A::<b>AbstractArray{TA,2}</b>, J::<b>UniformScaling{TJ}</b>) at <a href=\"https://github.com/JuliaLang/julia/tree/ae26b25d43317d7dd3ca05f60b70677aab9c0e08/base/linalg/uniformscaling.jl#L97\" target=\"_blank\">linalg/uniformscaling.jl:97</a><li> +<i>{T}</i>(a::<b>Base.Pkg.Resolve.VersionWeights.HierarchicalValue{T}</b>, b::<b>Base.Pkg.Resolve.VersionWeights.HierarchicalValue{T}</b>) at <a href=\"https://github.com/JuliaLang/julia/tree/ae26b25d43317d7dd3ca05f60b70677aab9c0e08/base/pkg/resolve/versionweight.jl#L23\" target=\"_blank\">pkg/resolve/versionweight.jl:23</a><li> +(a::<b>Base.Pkg.Resolve.VersionWeights.VWPreBuildItem</b>, b::<b>Base.Pkg.Resolve.VersionWeights.VWPreBuildItem</b>) at <a href=\"https://github.com/JuliaLang/julia/tree/ae26b25d43317d7dd3ca05f60b70677aab9c0e08/base/pkg/resolve/versionweight.jl#L85\" target=\"_blank\">pkg/resolve/versionweight.jl:85</a><li> +(a::<b>Base.Pkg.Resolve.VersionWeights.VWPreBuild</b>, b::<b>Base.Pkg.Resolve.VersionWeights.VWPreBuild</b>) at <a href=\"https://github.com/JuliaLang/julia/tree/ae26b25d43317d7dd3ca05f60b70677aab9c0e08/base/pkg/resolve/versionweight.jl#L131\" target=\"_blank\">pkg/resolve/versionweight.jl:131</a><li> +(a::<b>Base.Pkg.Resolve.VersionWeights.VersionWeight</b>, b::<b>Base.Pkg.Resolve.VersionWeights.VersionWeight</b>) at <a href=\"https://github.com/JuliaLang/julia/tree/ae26b25d43317d7dd3ca05f60b70677aab9c0e08/base/pkg/resolve/versionweight.jl#L185\" target=\"_blank\">pkg/resolve/versionweight.jl:185</a><li> +(a::<b>Base.Pkg.Resolve.MaxSum.FieldValues.FieldValue</b>, b::<b>Base.Pkg.Resolve.MaxSum.FieldValues.FieldValue</b>) at <a href=\"https://github.com/JuliaLang/julia/tree/ae26b25d43317d7dd3ca05f60b70677aab9c0e08/base/pkg/resolve/fieldvalue.jl#L44\" target=\"_blank\">pkg/resolve/fieldvalue.jl:44</a><li> +<i>{P<:Base.Dates.Period}</i>(x::<b>P<:Base.Dates.Period</b>, y::<b>P<:Base.Dates.Period</b>) at <a href=\"https://github.com/JuliaLang/julia/tree/ae26b25d43317d7dd3ca05f60b70677aab9c0e08/base/dates/periods.jl#L62\" target=\"_blank\">dates/periods.jl:62</a><li> +(x::<b>Base.Dates.Period</b>, y::<b>Base.Dates.Period</b>) at <a href=\"https://github.com/JuliaLang/julia/tree/ae26b25d43317d7dd3ca05f60b70677aab9c0e08/base/dates/periods.jl#L209\" target=\"_blank\">dates/periods.jl:209</a><li> +(x::<b>Base.Dates.CompoundPeriod</b>, y::<b>Base.Dates.Period</b>) at <a href=\"https://github.com/JuliaLang/julia/tree/ae26b25d43317d7dd3ca05f60b70677aab9c0e08/base/dates/periods.jl#L210\" target=\"_blank\">dates/periods.jl:210</a><li> +(y::<b>Base.Dates.Period</b>, x::<b>Base.Dates.CompoundPeriod</b>) at <a href=\"https://github.com/JuliaLang/julia/tree/ae26b25d43317d7dd3ca05f60b70677aab9c0e08/base/dates/periods.jl#L211\" target=\"_blank\">dates/periods.jl:211</a><li> +(x::<b>Base.Dates.CompoundPeriod</b>, y::<b>Base.Dates.CompoundPeriod</b>) at <a href=\"https://github.com/JuliaLang/julia/tree/ae26b25d43317d7dd3ca05f60b70677aab9c0e08/base/dates/periods.jl#L212\" target=\"_blank\">dates/periods.jl:212</a><li> +(x::<b>Base.Dates.CompoundPeriod</b>, y::<b>Base.Dates.TimeType</b>) at <a href=\"https://github.com/JuliaLang/julia/tree/ae26b25d43317d7dd3ca05f60b70677aab9c0e08/base/dates/periods.jl#L257\" target=\"_blank\">dates/periods.jl:257</a><li> +(y::<b>Base.Dates.Period</b>, x::<b>Base.Dates.TimeType</b>) at <a href=\"https://github.com/JuliaLang/julia/tree/ae26b25d43317d7dd3ca05f60b70677aab9c0e08/base/dates/arithmetic.jl#L66\" target=\"_blank\">dates/arithmetic.jl:66</a><li> +<i>{T<:Base.Dates.TimeType}</i>(x::<b>Base.Dates.Period</b>, r::<b>Range{T<:Base.Dates.TimeType}</b>) at <a href=\"https://github.com/JuliaLang/julia/tree/ae26b25d43317d7dd3ca05f60b70677aab9c0e08/base/dates/ranges.jl#L40\" target=\"_blank\">dates/ranges.jl:40</a><li> +(x::<b>Union{Base.Dates.CompoundPeriod,Base.Dates.Period}</b>) at <a href=\"https://github.com/JuliaLang/julia/tree/ae26b25d43317d7dd3ca05f60b70677aab9c0e08/base/dates/periods.jl#L220\" target=\"_blank\">dates/periods.jl:220</a><li> +<i>{P<:Union{Base.Dates.CompoundPeriod,Base.Dates.Period}}</i>(x::<b>Union{Base.Dates.CompoundPeriod,Base.Dates.Period}</b>, Y::<b>Union{DenseArray{P<:Union{Base.Dates.CompoundPeriod,Base.Dates.Period},N},SubArray{P<:Union{Base.Dates.CompoundPeriod,Base.Dates.Period},N,A<:DenseArray{T,N},I<:Tuple{Vararg{Union{Colon,Int64,Range{Int64}}}},LD}}</b>) at <a href=\"https://github.com/JuliaLang/julia/tree/ae26b25d43317d7dd3ca05f60b70677aab9c0e08/base/dates/periods.jl#L234\" target=\"_blank\">dates/periods.jl:234</a><li> +(dt::<b>DateTime</b>, y::<b>Base.Dates.Year</b>) at <a href=\"https://github.com/JuliaLang/julia/tree/ae26b25d43317d7dd3ca05f60b70677aab9c0e08/base/dates/arithmetic.jl#L13\" target=\"_blank\">dates/arithmetic.jl:13</a><li> +(dt::<b>Date</b>, y::<b>Base.Dates.Year</b>) at <a href=\"https://github.com/JuliaLang/julia/tree/ae26b25d43317d7dd3ca05f60b70677aab9c0e08/base/dates/arithmetic.jl#L17\" target=\"_blank\">dates/arithmetic.jl:17</a><li> +(dt::<b>DateTime</b>, z::<b>Base.Dates.Month</b>) at <a href=\"https://github.com/JuliaLang/julia/tree/ae26b25d43317d7dd3ca05f60b70677aab9c0e08/base/dates/arithmetic.jl#L37\" target=\"_blank\">dates/arithmetic.jl:37</a><li> +(dt::<b>Date</b>, z::<b>Base.Dates.Month</b>) at <a href=\"https://github.com/JuliaLang/julia/tree/ae26b25d43317d7dd3ca05f60b70677aab9c0e08/base/dates/arithmetic.jl#L43\" target=\"_blank\">dates/arithmetic.jl:43</a><li> +(x::<b>Date</b>, y::<b>Base.Dates.Week</b>) at <a href=\"https://github.com/JuliaLang/julia/tree/ae26b25d43317d7dd3ca05f60b70677aab9c0e08/base/dates/arithmetic.jl#L60\" target=\"_blank\">dates/arithmetic.jl:60</a><li> +(x::<b>Date</b>, y::<b>Base.Dates.Day</b>) at <a href=\"https://github.com/JuliaLang/julia/tree/ae26b25d43317d7dd3ca05f60b70677aab9c0e08/base/dates/arithmetic.jl#L62\" target=\"_blank\">dates/arithmetic.jl:62</a><li> +(x::<b>DateTime</b>, y::<b>Base.Dates.Period</b>) at <a href=\"https://github.com/JuliaLang/julia/tree/ae26b25d43317d7dd3ca05f60b70677aab9c0e08/base/dates/arithmetic.jl#L64\" target=\"_blank\">dates/arithmetic.jl:64</a><li> +(x::<b>Base.Dates.TimeType</b>) at <a href=\"https://github.com/JuliaLang/julia/tree/ae26b25d43317d7dd3ca05f60b70677aab9c0e08/base/dates/arithmetic.jl#L8\" target=\"_blank\">dates/arithmetic.jl:8</a><li> +(a::<b>Base.Dates.TimeType</b>, b::<b>Base.Dates.Period</b>, c::<b>Base.Dates.Period</b>) at <a href=\"https://github.com/JuliaLang/julia/tree/ae26b25d43317d7dd3ca05f60b70677aab9c0e08/base/dates/periods.jl#L246\" target=\"_blank\">dates/periods.jl:246</a><li> +(a::<b>Base.Dates.TimeType</b>, b::<b>Base.Dates.Period</b>, c::<b>Base.Dates.Period</b>, d::<b>Base.Dates.Period...</b>) at <a href=\"https://github.com/JuliaLang/julia/tree/ae26b25d43317d7dd3ca05f60b70677aab9c0e08/base/dates/periods.jl#L248\" target=\"_blank\">dates/periods.jl:248</a><li> +(x::<b>Base.Dates.TimeType</b>, y::<b>Base.Dates.CompoundPeriod</b>) at <a href=\"https://github.com/JuliaLang/julia/tree/ae26b25d43317d7dd3ca05f60b70677aab9c0e08/base/dates/periods.jl#L252\" target=\"_blank\">dates/periods.jl:252</a><li> +(x::<b>Base.Dates.Instant</b>) at <a href=\"https://github.com/JuliaLang/julia/tree/ae26b25d43317d7dd3ca05f60b70677aab9c0e08/base/dates/arithmetic.jl#L4\" target=\"_blank\">dates/arithmetic.jl:4</a><li> +<i>{T<:Base.Dates.TimeType}</i>(x::<b>AbstractArray{T<:Base.Dates.TimeType,N}</b>, y::<b>Union{Base.Dates.CompoundPeriod,Base.Dates.Period}</b>) at <a href=\"https://github.com/JuliaLang/julia/tree/ae26b25d43317d7dd3ca05f60b70677aab9c0e08/base/dates/arithmetic.jl#L76\" target=\"_blank\">dates/arithmetic.jl:76</a><li> +<i>{T<:Base.Dates.TimeType}</i>(y::<b>Union{Base.Dates.CompoundPeriod,Base.Dates.Period}</b>, x::<b>AbstractArray{T<:Base.Dates.TimeType,N}</b>) at <a href=\"https://github.com/JuliaLang/julia/tree/ae26b25d43317d7dd3ca05f60b70677aab9c0e08/base/dates/arithmetic.jl#L77\" target=\"_blank\">dates/arithmetic.jl:77</a><li> +<i>{P<:Union{Base.Dates.CompoundPeriod,Base.Dates.Period}}</i>(y::<b>Base.Dates.TimeType</b>, x::<b>Union{DenseArray{P<:Union{Base.Dates.CompoundPeriod,Base.Dates.Period},N},SubArray{P<:Union{Base.Dates.CompoundPeriod,Base.Dates.Period},N,A<:DenseArray{T,N},I<:Tuple{Vararg{Union{Colon,Int64,Range{Int64}}}},LD}}</b>) at <a href=\"https://github.com/JuliaLang/julia/tree/ae26b25d43317d7dd3ca05f60b70677aab9c0e08/base/dates/arithmetic.jl#L84\" target=\"_blank\">dates/arithmetic.jl:84</a><li> +(a, b, c, xs...) at <a href=\"https://github.com/JuliaLang/julia/tree/ae26b25d43317d7dd3ca05f60b70677aab9c0e08/base/operators.jl#L103\" target=\"_blank\">operators.jl:103</a></ul>"
      ],
      "text/plain": [
       "# 171 methods for generic function \"+\":\n",
       "+(x::Bool) at bool.jl:33\n",
       "+(x::Bool, y::Bool) at bool.jl:36\n",
       "+(y::AbstractFloat, x::Bool) at bool.jl:46\n",
       "+(x::Int64, y::Int64) at int.jl:8\n",
       "+(x::Int8, y::Int8) at int.jl:16\n",
       "+(x::UInt8, y::UInt8) at int.jl:16\n",
       "+(x::Int16, y::Int16) at int.jl:16\n",
       "+(x::UInt16, y::UInt16) at int.jl:16\n",
       "+(x::Int32, y::Int32) at int.jl:16\n",
       "+(x::UInt32, y::UInt32) at int.jl:16\n",
       "+(x::UInt64, y::UInt64) at int.jl:16\n",
       "+(x::Int128, y::Int128) at int.jl:16\n",
       "+(x::UInt128, y::UInt128) at int.jl:16\n",
       "+(x::Integer, y::Ptr{T}) at pointer.jl:77\n",
       "+(x::Float32, y::Float32) at float.jl:207\n",
       "+(x::Float64, y::Float64) at float.jl:208\n",
       "+(z::Complex{T<:Real}, w::Complex{T<:Real}) at complex.jl:111\n",
       "+(x::Bool, z::Complex{Bool}) at complex.jl:118\n",
       "+(z::Complex{Bool}, x::Bool) at complex.jl:119\n",
       "+(x::Bool, z::Complex{T<:Real}) at complex.jl:125\n",
       "+(z::Complex{T<:Real}, x::Bool) at complex.jl:126\n",
       "+(x::Real, z::Complex{Bool}) at complex.jl:132\n",
       "+(z::Complex{Bool}, x::Real) at complex.jl:133\n",
       "+(x::Real, z::Complex{T<:Real}) at complex.jl:144\n",
       "+(z::Complex{T<:Real}, x::Real) at complex.jl:145\n",
       "+(x::Rational{T<:Integer}, y::Rational{T<:Integer}) at rational.jl:179\n",
       "+(x::Bool, A::AbstractArray{Bool,N}) at arraymath.jl:136\n",
       "+(x::Integer, y::Char) at char.jl:43\n",
       "+(a::Float16, b::Float16) at float16.jl:136\n",
       "+(x::BigInt, y::BigInt) at gmp.jl:256\n",
       "+(a::BigInt, b::BigInt, c::BigInt) at gmp.jl:279\n",
       "+(a::BigInt, b::BigInt, c::BigInt, d::BigInt) at gmp.jl:285\n",
       "+(a::BigInt, b::BigInt, c::BigInt, d::BigInt, e::BigInt) at gmp.jl:292\n",
       "+(x::BigInt, c::Union{UInt16,UInt32,UInt64,UInt8}) at gmp.jl:304\n",
       "+(c::Union{UInt16,UInt32,UInt64,UInt8}, x::BigInt) at gmp.jl:308\n",
       "+(x::BigInt, c::Union{Int16,Int32,Int64,Int8}) at gmp.jl:320\n",
       "+(c::Union{Int16,Int32,Int64,Int8}, x::BigInt) at gmp.jl:321\n",
       "+(x::BigFloat, y::BigFloat) at mpfr.jl:208\n",
       "+(x::BigFloat, c::Union{UInt16,UInt32,UInt64,UInt8}) at mpfr.jl:215\n",
       "+(c::Union{UInt16,UInt32,UInt64,UInt8}, x::BigFloat) at mpfr.jl:219\n",
       "+(x::BigFloat, c::Union{Int16,Int32,Int64,Int8}) at mpfr.jl:223\n",
       "+(c::Union{Int16,Int32,Int64,Int8}, x::BigFloat) at mpfr.jl:227\n",
       "+(x::BigFloat, c::Union{Float16,Float32,Float64}) at mpfr.jl:231\n",
       "+(c::Union{Float16,Float32,Float64}, x::BigFloat) at mpfr.jl:235\n",
       "+(x::BigFloat, c::BigInt) at mpfr.jl:239\n",
       "+(c::BigInt, x::BigFloat) at mpfr.jl:243\n",
       "+(a::BigFloat, b::BigFloat, c::BigFloat) at mpfr.jl:379\n",
       "+(a::BigFloat, b::BigFloat, c::BigFloat, d::BigFloat) at mpfr.jl:385\n",
       "+(a::BigFloat, b::BigFloat, c::BigFloat, d::BigFloat, e::BigFloat) at mpfr.jl:392\n",
       "+(x::Irrational{sym}, y::Irrational{sym}) at irrationals.jl:72\n",
       "+(x::Number) at operators.jl:73\n",
       "+{T<:Number}(x::T<:Number, y::T<:Number) at promotion.jl:211\n",
       "+{T<:AbstractFloat}(x::Bool, y::T<:AbstractFloat) at bool.jl:43\n",
       "+(x::Number, y::Number) at promotion.jl:167\n",
       "+(r1::OrdinalRange{T,S}, r2::OrdinalRange{T,S}) at operators.jl:330\n",
       "+{T<:AbstractFloat}(r1::FloatRange{T<:AbstractFloat}, r2::FloatRange{T<:AbstractFloat}) at operators.jl:337\n",
       "+{T<:AbstractFloat}(r1::LinSpace{T<:AbstractFloat}, r2::LinSpace{T<:AbstractFloat}) at operators.jl:356\n",
       "+(r1::Union{FloatRange{T<:AbstractFloat},LinSpace{T<:AbstractFloat},OrdinalRange{T,S}}, r2::Union{FloatRange{T<:AbstractFloat},LinSpace{T<:AbstractFloat},OrdinalRange{T,S}}) at operators.jl:369\n",
       "+(x::Ptr{T}, y::Integer) at pointer.jl:75\n",
       "+{S,T}(A::Range{S}, B::Range{T}) at arraymath.jl:69\n",
       "+{S,T}(A::Range{S}, B::AbstractArray{T,N}) at arraymath.jl:87\n",
       "+(A::BitArray{N}, B::BitArray{N}) at bitarray.jl:859\n",
       "+{T}(B::BitArray{2}, J::UniformScaling{T}) at linalg/uniformscaling.jl:33\n",
       "+(A::Array{T,2}, B::Diagonal{T}) at linalg/special.jl:122\n",
       "+(A::Array{T,2}, B::Bidiagonal{T}) at linalg/special.jl:122\n",
       "+(A::Array{T,2}, B::Tridiagonal{T}) at linalg/special.jl:122\n",
       "+(A::Array{T,2}, B::SymTridiagonal{T}) at linalg/special.jl:131\n",
       "+(A::Array{T,2}, B::Base.LinAlg.AbstractTriangular{T,S<:AbstractArray{T,2}}) at linalg/special.jl:159\n",
       "+(A::Array{T,N}, B::SparseMatrixCSC{Tv,Ti<:Integer}) at sparse/sparsematrix.jl:1019\n",
       "+{P<:Union{Base.Dates.CompoundPeriod,Base.Dates.Period}}(x::Union{DenseArray{P<:Union{Base.Dates.CompoundPeriod,Base.Dates.Period},N},SubArray{P<:Union{Base.Dates.CompoundPeriod,Base.Dates.Period},N,A<:DenseArray{T,N},I<:Tuple{Vararg{Union{Colon,Int64,Range{Int64}}}},LD}}) at dates/periods.jl:221\n",
       "+(A::AbstractArray{Bool,N}, x::Bool) at arraymath.jl:135\n",
       "+(A::Union{DenseArray{Bool,N},SubArray{Bool,N,A<:DenseArray{T,N},I<:Tuple{Vararg{Union{Colon,Int64,Range{Int64}}}},LD}}, B::Union{DenseArray{Bool,N},SubArray{Bool,N,A<:DenseArray{T,N},I<:Tuple{Vararg{Union{Colon,Int64,Range{Int64}}}},LD}}) at arraymath.jl:166\n",
       "+(A::SymTridiagonal{T}, B::SymTridiagonal{T}) at linalg/tridiag.jl:84\n",
       "+(A::Tridiagonal{T}, B::Tridiagonal{T}) at linalg/tridiag.jl:404\n",
       "+(A::UpperTriangular{T,S<:AbstractArray{T,2}}, B::UpperTriangular{T,S<:AbstractArray{T,2}}) at linalg/triangular.jl:347\n",
       "+(A::LowerTriangular{T,S<:AbstractArray{T,2}}, B::LowerTriangular{T,S<:AbstractArray{T,2}}) at linalg/triangular.jl:348\n",
       "+(A::UpperTriangular{T,S<:AbstractArray{T,2}}, B::Base.LinAlg.UnitUpperTriangular{T,S<:AbstractArray{T,2}}) at linalg/triangular.jl:349\n",
       "+(A::LowerTriangular{T,S<:AbstractArray{T,2}}, B::Base.LinAlg.UnitLowerTriangular{T,S<:AbstractArray{T,2}}) at linalg/triangular.jl:350\n",
       "+(A::Base.LinAlg.UnitUpperTriangular{T,S<:AbstractArray{T,2}}, B::UpperTriangular{T,S<:AbstractArray{T,2}}) at linalg/triangular.jl:351\n",
       "+(A::Base.LinAlg.UnitLowerTriangular{T,S<:AbstractArray{T,2}}, B::LowerTriangular{T,S<:AbstractArray{T,2}}) at linalg/triangular.jl:352\n",
       "+(A::Base.LinAlg.UnitUpperTriangular{T,S<:AbstractArray{T,2}}, B::Base.LinAlg.UnitUpperTriangular{T,S<:AbstractArray{T,2}}) at linalg/triangular.jl:353\n",
       "+(A::Base.LinAlg.UnitLowerTriangular{T,S<:AbstractArray{T,2}}, B::Base.LinAlg.UnitLowerTriangular{T,S<:AbstractArray{T,2}}) at linalg/triangular.jl:354\n",
       "+(A::Base.LinAlg.AbstractTriangular{T,S<:AbstractArray{T,2}}, B::Base.LinAlg.AbstractTriangular{T,S<:AbstractArray{T,2}}) at linalg/triangular.jl:355\n",
       "+(Da::Diagonal{T}, Db::Diagonal{T}) at linalg/diagonal.jl:86\n",
       "+(A::Bidiagonal{T}, B::Bidiagonal{T}) at linalg/bidiag.jl:176\n",
       "+(UL::UpperTriangular{T,S<:AbstractArray{T,2}}, J::UniformScaling{T<:Number}) at linalg/uniformscaling.jl:50\n",
       "+(UL::Base.LinAlg.UnitUpperTriangular{T,S<:AbstractArray{T,2}}, J::UniformScaling{T<:Number}) at linalg/uniformscaling.jl:53\n",
       "+(UL::LowerTriangular{T,S<:AbstractArray{T,2}}, J::UniformScaling{T<:Number}) at linalg/uniformscaling.jl:50\n",
       "+(UL::Base.LinAlg.UnitLowerTriangular{T,S<:AbstractArray{T,2}}, J::UniformScaling{T<:Number}) at linalg/uniformscaling.jl:53\n",
       "+(A::Diagonal{T}, B::Bidiagonal{T}) at linalg/special.jl:121\n",
       "+(A::Bidiagonal{T}, B::Diagonal{T}) at linalg/special.jl:122\n",
       "+(A::Diagonal{T}, B::Tridiagonal{T}) at linalg/special.jl:121\n",
       "+(A::Tridiagonal{T}, B::Diagonal{T}) at linalg/special.jl:122\n",
       "+(A::Diagonal{T}, B::Array{T,2}) at linalg/special.jl:121\n",
       "+(A::Bidiagonal{T}, B::Tridiagonal{T}) at linalg/special.jl:121\n",
       "+(A::Tridiagonal{T}, B::Bidiagonal{T}) at linalg/special.jl:122\n",
       "+(A::Bidiagonal{T}, B::Array{T,2}) at linalg/special.jl:121\n",
       "+(A::Tridiagonal{T}, B::Array{T,2}) at linalg/special.jl:121\n",
       "+(A::SymTridiagonal{T}, B::Tridiagonal{T}) at linalg/special.jl:130\n",
       "+(A::Tridiagonal{T}, B::SymTridiagonal{T}) at linalg/special.jl:131\n",
       "+(A::SymTridiagonal{T}, B::Array{T,2}) at linalg/special.jl:130\n",
       "+(A::Diagonal{T}, B::SymTridiagonal{T}) at linalg/special.jl:139\n",
       "+(A::SymTridiagonal{T}, B::Diagonal{T}) at linalg/special.jl:140\n",
       "+(A::Bidiagonal{T}, B::SymTridiagonal{T}) at linalg/special.jl:139\n",
       "+(A::SymTridiagonal{T}, B::Bidiagonal{T}) at linalg/special.jl:140\n",
       "+(A::Diagonal{T}, B::UpperTriangular{T,S<:AbstractArray{T,2}}) at linalg/special.jl:151\n",
       "+(A::UpperTriangular{T,S<:AbstractArray{T,2}}, B::Diagonal{T}) at linalg/special.jl:152\n",
       "+(A::Diagonal{T}, B::Base.LinAlg.UnitUpperTriangular{T,S<:AbstractArray{T,2}}) at linalg/special.jl:151\n",
       "+(A::Base.LinAlg.UnitUpperTriangular{T,S<:AbstractArray{T,2}}, B::Diagonal{T}) at linalg/special.jl:152\n",
       "+(A::Diagonal{T}, B::LowerTriangular{T,S<:AbstractArray{T,2}}) at linalg/special.jl:151\n",
       "+(A::LowerTriangular{T,S<:AbstractArray{T,2}}, B::Diagonal{T}) at linalg/special.jl:152\n",
       "+(A::Diagonal{T}, B::Base.LinAlg.UnitLowerTriangular{T,S<:AbstractArray{T,2}}) at linalg/special.jl:151\n",
       "+(A::Base.LinAlg.UnitLowerTriangular{T,S<:AbstractArray{T,2}}, B::Diagonal{T}) at linalg/special.jl:152\n",
       "+(A::Base.LinAlg.AbstractTriangular{T,S<:AbstractArray{T,2}}, B::SymTridiagonal{T}) at linalg/special.jl:158\n",
       "+(A::SymTridiagonal{T}, B::Base.LinAlg.AbstractTriangular{T,S<:AbstractArray{T,2}}) at linalg/special.jl:159\n",
       "+(A::Base.LinAlg.AbstractTriangular{T,S<:AbstractArray{T,2}}, B::Tridiagonal{T}) at linalg/special.jl:158\n",
       "+(A::Tridiagonal{T}, B::Base.LinAlg.AbstractTriangular{T,S<:AbstractArray{T,2}}) at linalg/special.jl:159\n",
       "+(A::Base.LinAlg.AbstractTriangular{T,S<:AbstractArray{T,2}}, B::Bidiagonal{T}) at linalg/special.jl:158\n",
       "+(A::Bidiagonal{T}, B::Base.LinAlg.AbstractTriangular{T,S<:AbstractArray{T,2}}) at linalg/special.jl:159\n",
       "+(A::Base.LinAlg.AbstractTriangular{T,S<:AbstractArray{T,2}}, B::Array{T,2}) at linalg/special.jl:158\n",
       "+{Tv1,Ti1,Tv2,Ti2}(A_1::SparseMatrixCSC{Tv1,Ti1}, A_2::SparseMatrixCSC{Tv2,Ti2}) at sparse/sparsematrix.jl:1005\n",
       "+(A::SparseMatrixCSC{Tv,Ti<:Integer}, B::Array{T,N}) at sparse/sparsematrix.jl:1017\n",
       "+(A::SparseMatrixCSC{Tv,Ti<:Integer}, J::UniformScaling{T<:Number}) at sparse/sparsematrix.jl:3030\n",
       "+{P<:Union{Base.Dates.CompoundPeriod,Base.Dates.Period}}(Y::Union{DenseArray{P<:Union{Base.Dates.CompoundPeriod,Base.Dates.Period},N},SubArray{P<:Union{Base.Dates.CompoundPeriod,Base.Dates.Period},N,A<:DenseArray{T,N},I<:Tuple{Vararg{Union{Colon,Int64,Range{Int64}}}},LD}}, x::Union{Base.Dates.CompoundPeriod,Base.Dates.Period}) at dates/periods.jl:235\n",
       "+{P<:Union{Base.Dates.CompoundPeriod,Base.Dates.Period},Q<:Union{Base.Dates.CompoundPeriod,Base.Dates.Period}}(X::Union{DenseArray{P<:Union{Base.Dates.CompoundPeriod,Base.Dates.Period},N},SubArray{P<:Union{Base.Dates.CompoundPeriod,Base.Dates.Period},N,A<:DenseArray{T,N},I<:Tuple{Vararg{Union{Colon,Int64,Range{Int64}}}},LD}}, Y::Union{DenseArray{Q<:Union{Base.Dates.CompoundPeriod,Base.Dates.Period},N},SubArray{Q<:Union{Base.Dates.CompoundPeriod,Base.Dates.Period},N,A<:DenseArray{T,N},I<:Tuple{Vararg{Union{Colon,Int64,Range{Int64}}}},LD}}) at dates/periods.jl:236\n",
       "+{T<:Base.Dates.TimeType,P<:Union{Base.Dates.CompoundPeriod,Base.Dates.Period}}(x::Union{DenseArray{P<:Union{Base.Dates.CompoundPeriod,Base.Dates.Period},N},SubArray{P<:Union{Base.Dates.CompoundPeriod,Base.Dates.Period},N,A<:DenseArray{T,N},I<:Tuple{Vararg{Union{Colon,Int64,Range{Int64}}}},LD}}, y::T<:Base.Dates.TimeType) at dates/arithmetic.jl:83\n",
       "+{T<:Base.Dates.TimeType}(r::Range{T<:Base.Dates.TimeType}, x::Base.Dates.Period) at dates/ranges.jl:39\n",
       "+{T<:Number}(x::AbstractArray{T<:Number,N}) at abstractarraymath.jl:49\n",
       "+{S,T}(A::AbstractArray{S,N}, B::Range{T}) at arraymath.jl:78\n",
       "+{S,T}(A::AbstractArray{S,N}, B::AbstractArray{T,N}) at arraymath.jl:96\n",
       "+(A::AbstractArray{T,N}, x::Number) at arraymath.jl:139\n",
       "+(x::Number, A::AbstractArray{T,N}) at arraymath.jl:140\n",
       "+(x::Char, y::Integer) at char.jl:42\n",
       "+{N}(index1::CartesianIndex{N}, index2::CartesianIndex{N}) at multidimensional.jl:42\n",
       "+(J1::UniformScaling{T<:Number}, J2::UniformScaling{T<:Number}) at linalg/uniformscaling.jl:32\n",
       "+(J::UniformScaling{T<:Number}, B::BitArray{2}) at linalg/uniformscaling.jl:34\n",
       "+(J::UniformScaling{T<:Number}, A::AbstractArray{T,2}) at linalg/uniformscaling.jl:35\n",
       "+(J::UniformScaling{T<:Number}, x::Number) at linalg/uniformscaling.jl:36\n",
       "+(x::Number, J::UniformScaling{T<:Number}) at linalg/uniformscaling.jl:37\n",
       "+{TA,TJ}(A::AbstractArray{TA,2}, J::UniformScaling{TJ}) at linalg/uniformscaling.jl:97\n",
       "+{T}(a::Base.Pkg.Resolve.VersionWeights.HierarchicalValue{T}, b::Base.Pkg.Resolve.VersionWeights.HierarchicalValue{T}) at pkg/resolve/versionweight.jl:23\n",
       "+(a::Base.Pkg.Resolve.VersionWeights.VWPreBuildItem, b::Base.Pkg.Resolve.VersionWeights.VWPreBuildItem) at pkg/resolve/versionweight.jl:85\n",
       "+(a::Base.Pkg.Resolve.VersionWeights.VWPreBuild, b::Base.Pkg.Resolve.VersionWeights.VWPreBuild) at pkg/resolve/versionweight.jl:131\n",
       "+(a::Base.Pkg.Resolve.VersionWeights.VersionWeight, b::Base.Pkg.Resolve.VersionWeights.VersionWeight) at pkg/resolve/versionweight.jl:185\n",
       "+(a::Base.Pkg.Resolve.MaxSum.FieldValues.FieldValue, b::Base.Pkg.Resolve.MaxSum.FieldValues.FieldValue) at pkg/resolve/fieldvalue.jl:44\n",
       "+{P<:Base.Dates.Period}(x::P<:Base.Dates.Period, y::P<:Base.Dates.Period) at dates/periods.jl:62\n",
       "+(x::Base.Dates.Period, y::Base.Dates.Period) at dates/periods.jl:209\n",
       "+(x::Base.Dates.CompoundPeriod, y::Base.Dates.Period) at dates/periods.jl:210\n",
       "+(y::Base.Dates.Period, x::Base.Dates.CompoundPeriod) at dates/periods.jl:211\n",
       "+(x::Base.Dates.CompoundPeriod, y::Base.Dates.CompoundPeriod) at dates/periods.jl:212\n",
       "+(x::Base.Dates.CompoundPeriod, y::Base.Dates.TimeType) at dates/periods.jl:257\n",
       "+(y::Base.Dates.Period, x::Base.Dates.TimeType) at dates/arithmetic.jl:66\n",
       "+{T<:Base.Dates.TimeType}(x::Base.Dates.Period, r::Range{T<:Base.Dates.TimeType}) at dates/ranges.jl:40\n",
       "+(x::Union{Base.Dates.CompoundPeriod,Base.Dates.Period}) at dates/periods.jl:220\n",
       "+{P<:Union{Base.Dates.CompoundPeriod,Base.Dates.Period}}(x::Union{Base.Dates.CompoundPeriod,Base.Dates.Period}, Y::Union{DenseArray{P<:Union{Base.Dates.CompoundPeriod,Base.Dates.Period},N},SubArray{P<:Union{Base.Dates.CompoundPeriod,Base.Dates.Period},N,A<:DenseArray{T,N},I<:Tuple{Vararg{Union{Colon,Int64,Range{Int64}}}},LD}}) at dates/periods.jl:234\n",
       "+(dt::DateTime, y::Base.Dates.Year) at dates/arithmetic.jl:13\n",
       "+(dt::Date, y::Base.Dates.Year) at dates/arithmetic.jl:17\n",
       "+(dt::DateTime, z::Base.Dates.Month) at dates/arithmetic.jl:37\n",
       "+(dt::Date, z::Base.Dates.Month) at dates/arithmetic.jl:43\n",
       "+(x::Date, y::Base.Dates.Week) at dates/arithmetic.jl:60\n",
       "+(x::Date, y::Base.Dates.Day) at dates/arithmetic.jl:62\n",
       "+(x::DateTime, y::Base.Dates.Period) at dates/arithmetic.jl:64\n",
       "+(x::Base.Dates.TimeType) at dates/arithmetic.jl:8\n",
       "+(a::Base.Dates.TimeType, b::Base.Dates.Period, c::Base.Dates.Period) at dates/periods.jl:246\n",
       "+(a::Base.Dates.TimeType, b::Base.Dates.Period, c::Base.Dates.Period, d::Base.Dates.Period...) at dates/periods.jl:248\n",
       "+(x::Base.Dates.TimeType, y::Base.Dates.CompoundPeriod) at dates/periods.jl:252\n",
       "+(x::Base.Dates.Instant) at dates/arithmetic.jl:4\n",
       "+{T<:Base.Dates.TimeType}(x::AbstractArray{T<:Base.Dates.TimeType,N}, y::Union{Base.Dates.CompoundPeriod,Base.Dates.Period}) at dates/arithmetic.jl:76\n",
       "+{T<:Base.Dates.TimeType}(y::Union{Base.Dates.CompoundPeriod,Base.Dates.Period}, x::AbstractArray{T<:Base.Dates.TimeType,N}) at dates/arithmetic.jl:77\n",
       "+{P<:Union{Base.Dates.CompoundPeriod,Base.Dates.Period}}(y::Base.Dates.TimeType, x::Union{DenseArray{P<:Union{Base.Dates.CompoundPeriod,Base.Dates.Period},N},SubArray{P<:Union{Base.Dates.CompoundPeriod,Base.Dates.Period},N,A<:DenseArray{T,N},I<:Tuple{Vararg{Union{Colon,Int64,Range{Int64}}}},LD}}) at dates/arithmetic.jl:84\n",
       "+(a, b, c, xs...) at operators.jl:103"
      ]
     },
     "execution_count": 35,
     "metadata": {},
     "output_type": "execute_result"
    }
   ],
   "source": [
    "#Para entender el despacho multiple en Julia, observemos el operador +\n",
    "#Si llamamos a la funcion methods() sobre +, podemos ver todas las definiciones de +\n",
    "methods(+)"
   ]
  },
  {
   "cell_type": "code",
   "execution_count": 36,
   "metadata": {},
   "outputs": [],
   "source": [
    "#Podemos definir mas metodos. Para esto primero tenemos que importar + de Base\n",
    "import Base: +"
   ]
  },
  {
   "cell_type": "code",
   "execution_count": 37,
   "metadata": {},
   "outputs": [
    {
     "name": "stderr",
     "output_type": "stream",
     "text": [
      "WARNING: Base.String is deprecated, use AbstractString instead.\n",
      "  likely near In[37]:2\n",
      "WARNING: Base.String is deprecated, use AbstractString instead.\n",
      "  likely near In[37]:2\n"
     ]
    },
    {
     "data": {
      "text/plain": [
       "+ (generic function with 172 methods)"
      ]
     },
     "execution_count": 37,
     "metadata": {},
     "output_type": "execute_result"
    }
   ],
   "source": [
    "#Por ejemplo si queremos concatenar elementos con +. Sin extender el metodo, no funciona. (No esta entre esos 180 anteriores)\n",
    "+(x::String, y::String) = string(x, y)"
   ]
  },
  {
   "cell_type": "code",
   "execution_count": 38,
   "metadata": {},
   "outputs": [
    {
     "data": {
      "text/plain": [
       "\"Hello world!\""
      ]
     },
     "execution_count": 38,
     "metadata": {},
     "output_type": "execute_result"
    }
   ],
   "source": [
    "\"Hello\" + \" world!\""
   ]
  },
  {
   "cell_type": "code",
   "execution_count": 39,
   "metadata": {},
   "outputs": [
    {
     "data": {
      "text/plain": [
       "foo (generic function with 4 methods)"
      ]
     },
     "execution_count": 39,
     "metadata": {},
     "output_type": "execute_result"
    }
   ],
   "source": [
    "#Un ejemplo mas complejo\n",
    "foo(x, y) = println(\"duck-typed foo!\")\n",
    "foo(x::Int, y::Float64) = println(\"foo con entero y flotante!\")\n",
    "foo(x::Float64, y::Float64) = println(\"foo con dos flotantes!\")\n",
    "foo(x::Int, y::Int) = println(\"foo con dos enteros\") "
   ]
  },
  {
   "cell_type": "code",
   "execution_count": 40,
   "metadata": {},
   "outputs": [
    {
     "name": "stdout",
     "output_type": "stream",
     "text": [
      "foo con dos enteros\n"
     ]
    }
   ],
   "source": [
    "foo(1, 1)"
   ]
  },
  {
   "cell_type": "code",
   "execution_count": 41,
   "metadata": {},
   "outputs": [
    {
     "name": "stdout",
     "output_type": "stream",
     "text": [
      "foo con dos flotantes!\n"
     ]
    }
   ],
   "source": [
    "foo(1. , 1.)"
   ]
  },
  {
   "cell_type": "code",
   "execution_count": 42,
   "metadata": {},
   "outputs": [
    {
     "name": "stdout",
     "output_type": "stream",
     "text": [
      "foo con entero y flotante!\n"
     ]
    }
   ],
   "source": [
    "foo(1, 1.0)"
   ]
  },
  {
   "cell_type": "code",
   "execution_count": 43,
   "metadata": {},
   "outputs": [
    {
     "name": "stdout",
     "output_type": "stream",
     "text": [
      "duck-typed foo!\n"
     ]
    }
   ],
   "source": [
    "foo(true, false)"
   ]
  },
  {
   "cell_type": "markdown",
   "metadata": {},
   "source": [
    "## Paradigmas que soporta\n",
    "### Funcional"
   ]
  },
  {
   "cell_type": "code",
   "execution_count": 44,
   "metadata": {},
   "outputs": [
    {
     "data": {
      "text/plain": [
       "5-element Array{Int64,1}:\n",
       "   1\n",
       "   8\n",
       "  27\n",
       "  64\n",
       " 125"
      ]
     },
     "execution_count": 44,
     "metadata": {},
     "output_type": "execute_result"
    }
   ],
   "source": [
    "map(x -> x^3, (1:5))"
   ]
  },
  {
   "cell_type": "code",
   "execution_count": 45,
   "metadata": {},
   "outputs": [
    {
     "data": {
      "text/plain": [
       "15-element Array{Int64,1}:\n",
       "  2\n",
       "  3\n",
       "  5\n",
       "  7\n",
       " 11\n",
       " 13\n",
       " 17\n",
       " 19\n",
       " 23\n",
       " 29\n",
       " 31\n",
       " 37\n",
       " 41\n",
       " 43\n",
       " 47"
      ]
     },
     "execution_count": 45,
     "metadata": {},
     "output_type": "execute_result"
    }
   ],
   "source": [
    "filter(isprime, (1:50))"
   ]
  },
  {
   "cell_type": "code",
   "execution_count": 46,
   "metadata": {},
   "outputs": [
    {
     "ename": "LoadError",
     "evalue": "syntax: extra token \"3\" after end of expression",
     "output_type": "error",
     "traceback": [
      "syntax: extra token \"3\" after end of expression",
      ""
     ]
    }
   ],
   "source": [
    "# dejo acá abajo la implementación de MergeSort que puede servirnos pasarla a Julia para comparar con OZ\n",
    "PROBLEMA 3 MERGESORT\n",
    "local SplitX MergeX MergeSortX L1 L2 in\n",
    "   fun {MergeX L1 L2}\n",
    "      case L1#L2 of\n",
    "     nil#L2 then L2\n",
    "      [] L1#nil then L1\n",
    "      [] (X|Xr)# (Y|Yr) then\n",
    "     if X<Y then X|{MergeX Xr L2}\n",
    "     else\n",
    "        Y|{MergeX L1 Yr}\n",
    "     end\n",
    "      end\n",
    "   end\n",
    "   proc {SplitX L R1 R2}\n",
    "      case L of\n",
    "     X|Y|Ls then\n",
    "     local Xs Ys in\n",
    "        R1 = X|Xs\n",
    "        R2 = Y|Ys\n",
    "        {SplitX Ls Xs Ys}\n",
    "     end\n",
    "      []\n",
    "     X then R1=L R2=nil\n",
    "      []\n",
    "     nil then R1=nil R2=nil\n",
    "      end\n",
    "   end\n",
    "   fun {MergeSortX L}\n",
    "      case L of nil then nil\n",
    "      [] [X] then L\n",
    "      else\n",
    "     local Xs Ys in\n",
    "        {SplitX L Xs Ys}\n",
    "        {MergeX {MergeSortX Xs} {MergeSortX Ys}}\n",
    "     end\n",
    "      end\n",
    "   end\n",
    "   L1 = [10 5 30 33 3 54 40 022 5054 200 1000 51]\n",
    "   L2 = {MergeSortX L1}\n",
    "   {Browse L2}\n",
    "end\n"
   ]
  },
  {
   "cell_type": "markdown",
   "metadata": {},
   "source": [
    "### Orientado a objetos\n"
   ]
  },
  {
   "cell_type": "code",
   "execution_count": 47,
   "metadata": {},
   "outputs": [],
   "source": [
    "type Tigre\n",
    "  largo_de_cola::Float64\n",
    "  color_de_pelaje\n",
    "end"
   ]
  },
  {
   "cell_type": "code",
   "execution_count": 48,
   "metadata": {},
   "outputs": [],
   "source": [
    "abstract Felino # Declaramos una clase abstracta sin comportamiento"
   ]
  },
  {
   "cell_type": "code",
   "execution_count": 49,
   "metadata": {},
   "outputs": [],
   "source": [
    "type Pantera <: Felino # Panther is also a subtype of Cat\n",
    "    color_de_ojos\n",
    "    color_de_pelaje\n",
    "  Pantera() = new(\"verde\", \"negro\")\n",
    "end"
   ]
  },
  {
   "cell_type": "code",
   "execution_count": 50,
   "metadata": {},
   "outputs": [],
   "source": [
    "type Leon <: Felino # Lion is a subtype of Cat\n",
    "  color_de_melena\n",
    "  roar::AbstractString\n",
    "end"
   ]
  },
  {
   "cell_type": "code",
   "execution_count": 51,
   "metadata": {},
   "outputs": [
    {
     "data": {
      "text/plain": [
       "Tigre(3.5,\"naranja\")"
      ]
     },
     "execution_count": 51,
     "metadata": {},
     "output_type": "execute_result"
    }
   ],
   "source": [
    "tigger = Tigre(3.5,\"naranja\")"
   ]
  },
  {
   "cell_type": "code",
   "execution_count": 52,
   "metadata": {},
   "outputs": [
    {
     "data": {
      "text/plain": [
       "meow (generic function with 3 methods)"
      ]
     },
     "execution_count": 52,
     "metadata": {},
     "output_type": "execute_result"
    }
   ],
   "source": [
    "function meow(animal::Leon)\n",
    "  animal.roar\n",
    "end\n",
    "\n",
    "function meow(animal::Pantera)\n",
    "  \"grrr\"\n",
    "end\n",
    "\n",
    "function meow(animal::Tigre)\n",
    "  \"rawwwr\"\n",
    "end"
   ]
  },
  {
   "cell_type": "code",
   "execution_count": 53,
   "metadata": {
    "scrolled": true
   },
   "outputs": [
    {
     "data": {
      "text/plain": [
       "\"rawwwr\""
      ]
     },
     "execution_count": 53,
     "metadata": {},
     "output_type": "execute_result"
    }
   ],
   "source": [
    "meow(tigger)"
   ]
  },
  {
   "cell_type": "code",
   "execution_count": 54,
   "metadata": {},
   "outputs": [
    {
     "data": {
      "text/plain": [
       "\"ROAAR\""
      ]
     },
     "execution_count": 54,
     "metadata": {},
     "output_type": "execute_result"
    }
   ],
   "source": [
    "meow(Leon(\"marrón\",\"ROAAR\"))"
   ]
  },
  {
   "cell_type": "code",
   "execution_count": 55,
   "metadata": {},
   "outputs": [
    {
     "data": {
      "text/plain": [
       "\"grrr\""
      ]
     },
     "execution_count": 55,
     "metadata": {},
     "output_type": "execute_result"
    }
   ],
   "source": [
    "meow(Pantera())"
   ]
  },
  {
   "cell_type": "markdown",
   "metadata": {},
   "source": [
    "# Caracteristicas avanzadas del lenguaje"
   ]
  },
  {
   "cell_type": "markdown",
   "metadata": {},
   "source": [
    "Diseñado para paralelismo y computción distribuida\n",
    "\n",
    "Corutinas también llamadas: Lightweight threading\n",
    "\n",
    "Macros parecidos a los de Lisp y otras facilidades para metaprogramacion\n",
    "\n",
    "Acepta multiple dispach"
   ]
  },
  {
   "cell_type": "markdown",
   "metadata": {},
   "source": [
    "# Paralelismo"
   ]
  },
  {
   "cell_type": "markdown",
   "metadata": {
    "collapsed": true
   },
   "source": [
    "- El paralelismo en Julia se hace por CPU, no GPU.\n",
    "\n",
    "- Los procesos se llaman Workers con un ID específico."
   ]
  },
  {
   "cell_type": "code",
   "execution_count": 56,
   "metadata": {},
   "outputs": [
    {
     "name": "stdout",
     "output_type": "stream",
     "text": [
      "1\n",
      "2\n"
     ]
    }
   ],
   "source": [
    "println(nprocs())\n",
    "addprocs(1)\n",
    "println(nprocs())"
   ]
  },
  {
   "cell_type": "code",
   "execution_count": 57,
   "metadata": {},
   "outputs": [
    {
     "name": "stdout",
     "output_type": "stream",
     "text": [
      "2\n"
     ]
    }
   ],
   "source": [
    "for w in workers()\n",
    "    rref=remotecall(myid, w)\n",
    "    sleep(1)\n",
    "    println(fetch(rref))\n",
    "end"
   ]
  },
  {
   "cell_type": "code",
   "execution_count": 58,
   "metadata": {},
   "outputs": [
    {
     "name": "stdout",
     "output_type": "stream",
     "text": [
      "54997114\n"
     ]
    }
   ],
   "source": [
    "@everywhere function random_num(n)\n",
    "    c::Int = 0\n",
    "    for i = 1:n\n",
    "        c += rand(Bool)\n",
    "    end\n",
    "    c\n",
    "end\n",
    "\n",
    "a = @spawn random_num(100000000)\n",
    "\n",
    "b = @spawn random_num(10000000)\n",
    "\n",
    "println(fetch(a)+fetch(b)) #reducción"
   ]
  },
  {
   "cell_type": "code",
   "execution_count": 59,
   "metadata": {},
   "outputs": [
    {
     "name": "stdout",
     "output_type": "stream",
     "text": [
      "false\n",
      "Task (runnable) @0x00007f8e83caa0e0\n",
      "1\n",
      "2\n",
      "4\n",
      "Any[nothing]\n"
     ]
    }
   ],
   "source": [
    "# Se genera la lista de tasks\n",
    "t = @task Any[ for x in [1,2,4] println(x) end ]\n",
    "\n",
    "# No hay tasks?\n",
    "println(istaskdone(t))\n",
    "\n",
    "# Cual es la siguiente task?\n",
    "println(current_task())\n",
    "\n",
    "# Ejecutar task\n",
    "println(consume(t))"
   ]
  },
  {
   "cell_type": "code",
   "execution_count": null,
   "metadata": {},
   "outputs": [
    {
     "name": "stdout",
     "output_type": "stream",
     "text": [
      "3\n",
      "4\n",
      "5\n",
      "6\n"
     ]
    }
   ],
   "source": [
    "c1 = Channel(32)\n",
    "put!(c1,3)\n",
    "put!(c1,4)\n",
    "c2 = Channel(32)\n",
    "\n",
    "# foo() lee un item de c1, lo imprime y lo escribe en c2\n",
    "function foo()\n",
    "    while true\n",
    "        data = take!(c1)\n",
    "        println(data)\n",
    "        result = data + 2\n",
    "        put!(c2, result)   \n",
    "    end\n",
    "end\n",
    "\n",
    "# con @schedule podemos hacer que varias instancias de foo() estén activas concurrentemente.\n",
    "for i in 1:3\n",
    "    @schedule foo()\n",
    "end\n",
    "\n",
    "for i in 1:3\n",
    "    data= take!(c2)\n",
    "    println(data)\n",
    "end"
   ]
  },
  {
   "cell_type": "code",
   "execution_count": null,
   "metadata": {
    "scrolled": true
   },
   "outputs": [],
   "source": [
    "c = Channel(0)\n",
    "\n",
    "task = @schedule foreach(i->put!(c, i), 1:4)\n",
    "\n",
    "bind(c,task)\n",
    "\n",
    "for i in c\n",
    "    @show i\n",
    "end\n",
    "\n",
    "isopen(c)"
   ]
  },
  {
   "cell_type": "markdown",
   "metadata": {},
   "source": [
    "### Machine Learning\n",
    "#### KMeans: se inicializan k-centroides y se asigna a cada punto del set de datos el centroide más cercano. Se recalculan los centroides como promedio de todos los puntos y se repite hasta lograr la convergencia."
   ]
  },
  {
   "cell_type": "code",
   "execution_count": null,
   "metadata": {},
   "outputs": [],
   "source": [
    "using RDatasets\n",
    "xclara = dataset(\"cluster\", \"xclara\")\n",
    "size(xclara)"
   ]
  },
  {
   "cell_type": "code",
   "execution_count": null,
   "metadata": {},
   "outputs": [],
   "source": [
    "# Aca tambien es necesario tener plotly: pip install plotly\n",
    "# y Pkg.add(\"PyPlot\")\n",
    "\n",
    "x = xclara[:V1]\n",
    "y = xclara[:V2]\n",
    "using Plots\n",
    "scatter(x, y ,alpha=0.5)"
   ]
  },
  {
   "cell_type": "code",
   "execution_count": null,
   "metadata": {},
   "outputs": [],
   "source": [
    "using Clustering\n",
    "\n",
    "xclara = convert(Array, xclara)\n",
    "xclara = xclara'\n",
    "#xclara_kmeans = kmeans(Float64.(xclara), 3)\n",
    "xclara_kmeans = kmeans(xclara, 3)"
   ]
  },
  {
   "cell_type": "markdown",
   "metadata": {},
   "source": [
    "#### DBSCAN: otro algoritmo de clustering. Este no recibe la cantidad de clusters como hiperparámetro y tiene la capacidad de manejar mejor los puntos entre clusters"
   ]
  },
  {
   "cell_type": "code",
   "execution_count": null,
   "metadata": {},
   "outputs": [],
   "source": [
    "using Distances\n",
    "dclara = pairwise(SqEuclidean(), xclara);\n",
    "# parametros: matriz de distancias, el radio de un cluster, \n",
    "# mínimo número de puntos que forman un cluster\n",
    "\n",
    "xclara_dbscan = dbscan(dclara, 10, 40);\n",
    "# devuelve cantidad de puntos para cada cluster encontrado\n",
    "xclara_dbscan.counts "
   ]
  },
  {
   "cell_type": "markdown",
   "metadata": {},
   "source": [
    "# Estadisticas"
   ]
  },
  {
   "cell_type": "markdown",
   "metadata": {
    "collapsed": true
   },
   "source": [
    "Index TIOBE Mayo 2018\n",
    "\n",
    "<img src=\"images/TIOBEMay2018.jpg\">"
   ]
  },
  {
   "cell_type": "markdown",
   "metadata": {},
   "source": [
    "Populridad en Githut en 2018\n",
    "\n",
    "<img src=\"images/githut.jpg\">"
   ]
  },
  {
   "cell_type": "markdown",
   "metadata": {},
   "source": [
    "Popularidad de lenguajes en ofertas laborales en cuanto a machine learning o data science en 2016\n",
    "\n",
    "<img src=\"images/trends0.png\">"
   ]
  },
  {
   "cell_type": "markdown",
   "metadata": {},
   "source": [
    "Pero cuando cambiamos a la popularidad relativa.\n",
    "\n",
    "<img src=\"images/trendsrelative0.png\">"
   ]
  },
  {
   "cell_type": "markdown",
   "metadata": {},
   "source": [
    "# Comparacion otros lenguajes"
   ]
  },
  {
   "cell_type": "markdown",
   "metadata": {
    "collapsed": true
   },
   "source": [
    "Julia vs Python\n",
    "\n",
    "Ventajas de Juila:\n",
    "\n",
    "- Rápido por default.\n",
    "\n",
    "- Sintaxis amigable para matemáticas.\n",
    "\n",
    "- No se pierde el manejo automatico de memoria.\n",
    "\n",
    "- Paralelismo."
   ]
  },
  {
   "cell_type": "markdown",
   "metadata": {},
   "source": [
    "Ventajas de Python:\n",
    "\n",
    "- Los arrays de Julia son indexados a partir del 1.\n",
    "\n",
    "- Julia todavía es un lenguaje muy nuevo.\n",
    "\n",
    "- Python tiene más paquetes creados para el lenguaje.\n",
    "\n",
    "- Python tiene una comunidad más grande."
   ]
  },
  {
   "cell_type": "markdown",
   "metadata": {},
   "source": [
    "#### Comparación con Python: cálculo de la traza de una matriz de 10mil x 10mil"
   ]
  },
  {
   "cell_type": "code",
   "execution_count": null,
   "metadata": {},
   "outputs": [],
   "source": [
    "# Ojo cuando corran esto. Puede que se rompa todo. Capaz lo mejor\n",
    "# sea llevarlo ya resuelto en una imagen\n",
    "using Distributions\n",
    "m = 10000\n",
    "matrix = rand(Uniform(0.0, 10.0), m, m)"
   ]
  },
  {
   "cell_type": "code",
   "execution_count": null,
   "metadata": {},
   "outputs": [],
   "source": [
    "n = 0;\n",
    "for i in [1:100]\n",
    "    tic()\n",
    "    trace(matrix)\n",
    "    aux = toq()\n",
    "    n = n + aux\n",
    "end\n",
    "\n",
    "n/100"
   ]
  },
  {
   "cell_type": "markdown",
   "metadata": {},
   "source": [
    "Python:\n",
    "\n",
    "<img src=\"images/tp01.jpg\">"
   ]
  },
  {
   "cell_type": "markdown",
   "metadata": {},
   "source": [
    "# Casos de estudios"
   ]
  },
  {
   "cell_type": "markdown",
   "metadata": {},
   "source": [
    "En 2015, el banco de reserva federal de nueva york uso julia para hacer modelos de la economía de los estados unidos.\n",
    "\n",
    "Notaron que el modelo hecho con el lenguaje era 10 veces más rapido que el anterior (hecho con MATLAB) dado por:\n",
    "\n",
    "- Un sistema flexible y potente que proporciona una forma natural de estructurar y simplificar la base de código.\n",
    "\n",
    "- Multiple dispatch, lo que les permitió escribir un código más genérico.\n",
    "\n",
    "- Un potente compilador que aumentó el rendimiento.\n"
   ]
  },
  {
   "cell_type": "markdown",
   "metadata": {},
   "source": [
    "El proyecto Celste que cataloga estrellas y galaxias en el Apache Point Observatory de Nevo Mexico logró un gran numero de hitos:\n",
    "\n",
    "- Logró rendimiento pico de 1.54 petaFLOPS usando 1.3 millones de threads.\n",
    "\n",
    "- Agregó ~178 terabytes de datos en imagenes.\n",
    "\n",
    "- Produjo parametros estimados para 188 millones de estrellas y galaxias en 14.6 minutos.\n",
    "\n",
    "- Proporcionó no solo estimaciones para las fuentes de luz sino que, por primera vez proporcionó una medida de principios de la calidad de la inferencia para cada fuente de luz."
   ]
  },
  {
   "cell_type": "markdown",
   "metadata": {},
   "source": [
    "# Conclusion"
   ]
  },
  {
   "cell_type": "markdown",
   "metadata": {
    "collapsed": true
   },
   "source": []
  }
 ],
 "metadata": {
  "celltoolbar": "Raw Cell Format",
  "kernelspec": {
   "display_name": "Julia 0.4.7",
   "language": "julia",
   "name": "julia-0.4"
  },
  "language_info": {
   "file_extension": ".jl",
   "mimetype": "application/julia",
   "name": "julia",
   "version": "0.4.7"
  }
 },
 "nbformat": 4,
 "nbformat_minor": 2
}
