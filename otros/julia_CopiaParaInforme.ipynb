{
 "cells": [
  {
   "cell_type": "markdown",
   "metadata": {},
   "source": [
    "# <font color=grey> \\begin{align}  Julia  \\end{align} </font>\n",
    "\n",
    "***"
   ]
  },
  {
   "cell_type": "markdown",
   "metadata": {},
   "source": [
    "http://www.rpi.edu/dept/arc/docs/latex/latex-intro.pdf todo esto se puede usar para darle formato al titulo"
   ]
  },
  {
   "cell_type": "markdown",
   "metadata": {},
   "source": [
    "Usualmente los lenguajes de programacion para computación numerica se dividen entre:\n",
    "\n",
    "- Estaticos como C que son rápidos en ejecucion pero lentos en el desarrollo.\n",
    "\n",
    "- Dinámicos como Python que son rápidos en el desarrollo pero lentos en ejecucuion.\n",
    "\n",
    "Julia busca ofrecer lo mejor de los dos mundos.\n",
    "\n",
    "Es un lenguaje nuevo, empezó a trabajarse en él en el 2009.\n",
    "\n",
    "Sus creadores son Jeff Bezanson, Stefan Karpinski, Viral B. Shah  y Alan Edelman.\n",
    "\n",
    "La primera versión pública se lanzó en el 2012.\n",
    "\n",
    "En 2015 se establece Julia computing para proveer soporte y entrenamiento pago.\n",
    "\n",
    "Para Enero del 2018 tenía alrededor de 1.800.000 descargas."
   ]
  },
  {
   "cell_type": "markdown",
   "metadata": {},
   "source": [
    "# Para que sirve"
   ]
  },
  {
   "cell_type": "markdown",
   "metadata": {
    "collapsed": true
   },
   "source": [
    "Se trata de un lenguaje cuya concepción inicial tenía como objetivo lograr desarrollar un lenguaje que soporte un gran manejo matemático no sólo en capacidades computacionales sino también en facilidad y versatilidad.\n",
    "Suele utilizarse para para la computación paralela y distribuida gracias a su buen diseño y manejo de concurrencia.\n",
    "De la misma manera, su capacidad matemática lo hace un lenguaje muy utilizado en el ámbito de Machine Learning donde se trabaja con una enorme cantidad de datos.\n"
   ]
  },
  {
   "cell_type": "markdown",
   "metadata": {},
   "source": [
    "# Caracteristicas basicas del lenguaje"
   ]
  },
  {
   "cell_type": "markdown",
   "metadata": {
    "collapsed": true
   },
   "source": [
    "Tipos definidos por usuarios son tan rápidos y compctos como los Built-ins\n",
    "\n",
    "Llama funciones C directamente (no se necesitan wrappers ni API's especiales)\n",
    "\n",
    "Dispone de un compilador avanzado, JIT (Just In Time), que tiene como objetivo la optimización del código en virtud de una mejora en el tiempo de ejecución."
   ]
  },
  {
   "cell_type": "markdown",
   "metadata": {},
   "source": [
    "### Manejo de variables y constantes matemáticas:"
   ]
  },
  {
   "cell_type": "code",
   "execution_count": 1,
   "metadata": {},
   "outputs": [
    {
     "data": {
      "text/plain": [
       "6"
      ]
     },
     "execution_count": 1,
     "metadata": {},
     "output_type": "execute_result"
    }
   ],
   "source": [
    "miVariable = 1\n",
    "miVariable = miVariable + 5"
   ]
  },
  {
   "cell_type": "code",
   "execution_count": 2,
   "metadata": {},
   "outputs": [
    {
     "data": {
      "text/plain": [
       "\"Hola a todos y todas\""
      ]
     },
     "execution_count": 2,
     "metadata": {},
     "output_type": "execute_result"
    }
   ],
   "source": [
    "δ = 0.00001\n",
    "δ = \"Hola a todos y todas\""
   ]
  },
  {
   "cell_type": "code",
   "execution_count": 3,
   "metadata": {},
   "outputs": [
    {
     "data": {
      "text/plain": [
       "π = 3.1415926535897..."
      ]
     },
     "execution_count": 3,
     "metadata": {},
     "output_type": "execute_result"
    }
   ],
   "source": [
    "π"
   ]
  },
  {
   "cell_type": "code",
   "execution_count": 4,
   "metadata": {},
   "outputs": [
    {
     "data": {
      "text/plain": [
       "6.403185307179586"
      ]
     },
     "execution_count": 4,
     "metadata": {},
     "output_type": "execute_result"
    }
   ],
   "source": [
    "miVariable = 2*π + 0.12"
   ]
  },
  {
   "cell_type": "code",
   "execution_count": 5,
   "metadata": {},
   "outputs": [
    {
     "data": {
      "text/plain": [
       "Inf"
      ]
     },
     "execution_count": 5,
     "metadata": {},
     "output_type": "execute_result"
    }
   ],
   "source": [
    "miVariable = miVariable + Inf"
   ]
  },
  {
   "cell_type": "code",
   "execution_count": 6,
   "metadata": {},
   "outputs": [
    {
     "data": {
      "text/plain": [
       "14 + 5im"
      ]
     },
     "execution_count": 6,
     "metadata": {},
     "output_type": "execute_result"
    }
   ],
   "source": [
    "res = (1 + 4im)*(2 - 3im)"
   ]
  },
  {
   "cell_type": "code",
   "execution_count": 7,
   "metadata": {},
   "outputs": [
    {
     "data": {
      "text/plain": [
       "10.147261924626015 - 73.50624621453295im"
      ]
     },
     "execution_count": 7,
     "metadata": {},
     "output_type": "execute_result"
    }
   ],
   "source": [
    "cos(res)"
   ]
  },
  {
   "cell_type": "code",
   "execution_count": 8,
   "metadata": {},
   "outputs": [
    {
     "data": {
      "text/plain": [
       "1//3"
      ]
     },
     "execution_count": 8,
     "metadata": {},
     "output_type": "execute_result"
    }
   ],
   "source": [
    "1//3"
   ]
  },
  {
   "cell_type": "code",
   "execution_count": 9,
   "metadata": {},
   "outputs": [
    {
     "data": {
      "text/plain": [
       "0.3333333333333333"
      ]
     },
     "execution_count": 9,
     "metadata": {},
     "output_type": "execute_result"
    }
   ],
   "source": [
    "float(1//3)"
   ]
  },
  {
   "cell_type": "markdown",
   "metadata": {},
   "source": [
    "### Tipado\n",
    "\n",
    "En Julia los tipados son, por defecto, omitidos de manera tal que las variables admitan valores de cualquier tipo. Y esto se da así: son los valores los que tienen tipo mientras que las variables son simples notaciones que hacen referencia a entidades.\n",
    "De todas formas, es fácil expresar el tipo esperado del valor de una cierta variable. Esto suele mejorar no solamente la robustez de los programas, sino también su performance.\n",
    "En conclusión, Julia es un lenguaje de tipado dinámico pero que soporta la especificación de tipos para, en tiempo de ejecución, favorecer a cuestiones internas del lenguaje que mejoran su performance."
   ]
  },
  {
   "cell_type": "code",
   "execution_count": 19,
   "metadata": {},
   "outputs": [
    {
     "data": {
      "text/plain": [
       "50.74"
      ]
     },
     "execution_count": 19,
     "metadata": {},
     "output_type": "execute_result"
    }
   ],
   "source": [
    "x = 50.74"
   ]
  },
  {
   "cell_type": "code",
   "execution_count": 20,
   "metadata": {
    "scrolled": true
   },
   "outputs": [
    {
     "data": {
      "text/plain": [
       "\"Soy un string\""
      ]
     },
     "execution_count": 20,
     "metadata": {},
     "output_type": "execute_result"
    }
   ],
   "source": [
    "x = \"Soy un string\""
   ]
  },
  {
   "cell_type": "code",
   "execution_count": 22,
   "metadata": {},
   "outputs": [
    {
     "ename": "LoadError",
     "evalue": "TypeError: typeassert: expected Int64, got ASCIIString",
     "output_type": "error",
     "traceback": [
      "TypeError: typeassert: expected Int64, got ASCIIString",
      ""
     ]
    }
   ],
   "source": [
    "x\n",
    "y::Int64\n",
    "y = x"
   ]
  },
  {
   "cell_type": "markdown",
   "metadata": {},
   "source": [
    "### Manejo de errores simple"
   ]
  },
  {
   "cell_type": "code",
   "execution_count": 13,
   "metadata": {},
   "outputs": [
    {
     "data": {
      "text/plain": [
       "1"
      ]
     },
     "execution_count": 13,
     "metadata": {},
     "output_type": "execute_result"
    }
   ],
   "source": [
    "tup = (1, 2, 3) \n",
    "tup[1] # => 1"
   ]
  },
  {
   "cell_type": "code",
   "execution_count": 14,
   "metadata": {},
   "outputs": [
    {
     "name": "stdout",
     "output_type": "stream",
     "text": [
      "MethodError(setindex!,(:tup,3,1))\n"
     ]
    }
   ],
   "source": [
    "tup = (1, 2, 3) \n",
    "try:\n",
    "    tup[1] = 3 # MethodError\n",
    "catch e\n",
    "    println(e)\n",
    "end"
   ]
  },
  {
   "cell_type": "code",
   "execution_count": 15,
   "metadata": {},
   "outputs": [
    {
     "data": {
      "text/plain": [
       "10.0"
      ]
     },
     "execution_count": 15,
     "metadata": {},
     "output_type": "execute_result"
    }
   ],
   "source": [
    "ampliacion_sqrt(x) =\n",
    "\n",
    "x >= 0 ? sqrt(x) : error(\"Valor de x negativo es inválido\")\n",
    "\n",
    "ampliacion_sqrt(100)"
   ]
  },
  {
   "cell_type": "code",
   "execution_count": 16,
   "metadata": {},
   "outputs": [
    {
     "ename": "LoadError",
     "evalue": "Valor de x negativo es inválido",
     "output_type": "error",
     "traceback": [
      "Valor de x negativo es inválido",
      "",
      " in ampliacion_sqrt at ./In[15]:1"
     ]
    }
   ],
   "source": [
    "ampliacion_sqrt(-6)"
   ]
  },
  {
   "cell_type": "markdown",
   "metadata": {},
   "source": [
    "### Funciones y argumentos\n",
    "Los argumentos en Julia se pasan siguiendo una convención que suele llamarse \"pass-by-sharing\". Esto significa que no se pasan por copia, sino que los argumentos funcionan en sí mismos como una nueva variable que tiene idéntico valor al que ha sido pasado.\n",
    "Así, la modificación de variables mutables como Arrays será visible para la función caller (esto mismo sucede en Lisps, Python, Ruby entre otros).\n",
    "\n",
    "https://www.youtube.com/watch?v=1YFss_4B_o4\n"
   ]
  },
  {
   "cell_type": "code",
   "execution_count": 17,
   "metadata": {},
   "outputs": [
    {
     "data": {
      "text/plain": [
       "(5,6)"
      ]
     },
     "execution_count": 17,
     "metadata": {},
     "output_type": "execute_result"
    }
   ],
   "source": [
    "function foo(a,b)\n",
    "           a+b, a*b\n",
    "end\n",
    "x, y = foo(2,3)"
   ]
  },
  {
   "cell_type": "code",
   "execution_count": 18,
   "metadata": {},
   "outputs": [
    {
     "data": {
      "text/plain": [
       "7"
      ]
     },
     "execution_count": 18,
     "metadata": {},
     "output_type": "execute_result"
    }
   ],
   "source": [
    "(x -> x^2 + 2x - 1)(2)"
   ]
  },
  {
   "cell_type": "code",
   "execution_count": 19,
   "metadata": {},
   "outputs": [
    {
     "data": {
      "text/plain": [
       "3-element Array{Int64,1}:\n",
       "  2\n",
       " 14\n",
       " -2"
      ]
     },
     "execution_count": 19,
     "metadata": {},
     "output_type": "execute_result"
    }
   ],
   "source": [
    "map(x -> x^2 + 2x - 1, [1,3,-1])"
   ]
  },
  {
   "cell_type": "code",
   "execution_count": 20,
   "metadata": {},
   "outputs": [
    {
     "data": {
      "text/plain": [
       "\"h g and 5 6\""
      ]
     },
     "execution_count": 20,
     "metadata": {},
     "output_type": "execute_result"
    }
   ],
   "source": [
    "function default(a,b,x=5,y=6)\n",
    "    return \"$a $b and $x $y\"\n",
    "end\n",
    "\n",
    "default('h','g')"
   ]
  },
  {
   "cell_type": "code",
   "execution_count": 21,
   "metadata": {},
   "outputs": [
    {
     "data": {
      "text/plain": [
       "\"h g and i 6\""
      ]
     },
     "execution_count": 21,
     "metadata": {},
     "output_type": "execute_result"
    }
   ],
   "source": [
    "default('h', 'g', 'i')"
   ]
  },
  {
   "cell_type": "markdown",
   "metadata": {},
   "source": [
    "### Ducking type\n",
    "Quiero mostrar que a julia no le importa el tipo de dato. Julia opera con cualquier tipo de dato que tenga sentido"
   ]
  },
  {
   "cell_type": "code",
   "execution_count": 22,
   "metadata": {},
   "outputs": [
    {
     "data": {
      "text/plain": [
       "f2 (generic function with 1 method)"
      ]
     },
     "execution_count": 22,
     "metadata": {},
     "output_type": "execute_result"
    }
   ],
   "source": [
    "f2(x) = x^2"
   ]
  },
  {
   "cell_type": "code",
   "execution_count": 23,
   "metadata": {},
   "outputs": [
    {
     "data": {
      "text/plain": [
       "4"
      ]
     },
     "execution_count": 23,
     "metadata": {},
     "output_type": "execute_result"
    }
   ],
   "source": [
    "f2(2)"
   ]
  },
  {
   "cell_type": "code",
   "execution_count": 24,
   "metadata": {},
   "outputs": [
    {
     "data": {
      "text/plain": [
       "3x3 Array{Float64,2}:\n",
       " 0.33378   0.231135  0.232053\n",
       " 0.396211  0.360177  0.565121\n",
       " 0.192505  0.160031  0.362203"
      ]
     },
     "execution_count": 24,
     "metadata": {},
     "output_type": "execute_result"
    }
   ],
   "source": [
    "Ad = rand(3, 3)\n",
    "f2(Ad)"
   ]
  },
  {
   "cell_type": "code",
   "execution_count": 25,
   "metadata": {},
   "outputs": [
    {
     "data": {
      "text/plain": [
       "\"holahola\""
      ]
     },
     "execution_count": 25,
     "metadata": {},
     "output_type": "execute_result"
    }
   ],
   "source": [
    "f2(\"hola\") #La multiplicacion de este parametro implica una concatenacion"
   ]
  },
  {
   "cell_type": "code",
   "execution_count": 26,
   "metadata": {},
   "outputs": [
    {
     "ename": "LoadError",
     "evalue": "MethodError: `*` has no method matching *(::Array{Float64,1}, ::Array{Float64,1})\u001b[0m\nClosest candidates are:\n  *(::Any, ::Any, \u001b[1m\u001b[31m::Any\u001b[0m, \u001b[1m\u001b[31m::Any...\u001b[0m)\n  *{T<:Union{Complex{Float32},Complex{Float64},Float32,Float64},S}(\u001b[1m\u001b[31m::Union{DenseArray{T<:Union{Complex{Float32},Complex{Float64},Float32,Float64},2},SubArray{T<:Union{Complex{Float32},Complex{Float64},Float32,Float64},2,A<:DenseArray{T,N},I<:Tuple{Vararg{Union{Colon,Int64,Range{Int64}}}},LD}}\u001b[0m, ::Union{DenseArray{S,1},SubArray{S,1,A<:DenseArray{T,N},I<:Tuple{Vararg{Union{Colon,Int64,Range{Int64}}}},LD}})\n  *{TA,TB}(\u001b[1m\u001b[31m::Base.LinAlg.AbstractTriangular{TA,S<:AbstractArray{T,2}}\u001b[0m, ::Union{DenseArray{TB,1},DenseArray{TB,2},SubArray{TB,1,A<:DenseArray{T,N},I<:Tuple{Vararg{Union{Colon,Int64,Range{Int64}}}},LD},SubArray{TB,2,A<:DenseArray{T,N},I<:Tuple{Vararg{Union{Colon,Int64,Range{Int64}}}},LD}})\n  ...\u001b[0m",
     "output_type": "error",
     "traceback": [
      "MethodError: `*` has no method matching *(::Array{Float64,1}, ::Array{Float64,1})\u001b[0m\nClosest candidates are:\n  *(::Any, ::Any, \u001b[1m\u001b[31m::Any\u001b[0m, \u001b[1m\u001b[31m::Any...\u001b[0m)\n  *{T<:Union{Complex{Float32},Complex{Float64},Float32,Float64},S}(\u001b[1m\u001b[31m::Union{DenseArray{T<:Union{Complex{Float32},Complex{Float64},Float32,Float64},2},SubArray{T<:Union{Complex{Float32},Complex{Float64},Float32,Float64},2,A<:DenseArray{T,N},I<:Tuple{Vararg{Union{Colon,Int64,Range{Int64}}}},LD}}\u001b[0m, ::Union{DenseArray{S,1},SubArray{S,1,A<:DenseArray{T,N},I<:Tuple{Vararg{Union{Colon,Int64,Range{Int64}}}},LD}})\n  *{TA,TB}(\u001b[1m\u001b[31m::Base.LinAlg.AbstractTriangular{TA,S<:AbstractArray{T,2}}\u001b[0m, ::Union{DenseArray{TB,1},DenseArray{TB,2},SubArray{TB,1,A<:DenseArray{T,N},I<:Tuple{Vararg{Union{Colon,Int64,Range{Int64}}}},LD},SubArray{TB,2,A<:DenseArray{T,N},I<:Tuple{Vararg{Union{Colon,Int64,Range{Int64}}}},LD}})\n  ...\u001b[0m",
      "",
      " in power_by_squaring at ./intfuncs.jl:80"
     ]
    }
   ],
   "source": [
    "v = rand(3)\n",
    "f2(v)"
   ]
  },
  {
   "cell_type": "markdown",
   "metadata": {},
   "source": [
    "### Funciones mutantes vs no mutantes \n",
    "Por convencion las funciones seguidas por un ! alteran, o bien mutan, sus contenidos y las que carecen de un ! no lo hacen"
   ]
  },
  {
   "cell_type": "code",
   "execution_count": 27,
   "metadata": {},
   "outputs": [
    {
     "data": {
      "text/plain": [
       "3-element Array{Int64,1}:\n",
       " 4\n",
       " 7\n",
       " 1"
      ]
     },
     "execution_count": 27,
     "metadata": {},
     "output_type": "execute_result"
    }
   ],
   "source": [
    "v = [4, 7, 1]"
   ]
  },
  {
   "cell_type": "code",
   "execution_count": 28,
   "metadata": {},
   "outputs": [
    {
     "data": {
      "text/plain": [
       "3-element Array{Int64,1}:\n",
       " 1\n",
       " 4\n",
       " 7"
      ]
     },
     "execution_count": 28,
     "metadata": {},
     "output_type": "execute_result"
    }
   ],
   "source": [
    "sort(v)"
   ]
  },
  {
   "cell_type": "code",
   "execution_count": 29,
   "metadata": {},
   "outputs": [
    {
     "data": {
      "text/plain": [
       "3-element Array{Int64,1}:\n",
       " 4\n",
       " 7\n",
       " 1"
      ]
     },
     "execution_count": 29,
     "metadata": {},
     "output_type": "execute_result"
    }
   ],
   "source": [
    "v"
   ]
  },
  {
   "cell_type": "code",
   "execution_count": 30,
   "metadata": {},
   "outputs": [
    {
     "data": {
      "text/plain": [
       "3-element Array{Int64,1}:\n",
       " 1\n",
       " 4\n",
       " 7"
      ]
     },
     "execution_count": 30,
     "metadata": {},
     "output_type": "execute_result"
    }
   ],
   "source": [
    "sort!(v)"
   ]
  },
  {
   "cell_type": "code",
   "execution_count": 31,
   "metadata": {},
   "outputs": [
    {
     "data": {
      "text/plain": [
       "3-element Array{Int64,1}:\n",
       " 1\n",
       " 4\n",
       " 7"
      ]
     },
     "execution_count": 31,
     "metadata": {},
     "output_type": "execute_result"
    }
   ],
   "source": [
    "v"
   ]
  },
  {
   "cell_type": "markdown",
   "metadata": {},
   "source": [
    "### Broadcasting\n",
    "Si ponemos un . entre el nombre de la funcion y su lista de argumento le estamos diciendo a la funcion que se aplique sobre cada elemento sobre cada elemento del input. Esto es nativo de Julia y sirve para cualquier funcion."
   ]
  },
  {
   "cell_type": "code",
   "execution_count": 32,
   "metadata": {},
   "outputs": [
    {
     "data": {
      "text/plain": [
       "3x3 Array{Int64,2}:\n",
       " 1  2  3\n",
       " 4  5  6\n",
       " 7  8  9"
      ]
     },
     "execution_count": 32,
     "metadata": {},
     "output_type": "execute_result"
    }
   ],
   "source": [
    "Am = [i + 3*j for j in 0:2, i in 1:3]"
   ]
  },
  {
   "cell_type": "code",
   "execution_count": 33,
   "metadata": {},
   "outputs": [
    {
     "data": {
      "text/plain": [
       "3x3 Array{Int64,2}:\n",
       "  30   36   42\n",
       "  66   81   96\n",
       " 102  126  150"
      ]
     },
     "execution_count": 33,
     "metadata": {},
     "output_type": "execute_result"
    }
   ],
   "source": [
    "f2(Am)  #Esto seria A^2 = A*A"
   ]
  },
  {
   "cell_type": "code",
   "execution_count": 34,
   "metadata": {},
   "outputs": [
    {
     "ename": "LoadError",
     "evalue": "TypeError: getfield: expected Symbol, got Array{Int64,2}",
     "output_type": "error",
     "traceback": [
      "TypeError: getfield: expected Symbol, got Array{Int64,2}",
      ""
     ]
    }
   ],
   "source": [
    "f2.(Am) #Esto en cambio aplica x^2 a cada elemento de la matriz"
   ]
  },
  {
   "cell_type": "markdown",
   "metadata": {},
   "source": [
    "### Multiple Dispatch\n",
    "rapido,\n",
    "extensible,\n",
    "programable facilmente\n"
   ]
  },
  {
   "cell_type": "code",
   "execution_count": 35,
   "metadata": {},
   "outputs": [
    {
     "data": {
      "text/html": [
       "171 methods for generic function <b>+</b>:<ul><li> +(x::<b>Bool</b>) at <a href=\"https://github.com/JuliaLang/julia/tree/ae26b25d43317d7dd3ca05f60b70677aab9c0e08/base/bool.jl#L33\" target=\"_blank\">bool.jl:33</a><li> +(x::<b>Bool</b>, y::<b>Bool</b>) at <a href=\"https://github.com/JuliaLang/julia/tree/ae26b25d43317d7dd3ca05f60b70677aab9c0e08/base/bool.jl#L36\" target=\"_blank\">bool.jl:36</a><li> +(y::<b>AbstractFloat</b>, x::<b>Bool</b>) at <a href=\"https://github.com/JuliaLang/julia/tree/ae26b25d43317d7dd3ca05f60b70677aab9c0e08/base/bool.jl#L46\" target=\"_blank\">bool.jl:46</a><li> +(x::<b>Int64</b>, y::<b>Int64</b>) at <a href=\"https://github.com/JuliaLang/julia/tree/ae26b25d43317d7dd3ca05f60b70677aab9c0e08/base/int.jl#L8\" target=\"_blank\">int.jl:8</a><li> +(x::<b>Int8</b>, y::<b>Int8</b>) at <a href=\"https://github.com/JuliaLang/julia/tree/ae26b25d43317d7dd3ca05f60b70677aab9c0e08/base/int.jl#L16\" target=\"_blank\">int.jl:16</a><li> +(x::<b>UInt8</b>, y::<b>UInt8</b>) at <a href=\"https://github.com/JuliaLang/julia/tree/ae26b25d43317d7dd3ca05f60b70677aab9c0e08/base/int.jl#L16\" target=\"_blank\">int.jl:16</a><li> +(x::<b>Int16</b>, y::<b>Int16</b>) at <a href=\"https://github.com/JuliaLang/julia/tree/ae26b25d43317d7dd3ca05f60b70677aab9c0e08/base/int.jl#L16\" target=\"_blank\">int.jl:16</a><li> +(x::<b>UInt16</b>, y::<b>UInt16</b>) at <a href=\"https://github.com/JuliaLang/julia/tree/ae26b25d43317d7dd3ca05f60b70677aab9c0e08/base/int.jl#L16\" target=\"_blank\">int.jl:16</a><li> +(x::<b>Int32</b>, y::<b>Int32</b>) at <a href=\"https://github.com/JuliaLang/julia/tree/ae26b25d43317d7dd3ca05f60b70677aab9c0e08/base/int.jl#L16\" target=\"_blank\">int.jl:16</a><li> +(x::<b>UInt32</b>, y::<b>UInt32</b>) at <a href=\"https://github.com/JuliaLang/julia/tree/ae26b25d43317d7dd3ca05f60b70677aab9c0e08/base/int.jl#L16\" target=\"_blank\">int.jl:16</a><li> +(x::<b>UInt64</b>, y::<b>UInt64</b>) at <a href=\"https://github.com/JuliaLang/julia/tree/ae26b25d43317d7dd3ca05f60b70677aab9c0e08/base/int.jl#L16\" target=\"_blank\">int.jl:16</a><li> +(x::<b>Int128</b>, y::<b>Int128</b>) at <a href=\"https://github.com/JuliaLang/julia/tree/ae26b25d43317d7dd3ca05f60b70677aab9c0e08/base/int.jl#L16\" target=\"_blank\">int.jl:16</a><li> +(x::<b>UInt128</b>, y::<b>UInt128</b>) at <a href=\"https://github.com/JuliaLang/julia/tree/ae26b25d43317d7dd3ca05f60b70677aab9c0e08/base/int.jl#L16\" target=\"_blank\">int.jl:16</a><li> +(x::<b>Integer</b>, y::<b>Ptr{T}</b>) at <a href=\"https://github.com/JuliaLang/julia/tree/ae26b25d43317d7dd3ca05f60b70677aab9c0e08/base/pointer.jl#L77\" target=\"_blank\">pointer.jl:77</a><li> +(x::<b>Float32</b>, y::<b>Float32</b>) at <a href=\"https://github.com/JuliaLang/julia/tree/ae26b25d43317d7dd3ca05f60b70677aab9c0e08/base/float.jl#L207\" target=\"_blank\">float.jl:207</a><li> +(x::<b>Float64</b>, y::<b>Float64</b>) at <a href=\"https://github.com/JuliaLang/julia/tree/ae26b25d43317d7dd3ca05f60b70677aab9c0e08/base/float.jl#L208\" target=\"_blank\">float.jl:208</a><li> +(z::<b>Complex{T<:Real}</b>, w::<b>Complex{T<:Real}</b>) at <a href=\"https://github.com/JuliaLang/julia/tree/ae26b25d43317d7dd3ca05f60b70677aab9c0e08/base/complex.jl#L111\" target=\"_blank\">complex.jl:111</a><li> +(x::<b>Bool</b>, z::<b>Complex{Bool}</b>) at <a href=\"https://github.com/JuliaLang/julia/tree/ae26b25d43317d7dd3ca05f60b70677aab9c0e08/base/complex.jl#L118\" target=\"_blank\">complex.jl:118</a><li> +(z::<b>Complex{Bool}</b>, x::<b>Bool</b>) at <a href=\"https://github.com/JuliaLang/julia/tree/ae26b25d43317d7dd3ca05f60b70677aab9c0e08/base/complex.jl#L119\" target=\"_blank\">complex.jl:119</a><li> +(x::<b>Bool</b>, z::<b>Complex{T<:Real}</b>) at <a href=\"https://github.com/JuliaLang/julia/tree/ae26b25d43317d7dd3ca05f60b70677aab9c0e08/base/complex.jl#L125\" target=\"_blank\">complex.jl:125</a><li> +(z::<b>Complex{T<:Real}</b>, x::<b>Bool</b>) at <a href=\"https://github.com/JuliaLang/julia/tree/ae26b25d43317d7dd3ca05f60b70677aab9c0e08/base/complex.jl#L126\" target=\"_blank\">complex.jl:126</a><li> +(x::<b>Real</b>, z::<b>Complex{Bool}</b>) at <a href=\"https://github.com/JuliaLang/julia/tree/ae26b25d43317d7dd3ca05f60b70677aab9c0e08/base/complex.jl#L132\" target=\"_blank\">complex.jl:132</a><li> +(z::<b>Complex{Bool}</b>, x::<b>Real</b>) at <a href=\"https://github.com/JuliaLang/julia/tree/ae26b25d43317d7dd3ca05f60b70677aab9c0e08/base/complex.jl#L133\" target=\"_blank\">complex.jl:133</a><li> +(x::<b>Real</b>, z::<b>Complex{T<:Real}</b>) at <a href=\"https://github.com/JuliaLang/julia/tree/ae26b25d43317d7dd3ca05f60b70677aab9c0e08/base/complex.jl#L144\" target=\"_blank\">complex.jl:144</a><li> +(z::<b>Complex{T<:Real}</b>, x::<b>Real</b>) at <a href=\"https://github.com/JuliaLang/julia/tree/ae26b25d43317d7dd3ca05f60b70677aab9c0e08/base/complex.jl#L145\" target=\"_blank\">complex.jl:145</a><li> +(x::<b>Rational{T<:Integer}</b>, y::<b>Rational{T<:Integer}</b>) at <a href=\"https://github.com/JuliaLang/julia/tree/ae26b25d43317d7dd3ca05f60b70677aab9c0e08/base/rational.jl#L179\" target=\"_blank\">rational.jl:179</a><li> +(x::<b>Bool</b>, A::<b>AbstractArray{Bool,N}</b>) at <a href=\"https://github.com/JuliaLang/julia/tree/ae26b25d43317d7dd3ca05f60b70677aab9c0e08/base/arraymath.jl#L136\" target=\"_blank\">arraymath.jl:136</a><li> +(x::<b>Integer</b>, y::<b>Char</b>) at <a href=\"https://github.com/JuliaLang/julia/tree/ae26b25d43317d7dd3ca05f60b70677aab9c0e08/base/char.jl#L43\" target=\"_blank\">char.jl:43</a><li> +(a::<b>Float16</b>, b::<b>Float16</b>) at <a href=\"https://github.com/JuliaLang/julia/tree/ae26b25d43317d7dd3ca05f60b70677aab9c0e08/base/float16.jl#L136\" target=\"_blank\">float16.jl:136</a><li> +(x::<b>BigInt</b>, y::<b>BigInt</b>) at <a href=\"https://github.com/JuliaLang/julia/tree/ae26b25d43317d7dd3ca05f60b70677aab9c0e08/base/gmp.jl#L256\" target=\"_blank\">gmp.jl:256</a><li> +(a::<b>BigInt</b>, b::<b>BigInt</b>, c::<b>BigInt</b>) at <a href=\"https://github.com/JuliaLang/julia/tree/ae26b25d43317d7dd3ca05f60b70677aab9c0e08/base/gmp.jl#L279\" target=\"_blank\">gmp.jl:279</a><li> +(a::<b>BigInt</b>, b::<b>BigInt</b>, c::<b>BigInt</b>, d::<b>BigInt</b>) at <a href=\"https://github.com/JuliaLang/julia/tree/ae26b25d43317d7dd3ca05f60b70677aab9c0e08/base/gmp.jl#L285\" target=\"_blank\">gmp.jl:285</a><li> +(a::<b>BigInt</b>, b::<b>BigInt</b>, c::<b>BigInt</b>, d::<b>BigInt</b>, e::<b>BigInt</b>) at <a href=\"https://github.com/JuliaLang/julia/tree/ae26b25d43317d7dd3ca05f60b70677aab9c0e08/base/gmp.jl#L292\" target=\"_blank\">gmp.jl:292</a><li> +(x::<b>BigInt</b>, c::<b>Union{UInt16,UInt32,UInt64,UInt8}</b>) at <a href=\"https://github.com/JuliaLang/julia/tree/ae26b25d43317d7dd3ca05f60b70677aab9c0e08/base/gmp.jl#L304\" target=\"_blank\">gmp.jl:304</a><li> +(c::<b>Union{UInt16,UInt32,UInt64,UInt8}</b>, x::<b>BigInt</b>) at <a href=\"https://github.com/JuliaLang/julia/tree/ae26b25d43317d7dd3ca05f60b70677aab9c0e08/base/gmp.jl#L308\" target=\"_blank\">gmp.jl:308</a><li> +(x::<b>BigInt</b>, c::<b>Union{Int16,Int32,Int64,Int8}</b>) at <a href=\"https://github.com/JuliaLang/julia/tree/ae26b25d43317d7dd3ca05f60b70677aab9c0e08/base/gmp.jl#L320\" target=\"_blank\">gmp.jl:320</a><li> +(c::<b>Union{Int16,Int32,Int64,Int8}</b>, x::<b>BigInt</b>) at <a href=\"https://github.com/JuliaLang/julia/tree/ae26b25d43317d7dd3ca05f60b70677aab9c0e08/base/gmp.jl#L321\" target=\"_blank\">gmp.jl:321</a><li> +(x::<b>BigFloat</b>, y::<b>BigFloat</b>) at <a href=\"https://github.com/JuliaLang/julia/tree/ae26b25d43317d7dd3ca05f60b70677aab9c0e08/base/mpfr.jl#L208\" target=\"_blank\">mpfr.jl:208</a><li> +(x::<b>BigFloat</b>, c::<b>Union{UInt16,UInt32,UInt64,UInt8}</b>) at <a href=\"https://github.com/JuliaLang/julia/tree/ae26b25d43317d7dd3ca05f60b70677aab9c0e08/base/mpfr.jl#L215\" target=\"_blank\">mpfr.jl:215</a><li> +(c::<b>Union{UInt16,UInt32,UInt64,UInt8}</b>, x::<b>BigFloat</b>) at <a href=\"https://github.com/JuliaLang/julia/tree/ae26b25d43317d7dd3ca05f60b70677aab9c0e08/base/mpfr.jl#L219\" target=\"_blank\">mpfr.jl:219</a><li> +(x::<b>BigFloat</b>, c::<b>Union{Int16,Int32,Int64,Int8}</b>) at <a href=\"https://github.com/JuliaLang/julia/tree/ae26b25d43317d7dd3ca05f60b70677aab9c0e08/base/mpfr.jl#L223\" target=\"_blank\">mpfr.jl:223</a><li> +(c::<b>Union{Int16,Int32,Int64,Int8}</b>, x::<b>BigFloat</b>) at <a href=\"https://github.com/JuliaLang/julia/tree/ae26b25d43317d7dd3ca05f60b70677aab9c0e08/base/mpfr.jl#L227\" target=\"_blank\">mpfr.jl:227</a><li> +(x::<b>BigFloat</b>, c::<b>Union{Float16,Float32,Float64}</b>) at <a href=\"https://github.com/JuliaLang/julia/tree/ae26b25d43317d7dd3ca05f60b70677aab9c0e08/base/mpfr.jl#L231\" target=\"_blank\">mpfr.jl:231</a><li> +(c::<b>Union{Float16,Float32,Float64}</b>, x::<b>BigFloat</b>) at <a href=\"https://github.com/JuliaLang/julia/tree/ae26b25d43317d7dd3ca05f60b70677aab9c0e08/base/mpfr.jl#L235\" target=\"_blank\">mpfr.jl:235</a><li> +(x::<b>BigFloat</b>, c::<b>BigInt</b>) at <a href=\"https://github.com/JuliaLang/julia/tree/ae26b25d43317d7dd3ca05f60b70677aab9c0e08/base/mpfr.jl#L239\" target=\"_blank\">mpfr.jl:239</a><li> +(c::<b>BigInt</b>, x::<b>BigFloat</b>) at <a href=\"https://github.com/JuliaLang/julia/tree/ae26b25d43317d7dd3ca05f60b70677aab9c0e08/base/mpfr.jl#L243\" target=\"_blank\">mpfr.jl:243</a><li> +(a::<b>BigFloat</b>, b::<b>BigFloat</b>, c::<b>BigFloat</b>) at <a href=\"https://github.com/JuliaLang/julia/tree/ae26b25d43317d7dd3ca05f60b70677aab9c0e08/base/mpfr.jl#L379\" target=\"_blank\">mpfr.jl:379</a><li> +(a::<b>BigFloat</b>, b::<b>BigFloat</b>, c::<b>BigFloat</b>, d::<b>BigFloat</b>) at <a href=\"https://github.com/JuliaLang/julia/tree/ae26b25d43317d7dd3ca05f60b70677aab9c0e08/base/mpfr.jl#L385\" target=\"_blank\">mpfr.jl:385</a><li> +(a::<b>BigFloat</b>, b::<b>BigFloat</b>, c::<b>BigFloat</b>, d::<b>BigFloat</b>, e::<b>BigFloat</b>) at <a href=\"https://github.com/JuliaLang/julia/tree/ae26b25d43317d7dd3ca05f60b70677aab9c0e08/base/mpfr.jl#L392\" target=\"_blank\">mpfr.jl:392</a><li> +(x::<b>Irrational{sym}</b>, y::<b>Irrational{sym}</b>) at <a href=\"https://github.com/JuliaLang/julia/tree/ae26b25d43317d7dd3ca05f60b70677aab9c0e08/base/irrationals.jl#L72\" target=\"_blank\">irrationals.jl:72</a><li> +(x::<b>Number</b>) at <a href=\"https://github.com/JuliaLang/julia/tree/ae26b25d43317d7dd3ca05f60b70677aab9c0e08/base/operators.jl#L73\" target=\"_blank\">operators.jl:73</a><li> +<i>{T<:Number}</i>(x::<b>T<:Number</b>, y::<b>T<:Number</b>) at <a href=\"https://github.com/JuliaLang/julia/tree/ae26b25d43317d7dd3ca05f60b70677aab9c0e08/base/promotion.jl#L211\" target=\"_blank\">promotion.jl:211</a><li> +<i>{T<:AbstractFloat}</i>(x::<b>Bool</b>, y::<b>T<:AbstractFloat</b>) at <a href=\"https://github.com/JuliaLang/julia/tree/ae26b25d43317d7dd3ca05f60b70677aab9c0e08/base/bool.jl#L43\" target=\"_blank\">bool.jl:43</a><li> +(x::<b>Number</b>, y::<b>Number</b>) at <a href=\"https://github.com/JuliaLang/julia/tree/ae26b25d43317d7dd3ca05f60b70677aab9c0e08/base/promotion.jl#L167\" target=\"_blank\">promotion.jl:167</a><li> +(r1::<b>OrdinalRange{T,S}</b>, r2::<b>OrdinalRange{T,S}</b>) at <a href=\"https://github.com/JuliaLang/julia/tree/ae26b25d43317d7dd3ca05f60b70677aab9c0e08/base/operators.jl#L330\" target=\"_blank\">operators.jl:330</a><li> +<i>{T<:AbstractFloat}</i>(r1::<b>FloatRange{T<:AbstractFloat}</b>, r2::<b>FloatRange{T<:AbstractFloat}</b>) at <a href=\"https://github.com/JuliaLang/julia/tree/ae26b25d43317d7dd3ca05f60b70677aab9c0e08/base/operators.jl#L337\" target=\"_blank\">operators.jl:337</a><li> +<i>{T<:AbstractFloat}</i>(r1::<b>LinSpace{T<:AbstractFloat}</b>, r2::<b>LinSpace{T<:AbstractFloat}</b>) at <a href=\"https://github.com/JuliaLang/julia/tree/ae26b25d43317d7dd3ca05f60b70677aab9c0e08/base/operators.jl#L356\" target=\"_blank\">operators.jl:356</a><li> +(r1::<b>Union{FloatRange{T<:AbstractFloat},LinSpace{T<:AbstractFloat},OrdinalRange{T,S}}</b>, r2::<b>Union{FloatRange{T<:AbstractFloat},LinSpace{T<:AbstractFloat},OrdinalRange{T,S}}</b>) at <a href=\"https://github.com/JuliaLang/julia/tree/ae26b25d43317d7dd3ca05f60b70677aab9c0e08/base/operators.jl#L369\" target=\"_blank\">operators.jl:369</a><li> +(x::<b>Ptr{T}</b>, y::<b>Integer</b>) at <a href=\"https://github.com/JuliaLang/julia/tree/ae26b25d43317d7dd3ca05f60b70677aab9c0e08/base/pointer.jl#L75\" target=\"_blank\">pointer.jl:75</a><li> +<i>{S,T}</i>(A::<b>Range{S}</b>, B::<b>Range{T}</b>) at <a href=\"https://github.com/JuliaLang/julia/tree/ae26b25d43317d7dd3ca05f60b70677aab9c0e08/base/arraymath.jl#L69\" target=\"_blank\">arraymath.jl:69</a><li> +<i>{S,T}</i>(A::<b>Range{S}</b>, B::<b>AbstractArray{T,N}</b>) at <a href=\"https://github.com/JuliaLang/julia/tree/ae26b25d43317d7dd3ca05f60b70677aab9c0e08/base/arraymath.jl#L87\" target=\"_blank\">arraymath.jl:87</a><li> +(A::<b>BitArray{N}</b>, B::<b>BitArray{N}</b>) at <a href=\"https://github.com/JuliaLang/julia/tree/ae26b25d43317d7dd3ca05f60b70677aab9c0e08/base/bitarray.jl#L859\" target=\"_blank\">bitarray.jl:859</a><li> +<i>{T}</i>(B::<b>BitArray{2}</b>, J::<b>UniformScaling{T}</b>) at <a href=\"https://github.com/JuliaLang/julia/tree/ae26b25d43317d7dd3ca05f60b70677aab9c0e08/base/linalg/uniformscaling.jl#L33\" target=\"_blank\">linalg/uniformscaling.jl:33</a><li> +(A::<b>Array{T,2}</b>, B::<b>Diagonal{T}</b>) at <a href=\"https://github.com/JuliaLang/julia/tree/ae26b25d43317d7dd3ca05f60b70677aab9c0e08/base/linalg/special.jl#L122\" target=\"_blank\">linalg/special.jl:122</a><li> +(A::<b>Array{T,2}</b>, B::<b>Bidiagonal{T}</b>) at <a href=\"https://github.com/JuliaLang/julia/tree/ae26b25d43317d7dd3ca05f60b70677aab9c0e08/base/linalg/special.jl#L122\" target=\"_blank\">linalg/special.jl:122</a><li> +(A::<b>Array{T,2}</b>, B::<b>Tridiagonal{T}</b>) at <a href=\"https://github.com/JuliaLang/julia/tree/ae26b25d43317d7dd3ca05f60b70677aab9c0e08/base/linalg/special.jl#L122\" target=\"_blank\">linalg/special.jl:122</a><li> +(A::<b>Array{T,2}</b>, B::<b>SymTridiagonal{T}</b>) at <a href=\"https://github.com/JuliaLang/julia/tree/ae26b25d43317d7dd3ca05f60b70677aab9c0e08/base/linalg/special.jl#L131\" target=\"_blank\">linalg/special.jl:131</a><li> +(A::<b>Array{T,2}</b>, B::<b>Base.LinAlg.AbstractTriangular{T,S<:AbstractArray{T,2}}</b>) at <a href=\"https://github.com/JuliaLang/julia/tree/ae26b25d43317d7dd3ca05f60b70677aab9c0e08/base/linalg/special.jl#L159\" target=\"_blank\">linalg/special.jl:159</a><li> +(A::<b>Array{T,N}</b>, B::<b>SparseMatrixCSC{Tv,Ti<:Integer}</b>) at <a href=\"https://github.com/JuliaLang/julia/tree/ae26b25d43317d7dd3ca05f60b70677aab9c0e08/base/sparse/sparsematrix.jl#L1019\" target=\"_blank\">sparse/sparsematrix.jl:1019</a><li> +<i>{P<:Union{Base.Dates.CompoundPeriod,Base.Dates.Period}}</i>(x::<b>Union{DenseArray{P<:Union{Base.Dates.CompoundPeriod,Base.Dates.Period},N},SubArray{P<:Union{Base.Dates.CompoundPeriod,Base.Dates.Period},N,A<:DenseArray{T,N},I<:Tuple{Vararg{Union{Colon,Int64,Range{Int64}}}},LD}}</b>) at <a href=\"https://github.com/JuliaLang/julia/tree/ae26b25d43317d7dd3ca05f60b70677aab9c0e08/base/dates/periods.jl#L221\" target=\"_blank\">dates/periods.jl:221</a><li> +(A::<b>AbstractArray{Bool,N}</b>, x::<b>Bool</b>) at <a href=\"https://github.com/JuliaLang/julia/tree/ae26b25d43317d7dd3ca05f60b70677aab9c0e08/base/arraymath.jl#L135\" target=\"_blank\">arraymath.jl:135</a><li> +(A::<b>Union{DenseArray{Bool,N},SubArray{Bool,N,A<:DenseArray{T,N},I<:Tuple{Vararg{Union{Colon,Int64,Range{Int64}}}},LD}}</b>, B::<b>Union{DenseArray{Bool,N},SubArray{Bool,N,A<:DenseArray{T,N},I<:Tuple{Vararg{Union{Colon,Int64,Range{Int64}}}},LD}}</b>) at <a href=\"https://github.com/JuliaLang/julia/tree/ae26b25d43317d7dd3ca05f60b70677aab9c0e08/base/arraymath.jl#L166\" target=\"_blank\">arraymath.jl:166</a><li> +(A::<b>SymTridiagonal{T}</b>, B::<b>SymTridiagonal{T}</b>) at <a href=\"https://github.com/JuliaLang/julia/tree/ae26b25d43317d7dd3ca05f60b70677aab9c0e08/base/linalg/tridiag.jl#L84\" target=\"_blank\">linalg/tridiag.jl:84</a><li> +(A::<b>Tridiagonal{T}</b>, B::<b>Tridiagonal{T}</b>) at <a href=\"https://github.com/JuliaLang/julia/tree/ae26b25d43317d7dd3ca05f60b70677aab9c0e08/base/linalg/tridiag.jl#L404\" target=\"_blank\">linalg/tridiag.jl:404</a><li> +(A::<b>UpperTriangular{T,S<:AbstractArray{T,2}}</b>, B::<b>UpperTriangular{T,S<:AbstractArray{T,2}}</b>) at <a href=\"https://github.com/JuliaLang/julia/tree/ae26b25d43317d7dd3ca05f60b70677aab9c0e08/base/linalg/triangular.jl#L347\" target=\"_blank\">linalg/triangular.jl:347</a><li> +(A::<b>LowerTriangular{T,S<:AbstractArray{T,2}}</b>, B::<b>LowerTriangular{T,S<:AbstractArray{T,2}}</b>) at <a href=\"https://github.com/JuliaLang/julia/tree/ae26b25d43317d7dd3ca05f60b70677aab9c0e08/base/linalg/triangular.jl#L348\" target=\"_blank\">linalg/triangular.jl:348</a><li> +(A::<b>UpperTriangular{T,S<:AbstractArray{T,2}}</b>, B::<b>Base.LinAlg.UnitUpperTriangular{T,S<:AbstractArray{T,2}}</b>) at <a href=\"https://github.com/JuliaLang/julia/tree/ae26b25d43317d7dd3ca05f60b70677aab9c0e08/base/linalg/triangular.jl#L349\" target=\"_blank\">linalg/triangular.jl:349</a><li> +(A::<b>LowerTriangular{T,S<:AbstractArray{T,2}}</b>, B::<b>Base.LinAlg.UnitLowerTriangular{T,S<:AbstractArray{T,2}}</b>) at <a href=\"https://github.com/JuliaLang/julia/tree/ae26b25d43317d7dd3ca05f60b70677aab9c0e08/base/linalg/triangular.jl#L350\" target=\"_blank\">linalg/triangular.jl:350</a><li> +(A::<b>Base.LinAlg.UnitUpperTriangular{T,S<:AbstractArray{T,2}}</b>, B::<b>UpperTriangular{T,S<:AbstractArray{T,2}}</b>) at <a href=\"https://github.com/JuliaLang/julia/tree/ae26b25d43317d7dd3ca05f60b70677aab9c0e08/base/linalg/triangular.jl#L351\" target=\"_blank\">linalg/triangular.jl:351</a><li> +(A::<b>Base.LinAlg.UnitLowerTriangular{T,S<:AbstractArray{T,2}}</b>, B::<b>LowerTriangular{T,S<:AbstractArray{T,2}}</b>) at <a href=\"https://github.com/JuliaLang/julia/tree/ae26b25d43317d7dd3ca05f60b70677aab9c0e08/base/linalg/triangular.jl#L352\" target=\"_blank\">linalg/triangular.jl:352</a><li> +(A::<b>Base.LinAlg.UnitUpperTriangular{T,S<:AbstractArray{T,2}}</b>, B::<b>Base.LinAlg.UnitUpperTriangular{T,S<:AbstractArray{T,2}}</b>) at <a href=\"https://github.com/JuliaLang/julia/tree/ae26b25d43317d7dd3ca05f60b70677aab9c0e08/base/linalg/triangular.jl#L353\" target=\"_blank\">linalg/triangular.jl:353</a><li> +(A::<b>Base.LinAlg.UnitLowerTriangular{T,S<:AbstractArray{T,2}}</b>, B::<b>Base.LinAlg.UnitLowerTriangular{T,S<:AbstractArray{T,2}}</b>) at <a href=\"https://github.com/JuliaLang/julia/tree/ae26b25d43317d7dd3ca05f60b70677aab9c0e08/base/linalg/triangular.jl#L354\" target=\"_blank\">linalg/triangular.jl:354</a><li> +(A::<b>Base.LinAlg.AbstractTriangular{T,S<:AbstractArray{T,2}}</b>, B::<b>Base.LinAlg.AbstractTriangular{T,S<:AbstractArray{T,2}}</b>) at <a href=\"https://github.com/JuliaLang/julia/tree/ae26b25d43317d7dd3ca05f60b70677aab9c0e08/base/linalg/triangular.jl#L355\" target=\"_blank\">linalg/triangular.jl:355</a><li> +(Da::<b>Diagonal{T}</b>, Db::<b>Diagonal{T}</b>) at <a href=\"https://github.com/JuliaLang/julia/tree/ae26b25d43317d7dd3ca05f60b70677aab9c0e08/base/linalg/diagonal.jl#L86\" target=\"_blank\">linalg/diagonal.jl:86</a><li> +(A::<b>Bidiagonal{T}</b>, B::<b>Bidiagonal{T}</b>) at <a href=\"https://github.com/JuliaLang/julia/tree/ae26b25d43317d7dd3ca05f60b70677aab9c0e08/base/linalg/bidiag.jl#L176\" target=\"_blank\">linalg/bidiag.jl:176</a><li> +(UL::<b>UpperTriangular{T,S<:AbstractArray{T,2}}</b>, J::<b>UniformScaling{T<:Number}</b>) at <a href=\"https://github.com/JuliaLang/julia/tree/ae26b25d43317d7dd3ca05f60b70677aab9c0e08/base/linalg/uniformscaling.jl#L50\" target=\"_blank\">linalg/uniformscaling.jl:50</a><li> +(UL::<b>Base.LinAlg.UnitUpperTriangular{T,S<:AbstractArray{T,2}}</b>, J::<b>UniformScaling{T<:Number}</b>) at <a href=\"https://github.com/JuliaLang/julia/tree/ae26b25d43317d7dd3ca05f60b70677aab9c0e08/base/linalg/uniformscaling.jl#L53\" target=\"_blank\">linalg/uniformscaling.jl:53</a><li> +(UL::<b>LowerTriangular{T,S<:AbstractArray{T,2}}</b>, J::<b>UniformScaling{T<:Number}</b>) at <a href=\"https://github.com/JuliaLang/julia/tree/ae26b25d43317d7dd3ca05f60b70677aab9c0e08/base/linalg/uniformscaling.jl#L50\" target=\"_blank\">linalg/uniformscaling.jl:50</a><li> +(UL::<b>Base.LinAlg.UnitLowerTriangular{T,S<:AbstractArray{T,2}}</b>, J::<b>UniformScaling{T<:Number}</b>) at <a href=\"https://github.com/JuliaLang/julia/tree/ae26b25d43317d7dd3ca05f60b70677aab9c0e08/base/linalg/uniformscaling.jl#L53\" target=\"_blank\">linalg/uniformscaling.jl:53</a><li> +(A::<b>Diagonal{T}</b>, B::<b>Bidiagonal{T}</b>) at <a href=\"https://github.com/JuliaLang/julia/tree/ae26b25d43317d7dd3ca05f60b70677aab9c0e08/base/linalg/special.jl#L121\" target=\"_blank\">linalg/special.jl:121</a><li> +(A::<b>Bidiagonal{T}</b>, B::<b>Diagonal{T}</b>) at <a href=\"https://github.com/JuliaLang/julia/tree/ae26b25d43317d7dd3ca05f60b70677aab9c0e08/base/linalg/special.jl#L122\" target=\"_blank\">linalg/special.jl:122</a><li> +(A::<b>Diagonal{T}</b>, B::<b>Tridiagonal{T}</b>) at <a href=\"https://github.com/JuliaLang/julia/tree/ae26b25d43317d7dd3ca05f60b70677aab9c0e08/base/linalg/special.jl#L121\" target=\"_blank\">linalg/special.jl:121</a><li> +(A::<b>Tridiagonal{T}</b>, B::<b>Diagonal{T}</b>) at <a href=\"https://github.com/JuliaLang/julia/tree/ae26b25d43317d7dd3ca05f60b70677aab9c0e08/base/linalg/special.jl#L122\" target=\"_blank\">linalg/special.jl:122</a><li> +(A::<b>Diagonal{T}</b>, B::<b>Array{T,2}</b>) at <a href=\"https://github.com/JuliaLang/julia/tree/ae26b25d43317d7dd3ca05f60b70677aab9c0e08/base/linalg/special.jl#L121\" target=\"_blank\">linalg/special.jl:121</a><li> +(A::<b>Bidiagonal{T}</b>, B::<b>Tridiagonal{T}</b>) at <a href=\"https://github.com/JuliaLang/julia/tree/ae26b25d43317d7dd3ca05f60b70677aab9c0e08/base/linalg/special.jl#L121\" target=\"_blank\">linalg/special.jl:121</a><li> +(A::<b>Tridiagonal{T}</b>, B::<b>Bidiagonal{T}</b>) at <a href=\"https://github.com/JuliaLang/julia/tree/ae26b25d43317d7dd3ca05f60b70677aab9c0e08/base/linalg/special.jl#L122\" target=\"_blank\">linalg/special.jl:122</a><li> +(A::<b>Bidiagonal{T}</b>, B::<b>Array{T,2}</b>) at <a href=\"https://github.com/JuliaLang/julia/tree/ae26b25d43317d7dd3ca05f60b70677aab9c0e08/base/linalg/special.jl#L121\" target=\"_blank\">linalg/special.jl:121</a><li> +(A::<b>Tridiagonal{T}</b>, B::<b>Array{T,2}</b>) at <a href=\"https://github.com/JuliaLang/julia/tree/ae26b25d43317d7dd3ca05f60b70677aab9c0e08/base/linalg/special.jl#L121\" target=\"_blank\">linalg/special.jl:121</a><li> +(A::<b>SymTridiagonal{T}</b>, B::<b>Tridiagonal{T}</b>) at <a href=\"https://github.com/JuliaLang/julia/tree/ae26b25d43317d7dd3ca05f60b70677aab9c0e08/base/linalg/special.jl#L130\" target=\"_blank\">linalg/special.jl:130</a><li> +(A::<b>Tridiagonal{T}</b>, B::<b>SymTridiagonal{T}</b>) at <a href=\"https://github.com/JuliaLang/julia/tree/ae26b25d43317d7dd3ca05f60b70677aab9c0e08/base/linalg/special.jl#L131\" target=\"_blank\">linalg/special.jl:131</a><li> +(A::<b>SymTridiagonal{T}</b>, B::<b>Array{T,2}</b>) at <a href=\"https://github.com/JuliaLang/julia/tree/ae26b25d43317d7dd3ca05f60b70677aab9c0e08/base/linalg/special.jl#L130\" target=\"_blank\">linalg/special.jl:130</a><li> +(A::<b>Diagonal{T}</b>, B::<b>SymTridiagonal{T}</b>) at <a href=\"https://github.com/JuliaLang/julia/tree/ae26b25d43317d7dd3ca05f60b70677aab9c0e08/base/linalg/special.jl#L139\" target=\"_blank\">linalg/special.jl:139</a><li> +(A::<b>SymTridiagonal{T}</b>, B::<b>Diagonal{T}</b>) at <a href=\"https://github.com/JuliaLang/julia/tree/ae26b25d43317d7dd3ca05f60b70677aab9c0e08/base/linalg/special.jl#L140\" target=\"_blank\">linalg/special.jl:140</a><li> +(A::<b>Bidiagonal{T}</b>, B::<b>SymTridiagonal{T}</b>) at <a href=\"https://github.com/JuliaLang/julia/tree/ae26b25d43317d7dd3ca05f60b70677aab9c0e08/base/linalg/special.jl#L139\" target=\"_blank\">linalg/special.jl:139</a><li> +(A::<b>SymTridiagonal{T}</b>, B::<b>Bidiagonal{T}</b>) at <a href=\"https://github.com/JuliaLang/julia/tree/ae26b25d43317d7dd3ca05f60b70677aab9c0e08/base/linalg/special.jl#L140\" target=\"_blank\">linalg/special.jl:140</a><li> +(A::<b>Diagonal{T}</b>, B::<b>UpperTriangular{T,S<:AbstractArray{T,2}}</b>) at <a href=\"https://github.com/JuliaLang/julia/tree/ae26b25d43317d7dd3ca05f60b70677aab9c0e08/base/linalg/special.jl#L151\" target=\"_blank\">linalg/special.jl:151</a><li> +(A::<b>UpperTriangular{T,S<:AbstractArray{T,2}}</b>, B::<b>Diagonal{T}</b>) at <a href=\"https://github.com/JuliaLang/julia/tree/ae26b25d43317d7dd3ca05f60b70677aab9c0e08/base/linalg/special.jl#L152\" target=\"_blank\">linalg/special.jl:152</a><li> +(A::<b>Diagonal{T}</b>, B::<b>Base.LinAlg.UnitUpperTriangular{T,S<:AbstractArray{T,2}}</b>) at <a href=\"https://github.com/JuliaLang/julia/tree/ae26b25d43317d7dd3ca05f60b70677aab9c0e08/base/linalg/special.jl#L151\" target=\"_blank\">linalg/special.jl:151</a><li> +(A::<b>Base.LinAlg.UnitUpperTriangular{T,S<:AbstractArray{T,2}}</b>, B::<b>Diagonal{T}</b>) at <a href=\"https://github.com/JuliaLang/julia/tree/ae26b25d43317d7dd3ca05f60b70677aab9c0e08/base/linalg/special.jl#L152\" target=\"_blank\">linalg/special.jl:152</a><li> +(A::<b>Diagonal{T}</b>, B::<b>LowerTriangular{T,S<:AbstractArray{T,2}}</b>) at <a href=\"https://github.com/JuliaLang/julia/tree/ae26b25d43317d7dd3ca05f60b70677aab9c0e08/base/linalg/special.jl#L151\" target=\"_blank\">linalg/special.jl:151</a><li> +(A::<b>LowerTriangular{T,S<:AbstractArray{T,2}}</b>, B::<b>Diagonal{T}</b>) at <a href=\"https://github.com/JuliaLang/julia/tree/ae26b25d43317d7dd3ca05f60b70677aab9c0e08/base/linalg/special.jl#L152\" target=\"_blank\">linalg/special.jl:152</a><li> +(A::<b>Diagonal{T}</b>, B::<b>Base.LinAlg.UnitLowerTriangular{T,S<:AbstractArray{T,2}}</b>) at <a href=\"https://github.com/JuliaLang/julia/tree/ae26b25d43317d7dd3ca05f60b70677aab9c0e08/base/linalg/special.jl#L151\" target=\"_blank\">linalg/special.jl:151</a><li> +(A::<b>Base.LinAlg.UnitLowerTriangular{T,S<:AbstractArray{T,2}}</b>, B::<b>Diagonal{T}</b>) at <a href=\"https://github.com/JuliaLang/julia/tree/ae26b25d43317d7dd3ca05f60b70677aab9c0e08/base/linalg/special.jl#L152\" target=\"_blank\">linalg/special.jl:152</a><li> +(A::<b>Base.LinAlg.AbstractTriangular{T,S<:AbstractArray{T,2}}</b>, B::<b>SymTridiagonal{T}</b>) at <a href=\"https://github.com/JuliaLang/julia/tree/ae26b25d43317d7dd3ca05f60b70677aab9c0e08/base/linalg/special.jl#L158\" target=\"_blank\">linalg/special.jl:158</a><li> +(A::<b>SymTridiagonal{T}</b>, B::<b>Base.LinAlg.AbstractTriangular{T,S<:AbstractArray{T,2}}</b>) at <a href=\"https://github.com/JuliaLang/julia/tree/ae26b25d43317d7dd3ca05f60b70677aab9c0e08/base/linalg/special.jl#L159\" target=\"_blank\">linalg/special.jl:159</a><li> +(A::<b>Base.LinAlg.AbstractTriangular{T,S<:AbstractArray{T,2}}</b>, B::<b>Tridiagonal{T}</b>) at <a href=\"https://github.com/JuliaLang/julia/tree/ae26b25d43317d7dd3ca05f60b70677aab9c0e08/base/linalg/special.jl#L158\" target=\"_blank\">linalg/special.jl:158</a><li> +(A::<b>Tridiagonal{T}</b>, B::<b>Base.LinAlg.AbstractTriangular{T,S<:AbstractArray{T,2}}</b>) at <a href=\"https://github.com/JuliaLang/julia/tree/ae26b25d43317d7dd3ca05f60b70677aab9c0e08/base/linalg/special.jl#L159\" target=\"_blank\">linalg/special.jl:159</a><li> +(A::<b>Base.LinAlg.AbstractTriangular{T,S<:AbstractArray{T,2}}</b>, B::<b>Bidiagonal{T}</b>) at <a href=\"https://github.com/JuliaLang/julia/tree/ae26b25d43317d7dd3ca05f60b70677aab9c0e08/base/linalg/special.jl#L158\" target=\"_blank\">linalg/special.jl:158</a><li> +(A::<b>Bidiagonal{T}</b>, B::<b>Base.LinAlg.AbstractTriangular{T,S<:AbstractArray{T,2}}</b>) at <a href=\"https://github.com/JuliaLang/julia/tree/ae26b25d43317d7dd3ca05f60b70677aab9c0e08/base/linalg/special.jl#L159\" target=\"_blank\">linalg/special.jl:159</a><li> +(A::<b>Base.LinAlg.AbstractTriangular{T,S<:AbstractArray{T,2}}</b>, B::<b>Array{T,2}</b>) at <a href=\"https://github.com/JuliaLang/julia/tree/ae26b25d43317d7dd3ca05f60b70677aab9c0e08/base/linalg/special.jl#L158\" target=\"_blank\">linalg/special.jl:158</a><li> +<i>{Tv1,Ti1,Tv2,Ti2}</i>(A_1::<b>SparseMatrixCSC{Tv1,Ti1}</b>, A_2::<b>SparseMatrixCSC{Tv2,Ti2}</b>) at <a href=\"https://github.com/JuliaLang/julia/tree/ae26b25d43317d7dd3ca05f60b70677aab9c0e08/base/sparse/sparsematrix.jl#L1005\" target=\"_blank\">sparse/sparsematrix.jl:1005</a><li> +(A::<b>SparseMatrixCSC{Tv,Ti<:Integer}</b>, B::<b>Array{T,N}</b>) at <a href=\"https://github.com/JuliaLang/julia/tree/ae26b25d43317d7dd3ca05f60b70677aab9c0e08/base/sparse/sparsematrix.jl#L1017\" target=\"_blank\">sparse/sparsematrix.jl:1017</a><li> +(A::<b>SparseMatrixCSC{Tv,Ti<:Integer}</b>, J::<b>UniformScaling{T<:Number}</b>) at <a href=\"https://github.com/JuliaLang/julia/tree/ae26b25d43317d7dd3ca05f60b70677aab9c0e08/base/sparse/sparsematrix.jl#L3030\" target=\"_blank\">sparse/sparsematrix.jl:3030</a><li> +<i>{P<:Union{Base.Dates.CompoundPeriod,Base.Dates.Period}}</i>(Y::<b>Union{DenseArray{P<:Union{Base.Dates.CompoundPeriod,Base.Dates.Period},N},SubArray{P<:Union{Base.Dates.CompoundPeriod,Base.Dates.Period},N,A<:DenseArray{T,N},I<:Tuple{Vararg{Union{Colon,Int64,Range{Int64}}}},LD}}</b>, x::<b>Union{Base.Dates.CompoundPeriod,Base.Dates.Period}</b>) at <a href=\"https://github.com/JuliaLang/julia/tree/ae26b25d43317d7dd3ca05f60b70677aab9c0e08/base/dates/periods.jl#L235\" target=\"_blank\">dates/periods.jl:235</a><li> +<i>{P<:Union{Base.Dates.CompoundPeriod,Base.Dates.Period},Q<:Union{Base.Dates.CompoundPeriod,Base.Dates.Period}}</i>(X::<b>Union{DenseArray{P<:Union{Base.Dates.CompoundPeriod,Base.Dates.Period},N},SubArray{P<:Union{Base.Dates.CompoundPeriod,Base.Dates.Period},N,A<:DenseArray{T,N},I<:Tuple{Vararg{Union{Colon,Int64,Range{Int64}}}},LD}}</b>, Y::<b>Union{DenseArray{Q<:Union{Base.Dates.CompoundPeriod,Base.Dates.Period},N},SubArray{Q<:Union{Base.Dates.CompoundPeriod,Base.Dates.Period},N,A<:DenseArray{T,N},I<:Tuple{Vararg{Union{Colon,Int64,Range{Int64}}}},LD}}</b>) at <a href=\"https://github.com/JuliaLang/julia/tree/ae26b25d43317d7dd3ca05f60b70677aab9c0e08/base/dates/periods.jl#L236\" target=\"_blank\">dates/periods.jl:236</a><li> +<i>{T<:Base.Dates.TimeType,P<:Union{Base.Dates.CompoundPeriod,Base.Dates.Period}}</i>(x::<b>Union{DenseArray{P<:Union{Base.Dates.CompoundPeriod,Base.Dates.Period},N},SubArray{P<:Union{Base.Dates.CompoundPeriod,Base.Dates.Period},N,A<:DenseArray{T,N},I<:Tuple{Vararg{Union{Colon,Int64,Range{Int64}}}},LD}}</b>, y::<b>T<:Base.Dates.TimeType</b>) at <a href=\"https://github.com/JuliaLang/julia/tree/ae26b25d43317d7dd3ca05f60b70677aab9c0e08/base/dates/arithmetic.jl#L83\" target=\"_blank\">dates/arithmetic.jl:83</a><li> +<i>{T<:Base.Dates.TimeType}</i>(r::<b>Range{T<:Base.Dates.TimeType}</b>, x::<b>Base.Dates.Period</b>) at <a href=\"https://github.com/JuliaLang/julia/tree/ae26b25d43317d7dd3ca05f60b70677aab9c0e08/base/dates/ranges.jl#L39\" target=\"_blank\">dates/ranges.jl:39</a><li> +<i>{T<:Number}</i>(x::<b>AbstractArray{T<:Number,N}</b>) at <a href=\"https://github.com/JuliaLang/julia/tree/ae26b25d43317d7dd3ca05f60b70677aab9c0e08/base/abstractarraymath.jl#L49\" target=\"_blank\">abstractarraymath.jl:49</a><li> +<i>{S,T}</i>(A::<b>AbstractArray{S,N}</b>, B::<b>Range{T}</b>) at <a href=\"https://github.com/JuliaLang/julia/tree/ae26b25d43317d7dd3ca05f60b70677aab9c0e08/base/arraymath.jl#L78\" target=\"_blank\">arraymath.jl:78</a><li> +<i>{S,T}</i>(A::<b>AbstractArray{S,N}</b>, B::<b>AbstractArray{T,N}</b>) at <a href=\"https://github.com/JuliaLang/julia/tree/ae26b25d43317d7dd3ca05f60b70677aab9c0e08/base/arraymath.jl#L96\" target=\"_blank\">arraymath.jl:96</a><li> +(A::<b>AbstractArray{T,N}</b>, x::<b>Number</b>) at <a href=\"https://github.com/JuliaLang/julia/tree/ae26b25d43317d7dd3ca05f60b70677aab9c0e08/base/arraymath.jl#L139\" target=\"_blank\">arraymath.jl:139</a><li> +(x::<b>Number</b>, A::<b>AbstractArray{T,N}</b>) at <a href=\"https://github.com/JuliaLang/julia/tree/ae26b25d43317d7dd3ca05f60b70677aab9c0e08/base/arraymath.jl#L140\" target=\"_blank\">arraymath.jl:140</a><li> +(x::<b>Char</b>, y::<b>Integer</b>) at <a href=\"https://github.com/JuliaLang/julia/tree/ae26b25d43317d7dd3ca05f60b70677aab9c0e08/base/char.jl#L42\" target=\"_blank\">char.jl:42</a><li> +<i>{N}</i>(index1::<b>CartesianIndex{N}</b>, index2::<b>CartesianIndex{N}</b>) at <a href=\"https://github.com/JuliaLang/julia/tree/ae26b25d43317d7dd3ca05f60b70677aab9c0e08/base/multidimensional.jl#L42\" target=\"_blank\">multidimensional.jl:42</a><li> +(J1::<b>UniformScaling{T<:Number}</b>, J2::<b>UniformScaling{T<:Number}</b>) at <a href=\"https://github.com/JuliaLang/julia/tree/ae26b25d43317d7dd3ca05f60b70677aab9c0e08/base/linalg/uniformscaling.jl#L32\" target=\"_blank\">linalg/uniformscaling.jl:32</a><li> +(J::<b>UniformScaling{T<:Number}</b>, B::<b>BitArray{2}</b>) at <a href=\"https://github.com/JuliaLang/julia/tree/ae26b25d43317d7dd3ca05f60b70677aab9c0e08/base/linalg/uniformscaling.jl#L34\" target=\"_blank\">linalg/uniformscaling.jl:34</a><li> +(J::<b>UniformScaling{T<:Number}</b>, A::<b>AbstractArray{T,2}</b>) at <a href=\"https://github.com/JuliaLang/julia/tree/ae26b25d43317d7dd3ca05f60b70677aab9c0e08/base/linalg/uniformscaling.jl#L35\" target=\"_blank\">linalg/uniformscaling.jl:35</a><li> +(J::<b>UniformScaling{T<:Number}</b>, x::<b>Number</b>) at <a href=\"https://github.com/JuliaLang/julia/tree/ae26b25d43317d7dd3ca05f60b70677aab9c0e08/base/linalg/uniformscaling.jl#L36\" target=\"_blank\">linalg/uniformscaling.jl:36</a><li> +(x::<b>Number</b>, J::<b>UniformScaling{T<:Number}</b>) at <a href=\"https://github.com/JuliaLang/julia/tree/ae26b25d43317d7dd3ca05f60b70677aab9c0e08/base/linalg/uniformscaling.jl#L37\" target=\"_blank\">linalg/uniformscaling.jl:37</a><li> +<i>{TA,TJ}</i>(A::<b>AbstractArray{TA,2}</b>, J::<b>UniformScaling{TJ}</b>) at <a href=\"https://github.com/JuliaLang/julia/tree/ae26b25d43317d7dd3ca05f60b70677aab9c0e08/base/linalg/uniformscaling.jl#L97\" target=\"_blank\">linalg/uniformscaling.jl:97</a><li> +<i>{T}</i>(a::<b>Base.Pkg.Resolve.VersionWeights.HierarchicalValue{T}</b>, b::<b>Base.Pkg.Resolve.VersionWeights.HierarchicalValue{T}</b>) at <a href=\"https://github.com/JuliaLang/julia/tree/ae26b25d43317d7dd3ca05f60b70677aab9c0e08/base/pkg/resolve/versionweight.jl#L23\" target=\"_blank\">pkg/resolve/versionweight.jl:23</a><li> +(a::<b>Base.Pkg.Resolve.VersionWeights.VWPreBuildItem</b>, b::<b>Base.Pkg.Resolve.VersionWeights.VWPreBuildItem</b>) at <a href=\"https://github.com/JuliaLang/julia/tree/ae26b25d43317d7dd3ca05f60b70677aab9c0e08/base/pkg/resolve/versionweight.jl#L85\" target=\"_blank\">pkg/resolve/versionweight.jl:85</a><li> +(a::<b>Base.Pkg.Resolve.VersionWeights.VWPreBuild</b>, b::<b>Base.Pkg.Resolve.VersionWeights.VWPreBuild</b>) at <a href=\"https://github.com/JuliaLang/julia/tree/ae26b25d43317d7dd3ca05f60b70677aab9c0e08/base/pkg/resolve/versionweight.jl#L131\" target=\"_blank\">pkg/resolve/versionweight.jl:131</a><li> +(a::<b>Base.Pkg.Resolve.VersionWeights.VersionWeight</b>, b::<b>Base.Pkg.Resolve.VersionWeights.VersionWeight</b>) at <a href=\"https://github.com/JuliaLang/julia/tree/ae26b25d43317d7dd3ca05f60b70677aab9c0e08/base/pkg/resolve/versionweight.jl#L185\" target=\"_blank\">pkg/resolve/versionweight.jl:185</a><li> +(a::<b>Base.Pkg.Resolve.MaxSum.FieldValues.FieldValue</b>, b::<b>Base.Pkg.Resolve.MaxSum.FieldValues.FieldValue</b>) at <a href=\"https://github.com/JuliaLang/julia/tree/ae26b25d43317d7dd3ca05f60b70677aab9c0e08/base/pkg/resolve/fieldvalue.jl#L44\" target=\"_blank\">pkg/resolve/fieldvalue.jl:44</a><li> +<i>{P<:Base.Dates.Period}</i>(x::<b>P<:Base.Dates.Period</b>, y::<b>P<:Base.Dates.Period</b>) at <a href=\"https://github.com/JuliaLang/julia/tree/ae26b25d43317d7dd3ca05f60b70677aab9c0e08/base/dates/periods.jl#L62\" target=\"_blank\">dates/periods.jl:62</a><li> +(x::<b>Base.Dates.Period</b>, y::<b>Base.Dates.Period</b>) at <a href=\"https://github.com/JuliaLang/julia/tree/ae26b25d43317d7dd3ca05f60b70677aab9c0e08/base/dates/periods.jl#L209\" target=\"_blank\">dates/periods.jl:209</a><li> +(x::<b>Base.Dates.CompoundPeriod</b>, y::<b>Base.Dates.Period</b>) at <a href=\"https://github.com/JuliaLang/julia/tree/ae26b25d43317d7dd3ca05f60b70677aab9c0e08/base/dates/periods.jl#L210\" target=\"_blank\">dates/periods.jl:210</a><li> +(y::<b>Base.Dates.Period</b>, x::<b>Base.Dates.CompoundPeriod</b>) at <a href=\"https://github.com/JuliaLang/julia/tree/ae26b25d43317d7dd3ca05f60b70677aab9c0e08/base/dates/periods.jl#L211\" target=\"_blank\">dates/periods.jl:211</a><li> +(x::<b>Base.Dates.CompoundPeriod</b>, y::<b>Base.Dates.CompoundPeriod</b>) at <a href=\"https://github.com/JuliaLang/julia/tree/ae26b25d43317d7dd3ca05f60b70677aab9c0e08/base/dates/periods.jl#L212\" target=\"_blank\">dates/periods.jl:212</a><li> +(x::<b>Base.Dates.CompoundPeriod</b>, y::<b>Base.Dates.TimeType</b>) at <a href=\"https://github.com/JuliaLang/julia/tree/ae26b25d43317d7dd3ca05f60b70677aab9c0e08/base/dates/periods.jl#L257\" target=\"_blank\">dates/periods.jl:257</a><li> +(y::<b>Base.Dates.Period</b>, x::<b>Base.Dates.TimeType</b>) at <a href=\"https://github.com/JuliaLang/julia/tree/ae26b25d43317d7dd3ca05f60b70677aab9c0e08/base/dates/arithmetic.jl#L66\" target=\"_blank\">dates/arithmetic.jl:66</a><li> +<i>{T<:Base.Dates.TimeType}</i>(x::<b>Base.Dates.Period</b>, r::<b>Range{T<:Base.Dates.TimeType}</b>) at <a href=\"https://github.com/JuliaLang/julia/tree/ae26b25d43317d7dd3ca05f60b70677aab9c0e08/base/dates/ranges.jl#L40\" target=\"_blank\">dates/ranges.jl:40</a><li> +(x::<b>Union{Base.Dates.CompoundPeriod,Base.Dates.Period}</b>) at <a href=\"https://github.com/JuliaLang/julia/tree/ae26b25d43317d7dd3ca05f60b70677aab9c0e08/base/dates/periods.jl#L220\" target=\"_blank\">dates/periods.jl:220</a><li> +<i>{P<:Union{Base.Dates.CompoundPeriod,Base.Dates.Period}}</i>(x::<b>Union{Base.Dates.CompoundPeriod,Base.Dates.Period}</b>, Y::<b>Union{DenseArray{P<:Union{Base.Dates.CompoundPeriod,Base.Dates.Period},N},SubArray{P<:Union{Base.Dates.CompoundPeriod,Base.Dates.Period},N,A<:DenseArray{T,N},I<:Tuple{Vararg{Union{Colon,Int64,Range{Int64}}}},LD}}</b>) at <a href=\"https://github.com/JuliaLang/julia/tree/ae26b25d43317d7dd3ca05f60b70677aab9c0e08/base/dates/periods.jl#L234\" target=\"_blank\">dates/periods.jl:234</a><li> +(dt::<b>DateTime</b>, y::<b>Base.Dates.Year</b>) at <a href=\"https://github.com/JuliaLang/julia/tree/ae26b25d43317d7dd3ca05f60b70677aab9c0e08/base/dates/arithmetic.jl#L13\" target=\"_blank\">dates/arithmetic.jl:13</a><li> +(dt::<b>Date</b>, y::<b>Base.Dates.Year</b>) at <a href=\"https://github.com/JuliaLang/julia/tree/ae26b25d43317d7dd3ca05f60b70677aab9c0e08/base/dates/arithmetic.jl#L17\" target=\"_blank\">dates/arithmetic.jl:17</a><li> +(dt::<b>DateTime</b>, z::<b>Base.Dates.Month</b>) at <a href=\"https://github.com/JuliaLang/julia/tree/ae26b25d43317d7dd3ca05f60b70677aab9c0e08/base/dates/arithmetic.jl#L37\" target=\"_blank\">dates/arithmetic.jl:37</a><li> +(dt::<b>Date</b>, z::<b>Base.Dates.Month</b>) at <a href=\"https://github.com/JuliaLang/julia/tree/ae26b25d43317d7dd3ca05f60b70677aab9c0e08/base/dates/arithmetic.jl#L43\" target=\"_blank\">dates/arithmetic.jl:43</a><li> +(x::<b>Date</b>, y::<b>Base.Dates.Week</b>) at <a href=\"https://github.com/JuliaLang/julia/tree/ae26b25d43317d7dd3ca05f60b70677aab9c0e08/base/dates/arithmetic.jl#L60\" target=\"_blank\">dates/arithmetic.jl:60</a><li> +(x::<b>Date</b>, y::<b>Base.Dates.Day</b>) at <a href=\"https://github.com/JuliaLang/julia/tree/ae26b25d43317d7dd3ca05f60b70677aab9c0e08/base/dates/arithmetic.jl#L62\" target=\"_blank\">dates/arithmetic.jl:62</a><li> +(x::<b>DateTime</b>, y::<b>Base.Dates.Period</b>) at <a href=\"https://github.com/JuliaLang/julia/tree/ae26b25d43317d7dd3ca05f60b70677aab9c0e08/base/dates/arithmetic.jl#L64\" target=\"_blank\">dates/arithmetic.jl:64</a><li> +(x::<b>Base.Dates.TimeType</b>) at <a href=\"https://github.com/JuliaLang/julia/tree/ae26b25d43317d7dd3ca05f60b70677aab9c0e08/base/dates/arithmetic.jl#L8\" target=\"_blank\">dates/arithmetic.jl:8</a><li> +(a::<b>Base.Dates.TimeType</b>, b::<b>Base.Dates.Period</b>, c::<b>Base.Dates.Period</b>) at <a href=\"https://github.com/JuliaLang/julia/tree/ae26b25d43317d7dd3ca05f60b70677aab9c0e08/base/dates/periods.jl#L246\" target=\"_blank\">dates/periods.jl:246</a><li> +(a::<b>Base.Dates.TimeType</b>, b::<b>Base.Dates.Period</b>, c::<b>Base.Dates.Period</b>, d::<b>Base.Dates.Period...</b>) at <a href=\"https://github.com/JuliaLang/julia/tree/ae26b25d43317d7dd3ca05f60b70677aab9c0e08/base/dates/periods.jl#L248\" target=\"_blank\">dates/periods.jl:248</a><li> +(x::<b>Base.Dates.TimeType</b>, y::<b>Base.Dates.CompoundPeriod</b>) at <a href=\"https://github.com/JuliaLang/julia/tree/ae26b25d43317d7dd3ca05f60b70677aab9c0e08/base/dates/periods.jl#L252\" target=\"_blank\">dates/periods.jl:252</a><li> +(x::<b>Base.Dates.Instant</b>) at <a href=\"https://github.com/JuliaLang/julia/tree/ae26b25d43317d7dd3ca05f60b70677aab9c0e08/base/dates/arithmetic.jl#L4\" target=\"_blank\">dates/arithmetic.jl:4</a><li> +<i>{T<:Base.Dates.TimeType}</i>(x::<b>AbstractArray{T<:Base.Dates.TimeType,N}</b>, y::<b>Union{Base.Dates.CompoundPeriod,Base.Dates.Period}</b>) at <a href=\"https://github.com/JuliaLang/julia/tree/ae26b25d43317d7dd3ca05f60b70677aab9c0e08/base/dates/arithmetic.jl#L76\" target=\"_blank\">dates/arithmetic.jl:76</a><li> +<i>{T<:Base.Dates.TimeType}</i>(y::<b>Union{Base.Dates.CompoundPeriod,Base.Dates.Period}</b>, x::<b>AbstractArray{T<:Base.Dates.TimeType,N}</b>) at <a href=\"https://github.com/JuliaLang/julia/tree/ae26b25d43317d7dd3ca05f60b70677aab9c0e08/base/dates/arithmetic.jl#L77\" target=\"_blank\">dates/arithmetic.jl:77</a><li> +<i>{P<:Union{Base.Dates.CompoundPeriod,Base.Dates.Period}}</i>(y::<b>Base.Dates.TimeType</b>, x::<b>Union{DenseArray{P<:Union{Base.Dates.CompoundPeriod,Base.Dates.Period},N},SubArray{P<:Union{Base.Dates.CompoundPeriod,Base.Dates.Period},N,A<:DenseArray{T,N},I<:Tuple{Vararg{Union{Colon,Int64,Range{Int64}}}},LD}}</b>) at <a href=\"https://github.com/JuliaLang/julia/tree/ae26b25d43317d7dd3ca05f60b70677aab9c0e08/base/dates/arithmetic.jl#L84\" target=\"_blank\">dates/arithmetic.jl:84</a><li> +(a, b, c, xs...) at <a href=\"https://github.com/JuliaLang/julia/tree/ae26b25d43317d7dd3ca05f60b70677aab9c0e08/base/operators.jl#L103\" target=\"_blank\">operators.jl:103</a></ul>"
      ],
      "text/plain": [
       "# 171 methods for generic function \"+\":\n",
       "+(x::Bool) at bool.jl:33\n",
       "+(x::Bool, y::Bool) at bool.jl:36\n",
       "+(y::AbstractFloat, x::Bool) at bool.jl:46\n",
       "+(x::Int64, y::Int64) at int.jl:8\n",
       "+(x::Int8, y::Int8) at int.jl:16\n",
       "+(x::UInt8, y::UInt8) at int.jl:16\n",
       "+(x::Int16, y::Int16) at int.jl:16\n",
       "+(x::UInt16, y::UInt16) at int.jl:16\n",
       "+(x::Int32, y::Int32) at int.jl:16\n",
       "+(x::UInt32, y::UInt32) at int.jl:16\n",
       "+(x::UInt64, y::UInt64) at int.jl:16\n",
       "+(x::Int128, y::Int128) at int.jl:16\n",
       "+(x::UInt128, y::UInt128) at int.jl:16\n",
       "+(x::Integer, y::Ptr{T}) at pointer.jl:77\n",
       "+(x::Float32, y::Float32) at float.jl:207\n",
       "+(x::Float64, y::Float64) at float.jl:208\n",
       "+(z::Complex{T<:Real}, w::Complex{T<:Real}) at complex.jl:111\n",
       "+(x::Bool, z::Complex{Bool}) at complex.jl:118\n",
       "+(z::Complex{Bool}, x::Bool) at complex.jl:119\n",
       "+(x::Bool, z::Complex{T<:Real}) at complex.jl:125\n",
       "+(z::Complex{T<:Real}, x::Bool) at complex.jl:126\n",
       "+(x::Real, z::Complex{Bool}) at complex.jl:132\n",
       "+(z::Complex{Bool}, x::Real) at complex.jl:133\n",
       "+(x::Real, z::Complex{T<:Real}) at complex.jl:144\n",
       "+(z::Complex{T<:Real}, x::Real) at complex.jl:145\n",
       "+(x::Rational{T<:Integer}, y::Rational{T<:Integer}) at rational.jl:179\n",
       "+(x::Bool, A::AbstractArray{Bool,N}) at arraymath.jl:136\n",
       "+(x::Integer, y::Char) at char.jl:43\n",
       "+(a::Float16, b::Float16) at float16.jl:136\n",
       "+(x::BigInt, y::BigInt) at gmp.jl:256\n",
       "+(a::BigInt, b::BigInt, c::BigInt) at gmp.jl:279\n",
       "+(a::BigInt, b::BigInt, c::BigInt, d::BigInt) at gmp.jl:285\n",
       "+(a::BigInt, b::BigInt, c::BigInt, d::BigInt, e::BigInt) at gmp.jl:292\n",
       "+(x::BigInt, c::Union{UInt16,UInt32,UInt64,UInt8}) at gmp.jl:304\n",
       "+(c::Union{UInt16,UInt32,UInt64,UInt8}, x::BigInt) at gmp.jl:308\n",
       "+(x::BigInt, c::Union{Int16,Int32,Int64,Int8}) at gmp.jl:320\n",
       "+(c::Union{Int16,Int32,Int64,Int8}, x::BigInt) at gmp.jl:321\n",
       "+(x::BigFloat, y::BigFloat) at mpfr.jl:208\n",
       "+(x::BigFloat, c::Union{UInt16,UInt32,UInt64,UInt8}) at mpfr.jl:215\n",
       "+(c::Union{UInt16,UInt32,UInt64,UInt8}, x::BigFloat) at mpfr.jl:219\n",
       "+(x::BigFloat, c::Union{Int16,Int32,Int64,Int8}) at mpfr.jl:223\n",
       "+(c::Union{Int16,Int32,Int64,Int8}, x::BigFloat) at mpfr.jl:227\n",
       "+(x::BigFloat, c::Union{Float16,Float32,Float64}) at mpfr.jl:231\n",
       "+(c::Union{Float16,Float32,Float64}, x::BigFloat) at mpfr.jl:235\n",
       "+(x::BigFloat, c::BigInt) at mpfr.jl:239\n",
       "+(c::BigInt, x::BigFloat) at mpfr.jl:243\n",
       "+(a::BigFloat, b::BigFloat, c::BigFloat) at mpfr.jl:379\n",
       "+(a::BigFloat, b::BigFloat, c::BigFloat, d::BigFloat) at mpfr.jl:385\n",
       "+(a::BigFloat, b::BigFloat, c::BigFloat, d::BigFloat, e::BigFloat) at mpfr.jl:392\n",
       "+(x::Irrational{sym}, y::Irrational{sym}) at irrationals.jl:72\n",
       "+(x::Number) at operators.jl:73\n",
       "+{T<:Number}(x::T<:Number, y::T<:Number) at promotion.jl:211\n",
       "+{T<:AbstractFloat}(x::Bool, y::T<:AbstractFloat) at bool.jl:43\n",
       "+(x::Number, y::Number) at promotion.jl:167\n",
       "+(r1::OrdinalRange{T,S}, r2::OrdinalRange{T,S}) at operators.jl:330\n",
       "+{T<:AbstractFloat}(r1::FloatRange{T<:AbstractFloat}, r2::FloatRange{T<:AbstractFloat}) at operators.jl:337\n",
       "+{T<:AbstractFloat}(r1::LinSpace{T<:AbstractFloat}, r2::LinSpace{T<:AbstractFloat}) at operators.jl:356\n",
       "+(r1::Union{FloatRange{T<:AbstractFloat},LinSpace{T<:AbstractFloat},OrdinalRange{T,S}}, r2::Union{FloatRange{T<:AbstractFloat},LinSpace{T<:AbstractFloat},OrdinalRange{T,S}}) at operators.jl:369\n",
       "+(x::Ptr{T}, y::Integer) at pointer.jl:75\n",
       "+{S,T}(A::Range{S}, B::Range{T}) at arraymath.jl:69\n",
       "+{S,T}(A::Range{S}, B::AbstractArray{T,N}) at arraymath.jl:87\n",
       "+(A::BitArray{N}, B::BitArray{N}) at bitarray.jl:859\n",
       "+{T}(B::BitArray{2}, J::UniformScaling{T}) at linalg/uniformscaling.jl:33\n",
       "+(A::Array{T,2}, B::Diagonal{T}) at linalg/special.jl:122\n",
       "+(A::Array{T,2}, B::Bidiagonal{T}) at linalg/special.jl:122\n",
       "+(A::Array{T,2}, B::Tridiagonal{T}) at linalg/special.jl:122\n",
       "+(A::Array{T,2}, B::SymTridiagonal{T}) at linalg/special.jl:131\n",
       "+(A::Array{T,2}, B::Base.LinAlg.AbstractTriangular{T,S<:AbstractArray{T,2}}) at linalg/special.jl:159\n",
       "+(A::Array{T,N}, B::SparseMatrixCSC{Tv,Ti<:Integer}) at sparse/sparsematrix.jl:1019\n",
       "+{P<:Union{Base.Dates.CompoundPeriod,Base.Dates.Period}}(x::Union{DenseArray{P<:Union{Base.Dates.CompoundPeriod,Base.Dates.Period},N},SubArray{P<:Union{Base.Dates.CompoundPeriod,Base.Dates.Period},N,A<:DenseArray{T,N},I<:Tuple{Vararg{Union{Colon,Int64,Range{Int64}}}},LD}}) at dates/periods.jl:221\n",
       "+(A::AbstractArray{Bool,N}, x::Bool) at arraymath.jl:135\n",
       "+(A::Union{DenseArray{Bool,N},SubArray{Bool,N,A<:DenseArray{T,N},I<:Tuple{Vararg{Union{Colon,Int64,Range{Int64}}}},LD}}, B::Union{DenseArray{Bool,N},SubArray{Bool,N,A<:DenseArray{T,N},I<:Tuple{Vararg{Union{Colon,Int64,Range{Int64}}}},LD}}) at arraymath.jl:166\n",
       "+(A::SymTridiagonal{T}, B::SymTridiagonal{T}) at linalg/tridiag.jl:84\n",
       "+(A::Tridiagonal{T}, B::Tridiagonal{T}) at linalg/tridiag.jl:404\n",
       "+(A::UpperTriangular{T,S<:AbstractArray{T,2}}, B::UpperTriangular{T,S<:AbstractArray{T,2}}) at linalg/triangular.jl:347\n",
       "+(A::LowerTriangular{T,S<:AbstractArray{T,2}}, B::LowerTriangular{T,S<:AbstractArray{T,2}}) at linalg/triangular.jl:348\n",
       "+(A::UpperTriangular{T,S<:AbstractArray{T,2}}, B::Base.LinAlg.UnitUpperTriangular{T,S<:AbstractArray{T,2}}) at linalg/triangular.jl:349\n",
       "+(A::LowerTriangular{T,S<:AbstractArray{T,2}}, B::Base.LinAlg.UnitLowerTriangular{T,S<:AbstractArray{T,2}}) at linalg/triangular.jl:350\n",
       "+(A::Base.LinAlg.UnitUpperTriangular{T,S<:AbstractArray{T,2}}, B::UpperTriangular{T,S<:AbstractArray{T,2}}) at linalg/triangular.jl:351\n",
       "+(A::Base.LinAlg.UnitLowerTriangular{T,S<:AbstractArray{T,2}}, B::LowerTriangular{T,S<:AbstractArray{T,2}}) at linalg/triangular.jl:352\n",
       "+(A::Base.LinAlg.UnitUpperTriangular{T,S<:AbstractArray{T,2}}, B::Base.LinAlg.UnitUpperTriangular{T,S<:AbstractArray{T,2}}) at linalg/triangular.jl:353\n",
       "+(A::Base.LinAlg.UnitLowerTriangular{T,S<:AbstractArray{T,2}}, B::Base.LinAlg.UnitLowerTriangular{T,S<:AbstractArray{T,2}}) at linalg/triangular.jl:354\n",
       "+(A::Base.LinAlg.AbstractTriangular{T,S<:AbstractArray{T,2}}, B::Base.LinAlg.AbstractTriangular{T,S<:AbstractArray{T,2}}) at linalg/triangular.jl:355\n",
       "+(Da::Diagonal{T}, Db::Diagonal{T}) at linalg/diagonal.jl:86\n",
       "+(A::Bidiagonal{T}, B::Bidiagonal{T}) at linalg/bidiag.jl:176\n",
       "+(UL::UpperTriangular{T,S<:AbstractArray{T,2}}, J::UniformScaling{T<:Number}) at linalg/uniformscaling.jl:50\n",
       "+(UL::Base.LinAlg.UnitUpperTriangular{T,S<:AbstractArray{T,2}}, J::UniformScaling{T<:Number}) at linalg/uniformscaling.jl:53\n",
       "+(UL::LowerTriangular{T,S<:AbstractArray{T,2}}, J::UniformScaling{T<:Number}) at linalg/uniformscaling.jl:50\n",
       "+(UL::Base.LinAlg.UnitLowerTriangular{T,S<:AbstractArray{T,2}}, J::UniformScaling{T<:Number}) at linalg/uniformscaling.jl:53\n",
       "+(A::Diagonal{T}, B::Bidiagonal{T}) at linalg/special.jl:121\n",
       "+(A::Bidiagonal{T}, B::Diagonal{T}) at linalg/special.jl:122\n",
       "+(A::Diagonal{T}, B::Tridiagonal{T}) at linalg/special.jl:121\n",
       "+(A::Tridiagonal{T}, B::Diagonal{T}) at linalg/special.jl:122\n",
       "+(A::Diagonal{T}, B::Array{T,2}) at linalg/special.jl:121\n",
       "+(A::Bidiagonal{T}, B::Tridiagonal{T}) at linalg/special.jl:121\n",
       "+(A::Tridiagonal{T}, B::Bidiagonal{T}) at linalg/special.jl:122\n",
       "+(A::Bidiagonal{T}, B::Array{T,2}) at linalg/special.jl:121\n",
       "+(A::Tridiagonal{T}, B::Array{T,2}) at linalg/special.jl:121\n",
       "+(A::SymTridiagonal{T}, B::Tridiagonal{T}) at linalg/special.jl:130\n",
       "+(A::Tridiagonal{T}, B::SymTridiagonal{T}) at linalg/special.jl:131\n",
       "+(A::SymTridiagonal{T}, B::Array{T,2}) at linalg/special.jl:130\n",
       "+(A::Diagonal{T}, B::SymTridiagonal{T}) at linalg/special.jl:139\n",
       "+(A::SymTridiagonal{T}, B::Diagonal{T}) at linalg/special.jl:140\n",
       "+(A::Bidiagonal{T}, B::SymTridiagonal{T}) at linalg/special.jl:139\n",
       "+(A::SymTridiagonal{T}, B::Bidiagonal{T}) at linalg/special.jl:140\n",
       "+(A::Diagonal{T}, B::UpperTriangular{T,S<:AbstractArray{T,2}}) at linalg/special.jl:151\n",
       "+(A::UpperTriangular{T,S<:AbstractArray{T,2}}, B::Diagonal{T}) at linalg/special.jl:152\n",
       "+(A::Diagonal{T}, B::Base.LinAlg.UnitUpperTriangular{T,S<:AbstractArray{T,2}}) at linalg/special.jl:151\n",
       "+(A::Base.LinAlg.UnitUpperTriangular{T,S<:AbstractArray{T,2}}, B::Diagonal{T}) at linalg/special.jl:152\n",
       "+(A::Diagonal{T}, B::LowerTriangular{T,S<:AbstractArray{T,2}}) at linalg/special.jl:151\n",
       "+(A::LowerTriangular{T,S<:AbstractArray{T,2}}, B::Diagonal{T}) at linalg/special.jl:152\n",
       "+(A::Diagonal{T}, B::Base.LinAlg.UnitLowerTriangular{T,S<:AbstractArray{T,2}}) at linalg/special.jl:151\n",
       "+(A::Base.LinAlg.UnitLowerTriangular{T,S<:AbstractArray{T,2}}, B::Diagonal{T}) at linalg/special.jl:152\n",
       "+(A::Base.LinAlg.AbstractTriangular{T,S<:AbstractArray{T,2}}, B::SymTridiagonal{T}) at linalg/special.jl:158\n",
       "+(A::SymTridiagonal{T}, B::Base.LinAlg.AbstractTriangular{T,S<:AbstractArray{T,2}}) at linalg/special.jl:159\n",
       "+(A::Base.LinAlg.AbstractTriangular{T,S<:AbstractArray{T,2}}, B::Tridiagonal{T}) at linalg/special.jl:158\n",
       "+(A::Tridiagonal{T}, B::Base.LinAlg.AbstractTriangular{T,S<:AbstractArray{T,2}}) at linalg/special.jl:159\n",
       "+(A::Base.LinAlg.AbstractTriangular{T,S<:AbstractArray{T,2}}, B::Bidiagonal{T}) at linalg/special.jl:158\n",
       "+(A::Bidiagonal{T}, B::Base.LinAlg.AbstractTriangular{T,S<:AbstractArray{T,2}}) at linalg/special.jl:159\n",
       "+(A::Base.LinAlg.AbstractTriangular{T,S<:AbstractArray{T,2}}, B::Array{T,2}) at linalg/special.jl:158\n",
       "+{Tv1,Ti1,Tv2,Ti2}(A_1::SparseMatrixCSC{Tv1,Ti1}, A_2::SparseMatrixCSC{Tv2,Ti2}) at sparse/sparsematrix.jl:1005\n",
       "+(A::SparseMatrixCSC{Tv,Ti<:Integer}, B::Array{T,N}) at sparse/sparsematrix.jl:1017\n",
       "+(A::SparseMatrixCSC{Tv,Ti<:Integer}, J::UniformScaling{T<:Number}) at sparse/sparsematrix.jl:3030\n",
       "+{P<:Union{Base.Dates.CompoundPeriod,Base.Dates.Period}}(Y::Union{DenseArray{P<:Union{Base.Dates.CompoundPeriod,Base.Dates.Period},N},SubArray{P<:Union{Base.Dates.CompoundPeriod,Base.Dates.Period},N,A<:DenseArray{T,N},I<:Tuple{Vararg{Union{Colon,Int64,Range{Int64}}}},LD}}, x::Union{Base.Dates.CompoundPeriod,Base.Dates.Period}) at dates/periods.jl:235\n",
       "+{P<:Union{Base.Dates.CompoundPeriod,Base.Dates.Period},Q<:Union{Base.Dates.CompoundPeriod,Base.Dates.Period}}(X::Union{DenseArray{P<:Union{Base.Dates.CompoundPeriod,Base.Dates.Period},N},SubArray{P<:Union{Base.Dates.CompoundPeriod,Base.Dates.Period},N,A<:DenseArray{T,N},I<:Tuple{Vararg{Union{Colon,Int64,Range{Int64}}}},LD}}, Y::Union{DenseArray{Q<:Union{Base.Dates.CompoundPeriod,Base.Dates.Period},N},SubArray{Q<:Union{Base.Dates.CompoundPeriod,Base.Dates.Period},N,A<:DenseArray{T,N},I<:Tuple{Vararg{Union{Colon,Int64,Range{Int64}}}},LD}}) at dates/periods.jl:236\n",
       "+{T<:Base.Dates.TimeType,P<:Union{Base.Dates.CompoundPeriod,Base.Dates.Period}}(x::Union{DenseArray{P<:Union{Base.Dates.CompoundPeriod,Base.Dates.Period},N},SubArray{P<:Union{Base.Dates.CompoundPeriod,Base.Dates.Period},N,A<:DenseArray{T,N},I<:Tuple{Vararg{Union{Colon,Int64,Range{Int64}}}},LD}}, y::T<:Base.Dates.TimeType) at dates/arithmetic.jl:83\n",
       "+{T<:Base.Dates.TimeType}(r::Range{T<:Base.Dates.TimeType}, x::Base.Dates.Period) at dates/ranges.jl:39\n",
       "+{T<:Number}(x::AbstractArray{T<:Number,N}) at abstractarraymath.jl:49\n",
       "+{S,T}(A::AbstractArray{S,N}, B::Range{T}) at arraymath.jl:78\n",
       "+{S,T}(A::AbstractArray{S,N}, B::AbstractArray{T,N}) at arraymath.jl:96\n",
       "+(A::AbstractArray{T,N}, x::Number) at arraymath.jl:139\n",
       "+(x::Number, A::AbstractArray{T,N}) at arraymath.jl:140\n",
       "+(x::Char, y::Integer) at char.jl:42\n",
       "+{N}(index1::CartesianIndex{N}, index2::CartesianIndex{N}) at multidimensional.jl:42\n",
       "+(J1::UniformScaling{T<:Number}, J2::UniformScaling{T<:Number}) at linalg/uniformscaling.jl:32\n",
       "+(J::UniformScaling{T<:Number}, B::BitArray{2}) at linalg/uniformscaling.jl:34\n",
       "+(J::UniformScaling{T<:Number}, A::AbstractArray{T,2}) at linalg/uniformscaling.jl:35\n",
       "+(J::UniformScaling{T<:Number}, x::Number) at linalg/uniformscaling.jl:36\n",
       "+(x::Number, J::UniformScaling{T<:Number}) at linalg/uniformscaling.jl:37\n",
       "+{TA,TJ}(A::AbstractArray{TA,2}, J::UniformScaling{TJ}) at linalg/uniformscaling.jl:97\n",
       "+{T}(a::Base.Pkg.Resolve.VersionWeights.HierarchicalValue{T}, b::Base.Pkg.Resolve.VersionWeights.HierarchicalValue{T}) at pkg/resolve/versionweight.jl:23\n",
       "+(a::Base.Pkg.Resolve.VersionWeights.VWPreBuildItem, b::Base.Pkg.Resolve.VersionWeights.VWPreBuildItem) at pkg/resolve/versionweight.jl:85\n",
       "+(a::Base.Pkg.Resolve.VersionWeights.VWPreBuild, b::Base.Pkg.Resolve.VersionWeights.VWPreBuild) at pkg/resolve/versionweight.jl:131\n",
       "+(a::Base.Pkg.Resolve.VersionWeights.VersionWeight, b::Base.Pkg.Resolve.VersionWeights.VersionWeight) at pkg/resolve/versionweight.jl:185\n",
       "+(a::Base.Pkg.Resolve.MaxSum.FieldValues.FieldValue, b::Base.Pkg.Resolve.MaxSum.FieldValues.FieldValue) at pkg/resolve/fieldvalue.jl:44\n",
       "+{P<:Base.Dates.Period}(x::P<:Base.Dates.Period, y::P<:Base.Dates.Period) at dates/periods.jl:62\n",
       "+(x::Base.Dates.Period, y::Base.Dates.Period) at dates/periods.jl:209\n",
       "+(x::Base.Dates.CompoundPeriod, y::Base.Dates.Period) at dates/periods.jl:210\n",
       "+(y::Base.Dates.Period, x::Base.Dates.CompoundPeriod) at dates/periods.jl:211\n",
       "+(x::Base.Dates.CompoundPeriod, y::Base.Dates.CompoundPeriod) at dates/periods.jl:212\n",
       "+(x::Base.Dates.CompoundPeriod, y::Base.Dates.TimeType) at dates/periods.jl:257\n",
       "+(y::Base.Dates.Period, x::Base.Dates.TimeType) at dates/arithmetic.jl:66\n",
       "+{T<:Base.Dates.TimeType}(x::Base.Dates.Period, r::Range{T<:Base.Dates.TimeType}) at dates/ranges.jl:40\n",
       "+(x::Union{Base.Dates.CompoundPeriod,Base.Dates.Period}) at dates/periods.jl:220\n",
       "+{P<:Union{Base.Dates.CompoundPeriod,Base.Dates.Period}}(x::Union{Base.Dates.CompoundPeriod,Base.Dates.Period}, Y::Union{DenseArray{P<:Union{Base.Dates.CompoundPeriod,Base.Dates.Period},N},SubArray{P<:Union{Base.Dates.CompoundPeriod,Base.Dates.Period},N,A<:DenseArray{T,N},I<:Tuple{Vararg{Union{Colon,Int64,Range{Int64}}}},LD}}) at dates/periods.jl:234\n",
       "+(dt::DateTime, y::Base.Dates.Year) at dates/arithmetic.jl:13\n",
       "+(dt::Date, y::Base.Dates.Year) at dates/arithmetic.jl:17\n",
       "+(dt::DateTime, z::Base.Dates.Month) at dates/arithmetic.jl:37\n",
       "+(dt::Date, z::Base.Dates.Month) at dates/arithmetic.jl:43\n",
       "+(x::Date, y::Base.Dates.Week) at dates/arithmetic.jl:60\n",
       "+(x::Date, y::Base.Dates.Day) at dates/arithmetic.jl:62\n",
       "+(x::DateTime, y::Base.Dates.Period) at dates/arithmetic.jl:64\n",
       "+(x::Base.Dates.TimeType) at dates/arithmetic.jl:8\n",
       "+(a::Base.Dates.TimeType, b::Base.Dates.Period, c::Base.Dates.Period) at dates/periods.jl:246\n",
       "+(a::Base.Dates.TimeType, b::Base.Dates.Period, c::Base.Dates.Period, d::Base.Dates.Period...) at dates/periods.jl:248\n",
       "+(x::Base.Dates.TimeType, y::Base.Dates.CompoundPeriod) at dates/periods.jl:252\n",
       "+(x::Base.Dates.Instant) at dates/arithmetic.jl:4\n",
       "+{T<:Base.Dates.TimeType}(x::AbstractArray{T<:Base.Dates.TimeType,N}, y::Union{Base.Dates.CompoundPeriod,Base.Dates.Period}) at dates/arithmetic.jl:76\n",
       "+{T<:Base.Dates.TimeType}(y::Union{Base.Dates.CompoundPeriod,Base.Dates.Period}, x::AbstractArray{T<:Base.Dates.TimeType,N}) at dates/arithmetic.jl:77\n",
       "+{P<:Union{Base.Dates.CompoundPeriod,Base.Dates.Period}}(y::Base.Dates.TimeType, x::Union{DenseArray{P<:Union{Base.Dates.CompoundPeriod,Base.Dates.Period},N},SubArray{P<:Union{Base.Dates.CompoundPeriod,Base.Dates.Period},N,A<:DenseArray{T,N},I<:Tuple{Vararg{Union{Colon,Int64,Range{Int64}}}},LD}}) at dates/arithmetic.jl:84\n",
       "+(a, b, c, xs...) at operators.jl:103"
      ]
     },
     "execution_count": 35,
     "metadata": {},
     "output_type": "execute_result"
    }
   ],
   "source": [
    "#Para entender el despacho multiple en Julia, observemos el operador +\n",
    "#Si llamamos a la funcion methods() sobre +, podemos ver todas las definiciones de +\n",
    "methods(+)"
   ]
  },
  {
   "cell_type": "code",
   "execution_count": 36,
   "metadata": {},
   "outputs": [],
   "source": [
    "#Podemos definir mas metodos. Para esto primero tenemos que importar + de Base\n",
    "import Base: +"
   ]
  },
  {
   "cell_type": "code",
   "execution_count": 37,
   "metadata": {},
   "outputs": [
    {
     "name": "stderr",
     "output_type": "stream",
     "text": [
      "WARNING: Base.String is deprecated, use AbstractString instead.\n",
      "  likely near In[37]:2\n",
      "WARNING: Base.String is deprecated, use AbstractString instead.\n",
      "  likely near In[37]:2\n"
     ]
    },
    {
     "data": {
      "text/plain": [
       "+ (generic function with 172 methods)"
      ]
     },
     "execution_count": 37,
     "metadata": {},
     "output_type": "execute_result"
    }
   ],
   "source": [
    "#Por ejemplo si queremos concatenar elementos con +. Sin extender el metodo, no funciona. (No esta entre esos 180 anteriores)\n",
    "+(x::String, y::String) = string(x, y)"
   ]
  },
  {
   "cell_type": "code",
   "execution_count": 38,
   "metadata": {},
   "outputs": [
    {
     "data": {
      "text/plain": [
       "\"Hello world!\""
      ]
     },
     "execution_count": 38,
     "metadata": {},
     "output_type": "execute_result"
    }
   ],
   "source": [
    "\"Hello\" + \" world!\""
   ]
  },
  {
   "cell_type": "code",
   "execution_count": 39,
   "metadata": {},
   "outputs": [
    {
     "data": {
      "text/plain": [
       "foo (generic function with 4 methods)"
      ]
     },
     "execution_count": 39,
     "metadata": {},
     "output_type": "execute_result"
    }
   ],
   "source": [
    "#Un ejemplo mas complejo\n",
    "foo(x, y) = println(\"duck-typed foo!\")\n",
    "foo(x::Int, y::Float64) = println(\"foo con entero y flotante!\")\n",
    "foo(x::Float64, y::Float64) = println(\"foo con dos flotantes!\")\n",
    "foo(x::Int, y::Int) = println(\"foo con dos enteros\") "
   ]
  },
  {
   "cell_type": "code",
   "execution_count": 40,
   "metadata": {},
   "outputs": [
    {
     "name": "stdout",
     "output_type": "stream",
     "text": [
      "foo con dos enteros\n"
     ]
    }
   ],
   "source": [
    "foo(1, 1)"
   ]
  },
  {
   "cell_type": "code",
   "execution_count": 41,
   "metadata": {},
   "outputs": [
    {
     "name": "stdout",
     "output_type": "stream",
     "text": [
      "foo con dos flotantes!\n"
     ]
    }
   ],
   "source": [
    "foo(1. , 1.)"
   ]
  },
  {
   "cell_type": "code",
   "execution_count": 42,
   "metadata": {},
   "outputs": [
    {
     "name": "stdout",
     "output_type": "stream",
     "text": [
      "foo con entero y flotante!\n"
     ]
    }
   ],
   "source": [
    "foo(1, 1.0)"
   ]
  },
  {
   "cell_type": "code",
   "execution_count": 43,
   "metadata": {},
   "outputs": [
    {
     "name": "stdout",
     "output_type": "stream",
     "text": [
      "duck-typed foo!\n"
     ]
    }
   ],
   "source": [
    "foo(true, false)"
   ]
  },
  {
   "cell_type": "markdown",
   "metadata": {},
   "source": [
    "## Paradigmas que soporta\n",
    "### Funcional"
   ]
  },
  {
   "cell_type": "code",
   "execution_count": 44,
   "metadata": {},
   "outputs": [
    {
     "data": {
      "text/plain": [
       "5-element Array{Int64,1}:\n",
       "   1\n",
       "   8\n",
       "  27\n",
       "  64\n",
       " 125"
      ]
     },
     "execution_count": 44,
     "metadata": {},
     "output_type": "execute_result"
    }
   ],
   "source": [
    "map(x -> x^3, (1:5))"
   ]
  },
  {
   "cell_type": "code",
   "execution_count": 45,
   "metadata": {},
   "outputs": [
    {
     "data": {
      "text/plain": [
       "15-element Array{Int64,1}:\n",
       "  2\n",
       "  3\n",
       "  5\n",
       "  7\n",
       " 11\n",
       " 13\n",
       " 17\n",
       " 19\n",
       " 23\n",
       " 29\n",
       " 31\n",
       " 37\n",
       " 41\n",
       " 43\n",
       " 47"
      ]
     },
     "execution_count": 45,
     "metadata": {},
     "output_type": "execute_result"
    }
   ],
   "source": [
    "filter(isprime, (1:50))"
   ]
  },
  {
   "cell_type": "code",
   "execution_count": 46,
   "metadata": {},
   "outputs": [
    {
     "ename": "LoadError",
     "evalue": "syntax: extra token \"3\" after end of expression",
     "output_type": "error",
     "traceback": [
      "syntax: extra token \"3\" after end of expression",
      ""
     ]
    }
   ],
   "source": [
    "# dejo acá abajo la implementación de MergeSort que puede servirnos pasarla a Julia para comparar con OZ\n",
    "PROBLEMA 3 MERGESORT\n",
    "local SplitX MergeX MergeSortX L1 L2 in\n",
    "   fun {MergeX L1 L2}\n",
    "      case L1#L2 of\n",
    "     nil#L2 then L2\n",
    "      [] L1#nil then L1\n",
    "      [] (X|Xr)# (Y|Yr) then\n",
    "     if X<Y then X|{MergeX Xr L2}\n",
    "     else\n",
    "        Y|{MergeX L1 Yr}\n",
    "     end\n",
    "      end\n",
    "   end\n",
    "   proc {SplitX L R1 R2}\n",
    "      case L of\n",
    "     X|Y|Ls then\n",
    "     local Xs Ys in\n",
    "        R1 = X|Xs\n",
    "        R2 = Y|Ys\n",
    "        {SplitX Ls Xs Ys}\n",
    "     end\n",
    "      []\n",
    "     X then R1=L R2=nil\n",
    "      []\n",
    "     nil then R1=nil R2=nil\n",
    "      end\n",
    "   end\n",
    "   fun {MergeSortX L}\n",
    "      case L of nil then nil\n",
    "      [] [X] then L\n",
    "      else\n",
    "     local Xs Ys in\n",
    "        {SplitX L Xs Ys}\n",
    "        {MergeX {MergeSortX Xs} {MergeSortX Ys}}\n",
    "     end\n",
    "      end\n",
    "   end\n",
    "   L1 = [10 5 30 33 3 54 40 022 5054 200 1000 51]\n",
    "   L2 = {MergeSortX L1}\n",
    "   {Browse L2}\n",
    "end\n"
   ]
  },
  {
   "cell_type": "markdown",
   "metadata": {},
   "source": [
    "### Orientado a objetos\n"
   ]
  },
  {
   "cell_type": "code",
   "execution_count": 47,
   "metadata": {},
   "outputs": [],
   "source": [
    "type Tigre\n",
    "  largo_de_cola::Float64\n",
    "  color_de_pelaje\n",
    "end"
   ]
  },
  {
   "cell_type": "code",
   "execution_count": 48,
   "metadata": {},
   "outputs": [],
   "source": [
    "abstract Felino # Declaramos una clase abstracta sin comportamiento"
   ]
  },
  {
   "cell_type": "code",
   "execution_count": 49,
   "metadata": {},
   "outputs": [],
   "source": [
    "type Pantera <: Felino # Panther is also a subtype of Cat\n",
    "    color_de_ojos\n",
    "    color_de_pelaje\n",
    "  Pantera() = new(\"verde\", \"negro\")\n",
    "end"
   ]
  },
  {
   "cell_type": "code",
   "execution_count": 50,
   "metadata": {},
   "outputs": [],
   "source": [
    "type Leon <: Felino # Lion is a subtype of Cat\n",
    "  color_de_melena\n",
    "  roar::AbstractString\n",
    "end"
   ]
  },
  {
   "cell_type": "code",
   "execution_count": 51,
   "metadata": {},
   "outputs": [
    {
     "data": {
      "text/plain": [
       "Tigre(3.5,\"naranja\")"
      ]
     },
     "execution_count": 51,
     "metadata": {},
     "output_type": "execute_result"
    }
   ],
   "source": [
    "tigger = Tigre(3.5,\"naranja\")"
   ]
  },
  {
   "cell_type": "code",
   "execution_count": 52,
   "metadata": {},
   "outputs": [
    {
     "data": {
      "text/plain": [
       "meow (generic function with 3 methods)"
      ]
     },
     "execution_count": 52,
     "metadata": {},
     "output_type": "execute_result"
    }
   ],
   "source": [
    "function meow(animal::Leon)\n",
    "  animal.roar\n",
    "end\n",
    "\n",
    "function meow(animal::Pantera)\n",
    "  \"grrr\"\n",
    "end\n",
    "\n",
    "function meow(animal::Tigre)\n",
    "  \"rawwwr\"\n",
    "end"
   ]
  },
  {
   "cell_type": "code",
   "execution_count": 53,
   "metadata": {
    "scrolled": true
   },
   "outputs": [
    {
     "data": {
      "text/plain": [
       "\"rawwwr\""
      ]
     },
     "execution_count": 53,
     "metadata": {},
     "output_type": "execute_result"
    }
   ],
   "source": [
    "meow(tigger)"
   ]
  },
  {
   "cell_type": "code",
   "execution_count": 54,
   "metadata": {},
   "outputs": [
    {
     "data": {
      "text/plain": [
       "\"ROAAR\""
      ]
     },
     "execution_count": 54,
     "metadata": {},
     "output_type": "execute_result"
    }
   ],
   "source": [
    "meow(Leon(\"marrón\",\"ROAAR\"))"
   ]
  },
  {
   "cell_type": "code",
   "execution_count": 55,
   "metadata": {},
   "outputs": [
    {
     "data": {
      "text/plain": [
       "\"grrr\""
      ]
     },
     "execution_count": 55,
     "metadata": {},
     "output_type": "execute_result"
    }
   ],
   "source": [
    "meow(Pantera())"
   ]
  },
  {
   "cell_type": "markdown",
   "metadata": {},
   "source": [
    "# Caracteristicas avanzadas del lenguaje"
   ]
  },
  {
   "cell_type": "markdown",
   "metadata": {},
   "source": [
    "Diseñado para paralelismo y computción distribuida\n",
    "\n",
    "Corutinas también llamadas: Lightweight threading\n",
    "\n",
    "Macros parecidos a los de Lisp y otras facilidades para metaprogramacion\n",
    "\n",
    "Acepta multiple dispach"
   ]
  },
  {
   "cell_type": "markdown",
   "metadata": {},
   "source": [
    "# Paralelismo"
   ]
  },
  {
   "cell_type": "markdown",
   "metadata": {
    "collapsed": true
   },
   "source": [
    "- El paralelismo en Julia se hace por CPU, no GPU.\n",
    "\n",
    "- Los procesos se llaman Workers con un ID específico."
   ]
  },
  {
   "cell_type": "code",
   "execution_count": 56,
   "metadata": {},
   "outputs": [
    {
     "name": "stdout",
     "output_type": "stream",
     "text": [
      "1\n",
      "2\n"
     ]
    }
   ],
   "source": [
    "println(nprocs())\n",
    "addprocs(1)\n",
    "println(nprocs())"
   ]
  },
  {
   "cell_type": "code",
   "execution_count": 57,
   "metadata": {},
   "outputs": [
    {
     "name": "stdout",
     "output_type": "stream",
     "text": [
      "2\n"
     ]
    }
   ],
   "source": [
    "for w in workers()\n",
    "    rref=remotecall(myid, w)\n",
    "    sleep(1)\n",
    "    println(fetch(rref))\n",
    "end"
   ]
  },
  {
   "cell_type": "code",
   "execution_count": 58,
   "metadata": {},
   "outputs": [
    {
     "name": "stdout",
     "output_type": "stream",
     "text": [
      "54991959\n"
     ]
    }
   ],
   "source": [
    "@everywhere function random_num(n)\n",
    "    c::Int = 0\n",
    "    for i = 1:n\n",
    "        c += rand(Bool)\n",
    "    end\n",
    "    c\n",
    "end\n",
    "\n",
    "a = @spawn random_num(100000000)\n",
    "\n",
    "b = @spawn random_num(10000000)\n",
    "\n",
    "println(fetch(a)+fetch(b)) #reducción"
   ]
  },
  {
   "cell_type": "code",
   "execution_count": 59,
   "metadata": {},
   "outputs": [
    {
     "name": "stdout",
     "output_type": "stream",
     "text": [
      "false\n",
      "Task (runnable) @0x00007f507888a0e0\n",
      "1\n",
      "2\n",
      "4\n",
      "Any[nothing]\n"
     ]
    }
   ],
   "source": [
    "# Se genera la lista de tasks\n",
    "t = @task Any[ for x in [1,2,4] println(x) end ]\n",
    "\n",
    "# No hay tasks?\n",
    "println(istaskdone(t))\n",
    "\n",
    "# Cual es la siguiente task?\n",
    "println(current_task())\n",
    "\n",
    "# Ejecutar task\n",
    "println(consume(t))"
   ]
  },
  {
   "cell_type": "code",
   "execution_count": null,
   "metadata": {},
   "outputs": [
    {
     "name": "stdout",
     "output_type": "stream",
     "text": [
      "3\n",
      "4\n",
      "5\n",
      "6\n"
     ]
    }
   ],
   "source": [
    "c1 = Channel(32)\n",
    "put!(c1,3)\n",
    "put!(c1,4)\n",
    "c2 = Channel(32)\n",
    "\n",
    "# foo() lee un item de c1, lo imprime y lo escribe en c2\n",
    "function foo()\n",
    "    while true\n",
    "        data = take!(c1)\n",
    "        println(data)\n",
    "        result = data + 2\n",
    "        put!(c2, result)   \n",
    "    end\n",
    "end\n",
    "\n",
    "# con @schedule podemos hacer que varias instancias de foo() estén activas concurrentemente.\n",
    "for i in 1:3\n",
    "    @schedule foo()\n",
    "end\n",
    "\n",
    "for i in 1:3\n",
    "    data= take!(c2)\n",
    "    println(data)\n",
    "end"
   ]
  },
  {
   "cell_type": "code",
   "execution_count": null,
   "metadata": {
    "scrolled": true
   },
   "outputs": [],
   "source": [
    "c = Channel(0)\n",
    "\n",
    "task = @schedule foreach(i->put!(c, i), 1:4)\n",
    "\n",
    "bind(c,task)\n",
    "\n",
    "for i in c\n",
    "    @show i\n",
    "end\n",
    "\n",
    "isopen(c)"
   ]
  },
  {
   "cell_type": "markdown",
   "metadata": {},
   "source": [
    "### Machine Learning\n",
    "#### KMeans: se inicializan k-centroides y se asigna a cada punto del set de datos el centroide más cercano. Se recalculan los centroides como promedio de todos los puntos y se repite hasta lograr la convergencia."
   ]
  },
  {
   "cell_type": "code",
   "execution_count": 1,
   "metadata": {},
   "outputs": [
    {
     "data": {
      "text/plain": [
       "(3000,2)"
      ]
     },
     "execution_count": 1,
     "metadata": {},
     "output_type": "execute_result"
    }
   ],
   "source": [
    "using RDatasets\n",
    "xclara = dataset(\"cluster\", \"xclara\")\n",
    "size(xclara)"
   ]
  },
  {
   "cell_type": "code",
   "execution_count": 2,
   "metadata": {},
   "outputs": [
    {
     "name": "stdout",
     "output_type": "stream",
     "text": [
      "[Plots.jl] Initializing backend: pyplot\n"
     ]
    },
    {
     "data": {
      "text/html": [
       "<img src=\"data:image/png;base64,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\" />"
      ]
     },
     "execution_count": 2,
     "metadata": {},
     "output_type": "execute_result"
    }
   ],
   "source": [
    "x = xclara[:V1]\n",
    "y = xclara[:V2]\n",
    "using Plots\n",
    "scatter(x, y ,alpha=0.5)"
   ]
  },
  {
   "cell_type": "code",
   "execution_count": 3,
   "metadata": {},
   "outputs": [
    {
     "name": "stderr",
     "output_type": "stream",
     "text": [
      "sys:1: MatplotlibDeprecationWarning: The set_axis_bgcolor function was deprecated in version 2.0. Use set_facecolor instead.\n"
     ]
    },
    {
     "data": {
      "text/plain": [
       "Clustering.KmeansResult{Float64}(2x3 Array{Float64,2}:\n",
       " 40.6836   69.9242   9.47805\n",
       " 59.7159  -10.1196  10.6861 ,[3,3,3,3,3,3,3,3,3,3  …  2,2,2,2,2,2,2,2,2,2],[248.826,97.5463,81.803,16.542,268.662,671.193,182.102,25.6328,234.163,256.382  …  466.729,9.36828,133.564,226.749,262.743,260.775,225.043,29.9449,437.147,243.235],[1149,952,899],[1149.0,952.0,899.0],611605.8806933898,4,true)"
      ]
     },
     "execution_count": 3,
     "metadata": {},
     "output_type": "execute_result"
    }
   ],
   "source": [
    "using Clustering\n",
    "\n",
    "xclara = convert(Array, xclara)\n",
    "xclara = xclara'\n",
    "xclara_kmeans = kmeans(xclara, 3)"
   ]
  },
  {
   "cell_type": "markdown",
   "metadata": {},
   "source": [
    "#### DBSCAN: otro algoritmo de clustering. Este no recibe la cantidad de clusters como hiperparámetro y tiene la capacidad de manejar mejor los puntos entre clusters"
   ]
  },
  {
   "cell_type": "code",
   "execution_count": 4,
   "metadata": {},
   "outputs": [
    {
     "data": {
      "text/plain": [
       "3-element Array{Int64,1}:\n",
       " 274\n",
       " 603\n",
       " 356"
      ]
     },
     "execution_count": 4,
     "metadata": {},
     "output_type": "execute_result"
    }
   ],
   "source": [
    "using Distances\n",
    "dclara = pairwise(SqEuclidean(), xclara);\n",
    "\n",
    "xclara_dbscan = dbscan(dclara, 10, 40);\n",
    "xclara_dbscan.counts "
   ]
  },
  {
   "cell_type": "markdown",
   "metadata": {},
   "source": [
    "# Estadisticas"
   ]
  },
  {
   "cell_type": "markdown",
   "metadata": {
    "collapsed": true
   },
   "source": [
    "Index TIOBE Mayo 2018\n",
    "\n",
    "<img src=\"images/TIOBEMay2018.jpg\">"
   ]
  },
  {
   "cell_type": "markdown",
   "metadata": {},
   "source": [
    "Populridad en Githut en 2018\n",
    "\n",
    "<img src=\"images/githut.jpg\">"
   ]
  },
  {
   "cell_type": "markdown",
   "metadata": {},
   "source": [
    "Popularidad de lenguajes en ofertas laborales en cuanto a machine learning o data science en 2016\n",
    "\n",
    "<img src=\"images/trends0.png\">"
   ]
  },
  {
   "cell_type": "markdown",
   "metadata": {},
   "source": [
    "Pero cuando cambiamos a la popularidad relativa.\n",
    "\n",
    "<img src=\"images/trendsrelative0.png\">"
   ]
  },
  {
   "cell_type": "markdown",
   "metadata": {},
   "source": [
    "# Comparacion otros lenguajes"
   ]
  },
  {
   "cell_type": "markdown",
   "metadata": {
    "collapsed": true
   },
   "source": [
    "Julia vs Python\n",
    "\n",
    "Ventajas de Juila:\n",
    "\n",
    "- Rápido por default.\n",
    "\n",
    "- Sintaxis amigable para matemáticas.\n",
    "\n",
    "- No se pierde el manejo automatico de memoria.\n",
    "\n",
    "- Paralelismo."
   ]
  },
  {
   "cell_type": "markdown",
   "metadata": {},
   "source": [
    "Ventajas de Python:\n",
    "\n",
    "- Los arrays de Julia son indexados a partir del 1.\n",
    "\n",
    "- Julia todavía es un lenguaje muy nuevo.\n",
    "\n",
    "- Python tiene más paquetes creados para el lenguaje.\n",
    "\n",
    "- Python tiene una comunidad más grande."
   ]
  },
  {
   "cell_type": "markdown",
   "metadata": {},
   "source": [
    "#### Comparación con Python: cálculo de la traza de una matriz de 10mil x 10mil"
   ]
  },
  {
   "cell_type": "code",
   "execution_count": 5,
   "metadata": {},
   "outputs": [
    {
     "data": {
      "text/plain": [
       "10000x10000 Array{Float64,2}:\n",
       " 5.83635  0.801637  1.53089    9.32805   …  4.03152   0.936169   5.71055 \n",
       " 8.42927  5.61736   6.77338    5.37007      2.18557   4.0473     7.51611 \n",
       " 1.42375  7.17622   7.3074     8.52109      0.819241  0.0287846  2.87107 \n",
       " 1.57988  5.75436   5.56136    9.09346      6.29997   0.532661   3.83066 \n",
       " 7.73449  5.67205   3.52999    2.10839      3.45105   6.53447    8.04743 \n",
       " 9.17989  7.56135   5.05742    6.86055   …  4.53337   7.1566     1.82115 \n",
       " 9.68174  5.61353   4.91873    4.5631       3.87334   3.99482    4.51226 \n",
       " 8.94475  8.88375   1.5531     2.09672      7.92521   8.70809    6.24432 \n",
       " 4.99393  3.94158   6.68003    2.42751      1.09468   4.83521    5.71695 \n",
       " 1.11319  3.62199   9.46925    6.90728      5.90677   8.40388    8.81532 \n",
       " 8.30654  8.59906   8.40079    6.53637   …  8.27774   2.97788    5.15341 \n",
       " 9.85599  0.842683  9.75291    5.87517      0.507622  3.7632     3.30115 \n",
       " 6.20567  8.011     4.96731    6.86186      7.64171   6.77137    7.1637  \n",
       " ⋮                                       ⋱                               \n",
       " 6.08538  6.16937   0.0169237  5.73581      5.5914    3.72911    4.61442 \n",
       " 6.35818  1.01712   5.23829    3.5347       4.44684   0.650873   0.961832\n",
       " 1.17182  6.92227   6.38482    8.45379   …  1.26015   5.16138    9.12629 \n",
       " 7.07814  5.64029   1.2241     4.97366      6.58339   0.712039   5.92528 \n",
       " 1.95887  0.111202  9.65563    8.1249       7.88424   3.46496    3.24831 \n",
       " 2.43333  7.2268    7.25226    1.28916      2.67655   3.0476     6.27992 \n",
       " 6.57413  5.41215   1.89511    1.68263      0.687727  7.71738    0.746703\n",
       " 7.51202  5.52751   1.20699    0.722479  …  0.578148  9.75255    5.60759 \n",
       " 9.85941  1.73837   3.8074     5.50933      0.499827  7.06503    8.88046 \n",
       " 9.17459  1.72374   9.56305    0.121277     7.70482   4.71224    1.67531 \n",
       " 5.71228  4.95407   7.22385    1.50234      8.74487   2.62694    9.76375 \n",
       " 2.40775  4.1598    1.76838    6.78914      0.48421   5.79443    5.69342 "
      ]
     },
     "execution_count": 5,
     "metadata": {},
     "output_type": "execute_result"
    }
   ],
   "source": [
    "using Distributions\n",
    "m = 10000\n",
    "matrix = rand(Uniform(0.0, 10.0), m, m)"
   ]
  },
  {
   "cell_type": "code",
   "execution_count": 7,
   "metadata": {},
   "outputs": [
    {
     "data": {
      "text/plain": [
       "0.00015735987"
      ]
     },
     "execution_count": 7,
     "metadata": {},
     "output_type": "execute_result"
    }
   ],
   "source": [
    "n = 0;\n",
    "for i in (1:100)\n",
    "    tic()\n",
    "    trace(matrix)\n",
    "    aux = toq()\n",
    "    n = n + aux\n",
    "end\n",
    "\n",
    "n/100"
   ]
  },
  {
   "cell_type": "markdown",
   "metadata": {},
   "source": [
    "Python:\n",
    "\n",
    "<img src=\"images/tp01.jpg\">"
   ]
  },
  {
   "cell_type": "markdown",
   "metadata": {},
   "source": [
    "# Casos de estudios"
   ]
  },
  {
   "cell_type": "markdown",
   "metadata": {},
   "source": [
    "En 2015, el banco de reserva federal de nueva york uso julia para hacer modelos de la economía de los estados unidos.\n",
    "\n",
    "Notaron que el modelo hecho con el lenguaje era 10 veces más rapido que el anterior (hecho con MATLAB) dado por:\n",
    "\n",
    "- Un sistema flexible y potente que proporciona una forma natural de estructurar y simplificar la base de código.\n",
    "\n",
    "- Multiple dispatch, lo que les permitió escribir un código más genérico.\n",
    "\n",
    "- Un potente compilador que aumentó el rendimiento.\n"
   ]
  },
  {
   "cell_type": "markdown",
   "metadata": {},
   "source": [
    "El proyecto Celste que cataloga estrellas y galaxias en el Apache Point Observatory de Nevo Mexico logró un gran numero de hitos:\n",
    "\n",
    "- Logró rendimiento pico de 1.54 petaFLOPS usando 1.3 millones de threads.\n",
    "\n",
    "- Agregó ~178 terabytes de datos en imagenes.\n",
    "\n",
    "- Produjo parametros estimados para 188 millones de estrellas y galaxias en 14.6 minutos.\n",
    "\n",
    "- Proporcionó no solo estimaciones para las fuentes de luz sino que, por primera vez proporcionó una medida de principios de la calidad de la inferencia para cada fuente de luz."
   ]
  },
  {
   "cell_type": "markdown",
   "metadata": {},
   "source": [
    "# Conclusion"
   ]
  },
  {
   "cell_type": "markdown",
   "metadata": {
    "collapsed": true
   },
   "source": []
  }
 ],
 "metadata": {
  "celltoolbar": "Raw Cell Format",
  "kernelspec": {
   "display_name": "Julia 0.4.7",
   "language": "julia",
   "name": "julia-0.4"
  },
  "language_info": {
   "file_extension": ".jl",
   "mimetype": "application/julia",
   "name": "julia",
   "version": "0.4.7"
  }
 },
 "nbformat": 4,
 "nbformat_minor": 2
}
